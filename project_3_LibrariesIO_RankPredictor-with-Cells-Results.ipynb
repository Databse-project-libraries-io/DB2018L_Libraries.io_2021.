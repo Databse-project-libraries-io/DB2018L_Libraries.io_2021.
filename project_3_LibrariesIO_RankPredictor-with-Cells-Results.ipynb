{
  "nbformat": 4,
  "nbformat_minor": 0,
  "metadata": {
    "colab": {
      "name": "project_3_LibrariesIO_RankPredictor.ipynb",
      "provenance": [],
      "collapsed_sections": [],
      "toc_visible": true
    },
    "kernelspec": {
      "display_name": "Python 3",
      "name": "python3"
    }
  },
  "cells": [
    {
      "cell_type": "markdown",
      "metadata": {
        "id": "U5JUMgc_gbHp"
      },
      "source": [
        "# CS145: Project 3 | Project Name"
      ]
    },
    {
      "cell_type": "markdown",
      "metadata": {
        "id": "EHDiv4GrhofN"
      },
      "source": [
        "## Collaborators:\n",
        "Please list the names and SUNet IDs of your collaborators below:\n",
        "* *Muhammad Zubair, 2018-CE-230\n",
        "* *Hanan Anjum, 2018-CE-216"
      ]
    },
    {
      "cell_type": "markdown",
      "metadata": {
        "id": "efu4X-EvYl0X"
      },
      "source": [
        "**Setting Up BigQuery and Dependencies**"
      ]
    },
    {
      "cell_type": "code",
      "metadata": {
        "id": "bmebYOa7X5GF"
      },
      "source": [
        "# Run this cell to authenticate yourself to BigQuery\n",
        "from google.colab import auth\n",
        "auth.authenticate_user()\n",
        "project_id = \"db-prj1\""
      ],
      "execution_count": null,
      "outputs": []
    },
    {
      "cell_type": "code",
      "metadata": {
        "id": "ziAqZvw6YFFt"
      },
      "source": [
        "# Initialize BiqQuery client\n",
        "from google.cloud import bigquery\n",
        "client = bigquery.Client(project=project_id)"
      ],
      "execution_count": null,
      "outputs": []
    },
    {
      "cell_type": "code",
      "metadata": {
        "id": "bkX3exKzf4n9"
      },
      "source": [
        "# Add imports for any visualization libraries you may need\n",
        "import matplotlib.pyplot as plt\n",
        "\n",
        "%matplotlib inline"
      ],
      "execution_count": null,
      "outputs": []
    },
    {
      "cell_type": "markdown",
      "metadata": {
        "id": "gMNQWFvSgepX"
      },
      "source": [
        "## Project Overview"
      ]
    },
    {
      "cell_type": "markdown",
      "metadata": {
        "id": "lX1Jkglwg1SI"
      },
      "source": [
        "---\n",
        "\n",
        "The aim of our project is to go through “Querying, Visualizing, Predicting -- The Full Data Cycle” after selecting appropriate dataset from Bigquery. \n",
        "\n",
        "We will work on following Research Question:\n",
        "   \n",
        "   \"*Given a project information, what is its ranking(popularity level)?*\"\n",
        "\n",
        "\n",
        "We will analyze different features of a Project in Bigquery dataset 'libraries.io', and select some important features that could help in predicting the 'Ranking' of project.\n",
        "\n",
        "\n",
        "Finally, we will use Bigquery AI to train a model that predicts the 'Ranking' of a project.\n",
        "\n",
        "\n",
        "---\n"
      ]
    },
    {
      "cell_type": "markdown",
      "metadata": {
        "id": "ENOtaFvhc9yJ"
      },
      "source": [
        "## Analysis of Dataset"
      ]
    },
    {
      "cell_type": "markdown",
      "metadata": {
        "id": "7ykxsDvMc9yU"
      },
      "source": [
        "---\n",
        "\n",
        "We have selected a table named “projects” in “libraries.io” bigquery public dataset.\n",
        "\n",
        "Dataset description:\n",
        "\n",
        "\n",
        "*   Libraries.io gathers data on open source software from 33 package managers and 3 source code repositories. It track over 2.4m unique open source projects, 25m repositories and 121m interdependencies between them. This gives Libraries.io a unique understanding of open source software.\n",
        "*   We find data about software distributed and/or crafted publicly on the Internet.\n",
        "*   We will find information about its development, its distribution and its relationship with other software included as a dependency.\n",
        "*   There is no information about the individuals who create and maintain these projects\n",
        "\n",
        "Dataset size & complexity:\n",
        "\n",
        "\n",
        "*   7 tables total, we will only use 2\n",
        "*   projects table(size=900mb)\n",
        "*   repositories table(size=6gb) \n",
        "\n",
        "Tables organization:\n",
        "*   projects table contain \n",
        "\n",
        "---\n"
      ]
    },
    {
      "cell_type": "markdown",
      "metadata": {
        "id": "Fc_clta9g3H5"
      },
      "source": [
        "## Data Exploration"
      ]
    },
    {
      "cell_type": "markdown",
      "metadata": {
        "id": "c6wGQ8ZPgyuJ"
      },
      "source": [
        "---\n",
        "\n",
        "**--> Maximum and Minimum Ranking of Projects**\n",
        "\n",
        "----"
      ]
    },
    {
      "cell_type": "code",
      "metadata": {
        "colab": {
          "base_uri": "https://localhost:8080/",
          "height": 80
        },
        "id": "8tHRHqiZapgp",
        "outputId": "8f90004d-5752-4272-d905-d90de5b935f8"
      },
      "source": [
        "%%bigquery --project $project_id\n",
        "SELECT max(sourcerank) as maximum_ranking, min(sourcerank) as minimum_ranking FROM `bigquery-public-data.libraries_io.projects`"
      ],
      "execution_count": null,
      "outputs": [
        {
          "output_type": "execute_result",
          "data": {
            "text/html": [
              "<div>\n",
              "<style scoped>\n",
              "    .dataframe tbody tr th:only-of-type {\n",
              "        vertical-align: middle;\n",
              "    }\n",
              "\n",
              "    .dataframe tbody tr th {\n",
              "        vertical-align: top;\n",
              "    }\n",
              "\n",
              "    .dataframe thead th {\n",
              "        text-align: right;\n",
              "    }\n",
              "</style>\n",
              "<table border=\"1\" class=\"dataframe\">\n",
              "  <thead>\n",
              "    <tr style=\"text-align: right;\">\n",
              "      <th></th>\n",
              "      <th>maximum_ranking</th>\n",
              "      <th>minimum_ranking</th>\n",
              "    </tr>\n",
              "  </thead>\n",
              "  <tbody>\n",
              "    <tr>\n",
              "      <th>0</th>\n",
              "      <td>34</td>\n",
              "      <td>0</td>\n",
              "    </tr>\n",
              "  </tbody>\n",
              "</table>\n",
              "</div>"
            ],
            "text/plain": [
              "   maximum_ranking  minimum_ranking\n",
              "0               34                0"
            ]
          },
          "metadata": {
            "tags": []
          },
          "execution_count": 8
        }
      ]
    },
    {
      "cell_type": "markdown",
      "metadata": {
        "id": "y37tUZtPYWXy"
      },
      "source": [
        "**--> Ranking Distribution**"
      ]
    },
    {
      "cell_type": "code",
      "metadata": {
        "id": "O0NNZyMraYSG"
      },
      "source": [
        "%%bigquery --project $project_id ranking_dist\n",
        "\n",
        "SELECT\n",
        "  sourcerank,\n",
        "  count(*) no_rows\n",
        "FROM\n",
        "  `bigquery-public-data.libraries_io.projects`\n",
        "  group by sourcerank"
      ],
      "execution_count": null,
      "outputs": []
    },
    {
      "cell_type": "code",
      "metadata": {
        "colab": {
          "base_uri": "https://localhost:8080/",
          "height": 316
        },
        "id": "fKsqaoSpbEbg",
        "outputId": "4a893969-e875-49a8-b5e6-c4515606fb7a"
      },
      "source": [
        "plt.figure()\n",
        "plt.scatter(ranking_dist[\"no_rows\"], ranking_dist[\"sourcerank\"])\n",
        "plt.title(\"Ranking Distribution\")\n",
        "plt.xscale('symlog')\n",
        "plt.xlabel(\"No of Rows\")\n",
        "plt.ylabel(\"ranking\")"
      ],
      "execution_count": null,
      "outputs": [
        {
          "output_type": "execute_result",
          "data": {
            "text/plain": [
              "Text(0, 0.5, 'ranking')"
            ]
          },
          "metadata": {
            "tags": []
          },
          "execution_count": 7
        },
        {
          "output_type": "display_data",
          "data": {
            "image/png": "[encoded data removed]",
            "text/plain": [
              "<Figure size 432x288 with 1 Axes>"
            ]
          },
          "metadata": {
            "tags": []
          }
        }
      ]
    },
    {
      "cell_type": "markdown",
      "metadata": {
        "id": "SmieBEkxZ5YB"
      },
      "source": [
        "**--> Exploring important features that determine Ranking**"
      ]
    },
    {
      "cell_type": "markdown",
      "metadata": {
        "id": "gbrx83dCkvGb"
      },
      "source": [
        "***1) Dependent_projects_count relation with Ranking***"
      ]
    },
    {
      "cell_type": "code",
      "metadata": {
        "id": "7LBAAvDwhpCD"
      },
      "source": [
        "%%bigquery --project $project_id dependent_prj\n",
        "\n",
        "SELECT sourcerank,dependent_projects_count FROM `bigquery-public-data.libraries_io.projects`"
      ],
      "execution_count": null,
      "outputs": []
    },
    {
      "cell_type": "code",
      "metadata": {
        "colab": {
          "base_uri": "https://localhost:8080/",
          "height": 317
        },
        "id": "Fixjesuph5BV",
        "outputId": "08631771-54f2-4318-cd85-0be66700b97b"
      },
      "source": [
        "plt.figure()\n",
        "plt.scatter(dependent_prj[\"dependent_projects_count\"], dependent_prj[\"sourcerank\"])\n",
        "plt.title(\"Ranking dependence on Dependent_Projects_count\")\n",
        "plt.xscale('symlog')\n",
        "plt.xlabel(\"dependent_projects_count\")\n",
        "plt.ylabel(\"ranking\")"
      ],
      "execution_count": null,
      "outputs": [
        {
          "output_type": "execute_result",
          "data": {
            "text/plain": [
              "Text(0, 0.5, 'ranking')"
            ]
          },
          "metadata": {
            "tags": []
          },
          "execution_count": 24
        },
        {
          "output_type": "display_data",
          "data": {
            "image/png": "[encoded data removed]",
            "text/plain": [
              "<Figure size 432x288 with 1 Axes>"
            ]
          },
          "metadata": {
            "tags": []
          }
        }
      ]
    },
    {
      "cell_type": "markdown",
      "metadata": {
        "id": "0TY29JV2k6xd"
      },
      "source": [
        "***2) Dependent_repos_count relation with Ranking***"
      ]
    },
    {
      "cell_type": "code",
      "metadata": {
        "id": "xX2YxaK8kUaN"
      },
      "source": [
        "%%bigquery --project $project_id dependent_repos\n",
        "\n",
        "SELECT sourcerank,dependent_repositories_count FROM `bigquery-public-data.libraries_io.projects`"
      ],
      "execution_count": null,
      "outputs": []
    },
    {
      "cell_type": "code",
      "metadata": {
        "colab": {
          "base_uri": "https://localhost:8080/",
          "height": 317
        },
        "id": "pyaxgMlOkUam",
        "outputId": "ec933de5-773c-4787-b3b4-502854079a6f"
      },
      "source": [
        "plt.figure()\n",
        "plt.scatter(dependent_repos[\"dependent_repositories_count\"], dependent_repos[\"sourcerank\"])\n",
        "plt.title(\"Ranking dependence on Dependent_repos_count\")\n",
        "plt.xscale('symlog')\n",
        "plt.xlabel(\"dependent_repos_count\")\n",
        "plt.ylabel(\"ranking\")"
      ],
      "execution_count": null,
      "outputs": [
        {
          "output_type": "execute_result",
          "data": {
            "text/plain": [
              "Text(0, 0.5, 'ranking')"
            ]
          },
          "metadata": {
            "tags": []
          },
          "execution_count": 27
        },
        {
          "output_type": "display_data",
          "data": {
            "image/png": "[encoded data removed]",
            "text/plain": [
              "<Figure size 432x288 with 1 Axes>"
            ]
          },
          "metadata": {
            "tags": []
          }
        }
      ]
    },
    {
      "cell_type": "markdown",
      "metadata": {
        "id": "OsMMIDrjg_YG"
      },
      "source": [
        "---\n",
        "\n",
        "*TODO: Exploring your questions, with appropriate visualizations*\n",
        "\n",
        "---"
      ]
    },
    {
      "cell_type": "markdown",
      "metadata": {
        "id": "2mBTF94yLUH4"
      },
      "source": [
        "***3) versions_count relation with Ranking***"
      ]
    },
    {
      "cell_type": "code",
      "metadata": {
        "id": "b9xDblkXLUIl"
      },
      "source": [
        "%%bigquery --project $project_id versions_count\n",
        "\n",
        "SELECT sourcerank,versions_count FROM `bigquery-public-data.libraries_io.projects`"
      ],
      "execution_count": null,
      "outputs": []
    },
    {
      "cell_type": "code",
      "metadata": {
        "colab": {
          "base_uri": "https://localhost:8080/",
          "height": 317
        },
        "id": "r-Z6mojoLUIn",
        "outputId": "361b46cd-4aa6-4d38-a7cf-9d00c5db784d"
      },
      "source": [
        "plt.figure()\n",
        "plt.scatter(versions_count[\"versions_count\"], versions_count[\"sourcerank\"])\n",
        "plt.title(\"Ranking dependence on versions_count\")\n",
        "plt.xscale('symlog')\n",
        "plt.xlabel(\"versions_count\")\n",
        "plt.ylabel(\"ranking\")"
      ],
      "execution_count": null,
      "outputs": [
        {
          "output_type": "execute_result",
          "data": {
            "text/plain": [
              "Text(0, 0.5, 'ranking')"
            ]
          },
          "metadata": {
            "tags": []
          },
          "execution_count": 36
        },
        {
          "output_type": "display_data",
          "data": {
            "image/png": "[encoded data removed]",
            "text/plain": [
              "<Figure size 432x288 with 1 Axes>"
            ]
          },
          "metadata": {
            "tags": []
          }
        }
      ]
    },
    {
      "cell_type": "markdown",
      "metadata": {
        "id": "9EVQmMcnTofv"
      },
      "source": [
        "***4) language relation with Ranking***"
      ]
    },
    {
      "cell_type": "code",
      "metadata": {
        "id": "u8llIHPxTofw"
      },
      "source": [
        "%%bigquery --project $project_id language_rank\n",
        "\n",
        "SELECT round(avg(sourcerank),1) as avg_rank,language FROM `bigquery-public-data.libraries_io.projects` group by language order by avg_rank desc limit 5"
      ],
      "execution_count": null,
      "outputs": []
    },
    {
      "cell_type": "code",
      "metadata": {
        "colab": {
          "base_uri": "https://localhost:8080/",
          "height": 312
        },
        "id": "mk1m6BtVTofw",
        "outputId": "37c7252d-e44b-4feb-8d05-9305a9c3b651"
      },
      "source": [
        "plt.figure()\n",
        "plt.scatter(language_rank[\"language\"],language_rank[\"avg_rank\"])\n",
        "plt.title(\"Ranking dependence on language\")\n",
        "plt.xlabel(\"Language used\")\n",
        "plt.ylabel(\"Average ranking\")"
      ],
      "execution_count": null,
      "outputs": [
        {
          "output_type": "execute_result",
          "data": {
            "text/plain": [
              "Text(0, 0.5, 'Average ranking')"
            ]
          },
          "metadata": {
            "tags": []
          },
          "execution_count": 15
        },
        {
          "output_type": "display_data",
          "data": {
            "image/png": "[encoded data removed]",
            "text/plain": [
              "<Figure size 432x288 with 1 Axes>"
            ]
          },
          "metadata": {
            "tags": []
          }
        }
      ]
    },
    {
      "cell_type": "code",
      "metadata": {
        "colab": {
          "base_uri": "https://localhost:8080/",
          "height": 359
        },
        "id": "ANmG8OaKQO01",
        "outputId": "f9745f3b-4fac-416c-af3b-889b6e2a26ba"
      },
      "source": [
        "%%bigquery --project $project_id\n",
        "\n",
        "SELECT\n",
        "  COUNT(*) AS projects_count,\n",
        "  ROUND(AVG(sourcerank),1) AS avg_rank,\n",
        "  LANGUAGE\n",
        "FROM\n",
        "  `bigquery-public-data.libraries_io.projects`\n",
        "GROUP BY\n",
        "  LANGUAGE\n",
        "ORDER BY\n",
        "  projects_count DESC\n",
        "LIMIT\n",
        "  10"
      ],
      "execution_count": null,
      "outputs": [
        {
          "output_type": "execute_result",
          "data": {
            "text/html": [
              "<div>\n",
              "<style scoped>\n",
              "    .dataframe tbody tr th:only-of-type {\n",
              "        vertical-align: middle;\n",
              "    }\n",
              "\n",
              "    .dataframe tbody tr th {\n",
              "        vertical-align: top;\n",
              "    }\n",
              "\n",
              "    .dataframe thead th {\n",
              "        text-align: right;\n",
              "    }\n",
              "</style>\n",
              "<table border=\"1\" class=\"dataframe\">\n",
              "  <thead>\n",
              "    <tr style=\"text-align: right;\">\n",
              "      <th></th>\n",
              "      <th>projects_count</th>\n",
              "      <th>avg_rank</th>\n",
              "      <th>LANGUAGE</th>\n",
              "    </tr>\n",
              "  </thead>\n",
              "  <tbody>\n",
              "    <tr>\n",
              "      <th>0</th>\n",
              "      <td>990713</td>\n",
              "      <td>2.8</td>\n",
              "      <td>Go</td>\n",
              "    </tr>\n",
              "    <tr>\n",
              "      <th>1</th>\n",
              "      <td>896185</td>\n",
              "      <td>2.6</td>\n",
              "      <td>None</td>\n",
              "    </tr>\n",
              "    <tr>\n",
              "      <th>2</th>\n",
              "      <td>560635</td>\n",
              "      <td>5.8</td>\n",
              "      <td>JavaScript</td>\n",
              "    </tr>\n",
              "    <tr>\n",
              "      <th>3</th>\n",
              "      <td>217142</td>\n",
              "      <td>5.8</td>\n",
              "      <td>PHP</td>\n",
              "    </tr>\n",
              "    <tr>\n",
              "      <th>4</th>\n",
              "      <td>101450</td>\n",
              "      <td>6.1</td>\n",
              "      <td>Python</td>\n",
              "    </tr>\n",
              "    <tr>\n",
              "      <th>5</th>\n",
              "      <td>100939</td>\n",
              "      <td>7.0</td>\n",
              "      <td>Ruby</td>\n",
              "    </tr>\n",
              "    <tr>\n",
              "      <th>6</th>\n",
              "      <td>71116</td>\n",
              "      <td>7.1</td>\n",
              "      <td>Java</td>\n",
              "    </tr>\n",
              "    <tr>\n",
              "      <th>7</th>\n",
              "      <td>54967</td>\n",
              "      <td>4.4</td>\n",
              "      <td>TypeScript</td>\n",
              "    </tr>\n",
              "    <tr>\n",
              "      <th>8</th>\n",
              "      <td>51589</td>\n",
              "      <td>6.2</td>\n",
              "      <td>C#</td>\n",
              "    </tr>\n",
              "    <tr>\n",
              "      <th>9</th>\n",
              "      <td>32107</td>\n",
              "      <td>5.7</td>\n",
              "      <td>CSS</td>\n",
              "    </tr>\n",
              "  </tbody>\n",
              "</table>\n",
              "</div>"
            ],
            "text/plain": [
              "   projects_count  avg_rank    LANGUAGE\n",
              "0          990713       2.8          Go\n",
              "1          896185       2.6        None\n",
              "2          560635       5.8  JavaScript\n",
              "3          217142       5.8         PHP\n",
              "4          101450       6.1      Python\n",
              "5          100939       7.0        Ruby\n",
              "6           71116       7.1        Java\n",
              "7           54967       4.4  TypeScript\n",
              "8           51589       6.2          C#\n",
              "9           32107       5.7         CSS"
            ]
          },
          "metadata": {
            "tags": []
          },
          "execution_count": 13
        }
      ]
    },
    {
      "cell_type": "code",
      "metadata": {
        "id": "2Q9aXdROSDUo"
      },
      "source": [
        ""
      ],
      "execution_count": null,
      "outputs": []
    },
    {
      "cell_type": "markdown",
      "metadata": {
        "id": "hcHtU1cFSFSD"
      },
      "source": [
        "***5) status relation with Ranking***"
      ]
    },
    {
      "cell_type": "code",
      "metadata": {
        "id": "pIW2nFnQSFSE"
      },
      "source": [
        "%%bigquery --project $project_id status\n",
        "\n",
        "SELECT\n",
        "  ROUND(AVG(sourcerank),2) avg_rank,\n",
        "IF\n",
        "  (status IS NULL,\n",
        "    'active',\n",
        "    status) AS status\n",
        "FROM\n",
        "  `bigquery-public-data.libraries_io.projects`\n",
        "GROUP BY\n",
        "  status\n",
        "ORDER BY\n",
        "  avg_rank DESC"
      ],
      "execution_count": null,
      "outputs": []
    },
    {
      "cell_type": "code",
      "metadata": {
        "colab": {
          "base_uri": "https://localhost:8080/",
          "height": 312
        },
        "id": "375r9B-7SFSE",
        "outputId": "c1c1566e-1237-4269-b27e-0b6001080eeb"
      },
      "source": [
        "plt.figure()\n",
        "plt.scatter(status[\"status\"], status[\"avg_rank\"])\n",
        "plt.title(\"Ranking dependence on status\")\n",
        "plt.xlabel(\"status\")\n",
        "plt.ylabel(\"Average ranking\")"
      ],
      "execution_count": null,
      "outputs": [
        {
          "output_type": "execute_result",
          "data": {
            "text/plain": [
              "Text(0, 0.5, 'Average ranking')"
            ]
          },
          "metadata": {
            "tags": []
          },
          "execution_count": 18
        },
        {
          "output_type": "display_data",
          "data": {
            "image/png": "[encoded data removed]",
            "text/plain": [
              "<Figure size 432x288 with 1 Axes>"
            ]
          },
          "metadata": {
            "tags": []
          }
        }
      ]
    },
    {
      "cell_type": "code",
      "metadata": {
        "colab": {
          "base_uri": "https://localhost:8080/",
          "height": 80
        },
        "id": "nXlG9UncUfoY",
        "outputId": "52292cc0-15cb-46ad-9d02-d8cbcec112c1"
      },
      "source": [
        "%%bigquery --project $project_id\n",
        "\n",
        "SELECT\n",
        "  sourcerank,\n",
        "  status\n",
        "FROM\n",
        "  `bigquery-public-data.libraries_io.projects`\n",
        "WHERE\n",
        "  status='Help Wanted'"
      ],
      "execution_count": null,
      "outputs": [
        {
          "output_type": "execute_result",
          "data": {
            "text/html": [
              "<div>\n",
              "<style scoped>\n",
              "    .dataframe tbody tr th:only-of-type {\n",
              "        vertical-align: middle;\n",
              "    }\n",
              "\n",
              "    .dataframe tbody tr th {\n",
              "        vertical-align: top;\n",
              "    }\n",
              "\n",
              "    .dataframe thead th {\n",
              "        text-align: right;\n",
              "    }\n",
              "</style>\n",
              "<table border=\"1\" class=\"dataframe\">\n",
              "  <thead>\n",
              "    <tr style=\"text-align: right;\">\n",
              "      <th></th>\n",
              "      <th>sourcerank</th>\n",
              "      <th>status</th>\n",
              "    </tr>\n",
              "  </thead>\n",
              "  <tbody>\n",
              "    <tr>\n",
              "      <th>0</th>\n",
              "      <td>14</td>\n",
              "      <td>Help Wanted</td>\n",
              "    </tr>\n",
              "  </tbody>\n",
              "</table>\n",
              "</div>"
            ],
            "text/plain": [
              "   sourcerank       status\n",
              "0          14  Help Wanted"
            ]
          },
          "metadata": {
            "tags": []
          },
          "execution_count": 19
        }
      ]
    },
    {
      "cell_type": "markdown",
      "metadata": {
        "id": "_Iep-sWzRnoB"
      },
      "source": [
        "**6) last_updated relation with Project Ranking**"
      ]
    },
    {
      "cell_type": "code",
      "metadata": {
        "id": "209xVdtRRnoD"
      },
      "source": [
        "%%bigquery --project $project_id last_updated\n",
        "\n",
        "SELECT\n",
        "  sourcerank,\n",
        "  TIMESTAMP_DIFF(CURRENT_TIMESTAMP(), updated_timestamp, second) AS time_since_last_update\n",
        "FROM\n",
        "  `bigquery-public-data.libraries_io.projects`"
      ],
      "execution_count": null,
      "outputs": []
    },
    {
      "cell_type": "code",
      "metadata": {
        "colab": {
          "base_uri": "https://localhost:8080/",
          "height": 312
        },
        "id": "pitiUiwpRnoF",
        "outputId": "5b119c0b-7c27-493d-86f8-dda04c809424"
      },
      "source": [
        "plt.figure()\n",
        "plt.scatter(last_updated[\"time_since_last_update\"], last_updated[\"sourcerank\"])\n",
        "plt.title(\"Project Ranking dependence on time_since_last_updated\")\n",
        "plt.xlabel(\"last update\")\n",
        "plt.ylabel(\"Project ranking\")"
      ],
      "execution_count": null,
      "outputs": [
        {
          "output_type": "execute_result",
          "data": {
            "text/plain": [
              "Text(0, 0.5, 'Project ranking')"
            ]
          },
          "metadata": {
            "tags": []
          },
          "execution_count": 8
        },
        {
          "output_type": "display_data",
          "data": {
            "image/png": "[encoded data removed]",
            "text/plain": [
              "<Figure size 432x288 with 1 Axes>"
            ]
          },
          "metadata": {
            "tags": []
          }
        }
      ]
    },
    {
      "cell_type": "markdown",
      "metadata": {
        "id": "nOC3KoBvidxX"
      },
      "source": [
        "**7) last_synced_timestamp relation with Project Ranking**"
      ]
    },
    {
      "cell_type": "code",
      "metadata": {
        "id": "m5STS6jOidxZ"
      },
      "source": [
        "%%bigquery --project $project_id last_synced\n",
        "\n",
        "SELECT\n",
        "  sourcerank,\n",
        "  TIMESTAMP_DIFF(CURRENT_TIMESTAMP(), last_synced_timestamp, second) AS time_since_last_synced\n",
        "FROM\n",
        "  `bigquery-public-data.libraries_io.projects`"
      ],
      "execution_count": null,
      "outputs": []
    },
    {
      "cell_type": "code",
      "metadata": {
        "colab": {
          "base_uri": "https://localhost:8080/",
          "height": 312
        },
        "id": "lJHovzxTidxb",
        "outputId": "c20d9a4d-3cc3-44a0-e4e2-aeefd0c12dea"
      },
      "source": [
        "plt.figure()\n",
        "plt.scatter(last_synced[\"time_since_last_synced\"], last_synced[\"sourcerank\"])\n",
        "plt.title(\"Project Ranking dependence on time_since_last_synced\")\n",
        "plt.xlabel(\"time since last synced\")\n",
        "plt.ylabel(\"Project ranking\")"
      ],
      "execution_count": null,
      "outputs": [
        {
          "output_type": "execute_result",
          "data": {
            "text/plain": [
              "Text(0, 0.5, 'Project ranking')"
            ]
          },
          "metadata": {
            "tags": []
          },
          "execution_count": 6
        },
        {
          "output_type": "display_data",
          "data": {
            "image/png": "[encoded data removed]",
            "text/plain": [
              "<Figure size 432x288 with 1 Axes>"
            ]
          },
          "metadata": {
            "tags": []
          }
        }
      ]
    },
    {
      "cell_type": "markdown",
      "metadata": {
        "id": "jKh2EVH1ifLG"
      },
      "source": [
        "**8) latest_release_publish_timestamp relation with Project Ranking**"
      ]
    },
    {
      "cell_type": "code",
      "metadata": {
        "colab": {
          "background_save": true
        },
        "id": "65uSre0aifLI"
      },
      "source": [
        "%%bigquery --project $project_id last_released\n",
        "\n",
        "SELECT\n",
        "  sourcerank,\n",
        "  TIMESTAMP_DIFF(CURRENT_TIMESTAMP(), latest_release_publish_timestamp, second) AS time_since_last_release\n",
        "FROM\n",
        "  `bigquery-public-data.libraries_io.projects`"
      ],
      "execution_count": null,
      "outputs": []
    },
    {
      "cell_type": "code",
      "metadata": {
        "colab": {
          "background_save": true,
          "base_uri": "https://localhost:8080/",
          "height": 312
        },
        "id": "tTrRbRQPifLL",
        "outputId": "d2928576-e013-4807-f2e6-7739bb2eb8de"
      },
      "source": [
        "plt.figure()\n",
        "plt.scatter(last_released[\"time_since_last_release\"], last_released[\"sourcerank\"])\n",
        "plt.title(\"Project Ranking dependence on time_since_last_release\")\n",
        "plt.xlabel(\"time_since_last_released\")\n",
        "plt.ylabel(\"Project ranking\")"
      ],
      "execution_count": null,
      "outputs": [
        {
          "output_type": "execute_result",
          "data": {
            "text/plain": [
              "Text(0, 0.5, 'Project ranking')"
            ]
          },
          "metadata": {
            "tags": []
          },
          "execution_count": 0
        },
        {
          "output_type": "display_data",
          "data": {
            "image/png": "[encoded data removed]",
            "text/plain": [
              "<Figure size 432x288 with 1 Axes>"
            ]
          },
          "metadata": {
            "tags": []
          }
        }
      ]
    },
    {
      "cell_type": "code",
      "metadata": {
        "id": "jtmKV3Jy0hg5"
      },
      "source": [
        ""
      ],
      "execution_count": null,
      "outputs": []
    },
    {
      "cell_type": "markdown",
      "metadata": {
        "id": "dai2c4bJ0iGZ"
      },
      "source": [
        "**9) keywords_length relation with Project Ranking**"
      ]
    },
    {
      "cell_type": "code",
      "metadata": {
        "id": "EEzNnJzY0iGe"
      },
      "source": [
        "%%bigquery --project $project_id keywords_length\n",
        "\n",
        "SELECT\n",
        "  sourcerank,\n",
        "  (LENGTH(keywords) - LENGTH(REPLACE(keywords,\",\",\"\")) + 1) AS keywords_length\n",
        "FROM\n",
        "  `bigquery-public-data.libraries_io.projects`"
      ],
      "execution_count": null,
      "outputs": []
    },
    {
      "cell_type": "code",
      "metadata": {
        "colab": {
          "base_uri": "https://localhost:8080/",
          "height": 317
        },
        "id": "t1_-gHmQ0iGg",
        "outputId": "662ac277-fd50-4954-efd8-ddc0096c1ee2"
      },
      "source": [
        "plt.figure()\n",
        "plt.scatter(keywords_length[\"keywords_length\"], keywords_length[\"sourcerank\"])\n",
        "plt.title(\"Project Ranking dependence on keywords_length\")\n",
        "plt.xscale('symlog')\n",
        "plt.xlabel(\"keywords_length\")\n",
        "plt.ylabel(\"Project ranking\")"
      ],
      "execution_count": null,
      "outputs": [
        {
          "output_type": "execute_result",
          "data": {
            "text/plain": [
              "Text(0, 0.5, 'Project ranking')"
            ]
          },
          "metadata": {
            "tags": []
          },
          "execution_count": 28
        },
        {
          "output_type": "display_data",
          "data": {
            "image/png": "[encoded data removed]",
            "text/plain": [
              "<Figure size 432x288 with 1 Axes>"
            ]
          },
          "metadata": {
            "tags": [],
            "needs_background": "light"
          }
        }
      ]
    },
    {
      "cell_type": "markdown",
      "metadata": {
        "id": "y8BbBV1b0pgo"
      },
      "source": [
        "**10) description_length relation with Project Ranking**"
      ]
    },
    {
      "cell_type": "code",
      "metadata": {
        "id": "bUM4A5wx0pgq"
      },
      "source": [
        "%%bigquery --project $project_id descrp_len\n",
        "\n",
        "SELECT\n",
        "  sourcerank,\n",
        "  length(description) AS desc_len\n",
        "FROM\n",
        "  `bigquery-public-data.libraries_io.projects`"
      ],
      "execution_count": null,
      "outputs": []
    },
    {
      "cell_type": "code",
      "metadata": {
        "colab": {
          "base_uri": "https://localhost:8080/",
          "height": 317
        },
        "id": "x4Dguerh0pgr",
        "outputId": "24d54c4c-6829-4838-8f98-b2b30cf9bbc7"
      },
      "source": [
        "plt.figure()\n",
        "plt.scatter(descrp_len[\"desc_len\"], descrp_len[\"sourcerank\"])\n",
        "plt.title(\"Project Ranking dependence on Description length\")\n",
        "plt.xscale('symlog')\n",
        "plt.xlabel(\"description_length\")\n",
        "plt.ylabel(\"Project ranking\")"
      ],
      "execution_count": null,
      "outputs": [
        {
          "output_type": "execute_result",
          "data": {
            "text/plain": [
              "Text(0, 0.5, 'Project ranking')"
            ]
          },
          "metadata": {
            "tags": []
          },
          "execution_count": 31
        },
        {
          "output_type": "display_data",
          "data": {
            "image/png": "[encoded data removed]",
            "text/plain": [
              "<Figure size 432x288 with 1 Axes>"
            ]
          },
          "metadata": {
            "tags": [],
            "needs_background": "light"
          }
        }
      ]
    },
    {
      "cell_type": "markdown",
      "metadata": {
        "id": "4rD5zXtxYzoO"
      },
      "source": [
        "***11) repo_stars_count relation with Project Ranking***"
      ]
    },
    {
      "cell_type": "code",
      "metadata": {
        "id": "a4zv0okNYzoW"
      },
      "source": [
        "%%bigquery --project $project_id repo_stars_count\n",
        "\n",
        "SELECT\n",
        "  repos.stars_count,\n",
        "  prjcts.sourcerank\n",
        "FROM\n",
        "  `bigquery-public-data.libraries_io.projects` prjcts\n",
        "JOIN\n",
        "  `bigquery-public-data.libraries_io.repositories` repos\n",
        "ON\n",
        "  prjcts.repository_id=repos.id\n",
        "ORDER BY\n",
        "  sourcerank DESC"
      ],
      "execution_count": null,
      "outputs": []
    },
    {
      "cell_type": "code",
      "metadata": {
        "colab": {
          "base_uri": "https://localhost:8080/",
          "height": 317
        },
        "id": "dPhukoTPYzoX",
        "outputId": "492db947-e60f-4d87-fb9d-f74eb88c84be"
      },
      "source": [
        "plt.figure()\n",
        "plt.scatter(repo_stars_count[\"stars_count\"], repo_stars_count[\"sourcerank\"])\n",
        "plt.title(\"Project Ranking dependence on repo's Star_count\")\n",
        "plt.xscale('symlog')\n",
        "plt.xlabel(\"Repo's Star_count\")\n",
        "plt.ylabel(\"Project ranking\")"
      ],
      "execution_count": null,
      "outputs": [
        {
          "output_type": "execute_result",
          "data": {
            "text/plain": [
              "Text(0, 0.5, 'Project ranking')"
            ]
          },
          "metadata": {
            "tags": []
          },
          "execution_count": 26
        },
        {
          "output_type": "display_data",
          "data": {
            "image/png": "[encoded data removed]",
            "text/plain": [
              "<Figure size 432x288 with 1 Axes>"
            ]
          },
          "metadata": {
            "tags": []
          }
        }
      ]
    },
    {
      "cell_type": "markdown",
      "metadata": {
        "id": "Bk9ojFmWbYJy"
      },
      "source": [
        "***12) repo_Ranking relation with Project Ranking***"
      ]
    },
    {
      "cell_type": "code",
      "metadata": {
        "id": "iu-54wl7bYJz"
      },
      "source": [
        "%%bigquery --project $project_id repo_Ranking\n",
        "\n",
        "SELECT\n",
        "  repos.sourcerank as repo_ranking,\n",
        "  prjcts.sourcerank as prj_ranking\n",
        "FROM\n",
        "  `bigquery-public-data.libraries_io.projects` prjcts\n",
        "JOIN\n",
        "  `bigquery-public-data.libraries_io.repositories` repos\n",
        "ON\n",
        "  prjcts.repository_id=repos.id\n",
        "ORDER BY\n",
        "  prj_ranking DESC"
      ],
      "execution_count": null,
      "outputs": []
    },
    {
      "cell_type": "code",
      "metadata": {
        "colab": {
          "base_uri": "https://localhost:8080/",
          "height": 312
        },
        "id": "_y31wNIgbYJz",
        "outputId": "d28f6a6b-24e5-4d21-839f-f9fc6ac68810"
      },
      "source": [
        "plt.figure()\n",
        "plt.scatter(repo_Ranking[\"repo_ranking\"], repo_Ranking[\"prj_ranking\"])\n",
        "plt.title(\"Project Ranking dependence on repo's Repo's Ranking\")\n",
        "plt.xlabel(\"Repo's Ranking\")\n",
        "plt.ylabel(\"Project ranking\")"
      ],
      "execution_count": null,
      "outputs": [
        {
          "output_type": "execute_result",
          "data": {
            "text/plain": [
              "Text(0, 0.5, 'Project ranking')"
            ]
          },
          "metadata": {
            "tags": []
          },
          "execution_count": 29
        },
        {
          "output_type": "display_data",
          "data": {
            "image/png": "[encoded data removed]",
            "text/plain": [
              "<Figure size 432x288 with 1 Axes>"
            ]
          },
          "metadata": {
            "tags": []
          }
        }
      ]
    },
    {
      "cell_type": "markdown",
      "metadata": {
        "id": "JM3U6UdFhOBq"
      },
      "source": [
        "***13) Repo Fork Count relation with Project Ranking***"
      ]
    },
    {
      "cell_type": "code",
      "metadata": {
        "id": "0k6sBbeMhOBr"
      },
      "source": [
        "%%bigquery --project $project_id repo_fork_count\n",
        "\n",
        "SELECT\n",
        "  repos.forks_count as repo_forks_count,\n",
        "  prjcts.sourcerank as prj_ranking\n",
        "FROM\n",
        "  `bigquery-public-data.libraries_io.projects` prjcts\n",
        "JOIN\n",
        "  `bigquery-public-data.libraries_io.repositories` repos\n",
        "ON\n",
        "  prjcts.repository_id=repos.id\n",
        "ORDER BY\n",
        "  prj_ranking DESC"
      ],
      "execution_count": null,
      "outputs": []
    },
    {
      "cell_type": "code",
      "metadata": {
        "colab": {
          "base_uri": "https://localhost:8080/",
          "height": 316
        },
        "id": "QRfTRqslhOBt",
        "outputId": "f7e225ed-cd93-4508-e6db-a739caa68815"
      },
      "source": [
        "plt.figure()\n",
        "plt.scatter(repo_fork_count[\"repo_forks_count\"], repo_fork_count[\"prj_ranking\"])\n",
        "plt.title(\"Project Ranking dependence on repo's Fork Count\")\n",
        "plt.xscale('symlog')\n",
        "plt.xlabel(\"Repo's Fork Count\")\n",
        "plt.ylabel(\"Project ranking\")"
      ],
      "execution_count": null,
      "outputs": [
        {
          "output_type": "execute_result",
          "data": {
            "text/plain": [
              "Text(0, 0.5, 'Project ranking')"
            ]
          },
          "metadata": {
            "tags": []
          },
          "execution_count": 25
        },
        {
          "output_type": "display_data",
          "data": {
            "image/png": "[encoded data removed]",
            "text/plain": [
              "<Figure size 432x288 with 1 Axes>"
            ]
          },
          "metadata": {
            "tags": [],
            "needs_background": "light"
          }
        }
      ]
    },
    {
      "cell_type": "markdown",
      "metadata": {
        "id": "Y_iKCk97NtBM"
      },
      "source": [
        "***14) Repo Watcher Count relation with Project Ranking***"
      ]
    },
    {
      "cell_type": "code",
      "metadata": {
        "id": "ZIOU4IhlNtBP"
      },
      "source": [
        "%%bigquery --project $project_id repo_watcher_count\n",
        "\n",
        "SELECT\n",
        "  repos.watchers_count as repo_watcher_count,\n",
        "  prjcts.sourcerank as prj_ranking\n",
        "FROM\n",
        "  `bigquery-public-data.libraries_io.projects` prjcts\n",
        "JOIN\n",
        "  `bigquery-public-data.libraries_io.repositories` repos\n",
        "ON\n",
        "  prjcts.repository_id=repos.id\n",
        "ORDER BY\n",
        "  prj_ranking DESC"
      ],
      "execution_count": null,
      "outputs": []
    },
    {
      "cell_type": "code",
      "metadata": {
        "colab": {
          "base_uri": "https://localhost:8080/",
          "height": 316
        },
        "id": "DWL8HBEeNtBS",
        "outputId": "bda5cb51-bbc1-47c3-b6ee-ffeb3af68f5b"
      },
      "source": [
        "plt.figure()\n",
        "plt.scatter(repo_watcher_count[\"repo_watcher_count\"], repo_watcher_count[\"prj_ranking\"])\n",
        "plt.title(\"Project Ranking dependence on repo's Watcher Count\")\n",
        "plt.xscale('symlog')\n",
        "plt.xlabel(\"Repo's Watcher Count\")\n",
        "plt.ylabel(\"Project ranking\")"
      ],
      "execution_count": null,
      "outputs": [
        {
          "output_type": "execute_result",
          "data": {
            "text/plain": [
              "Text(0, 0.5, 'Project ranking')"
            ]
          },
          "metadata": {
            "tags": []
          },
          "execution_count": 30
        },
        {
          "output_type": "display_data",
          "data": {
            "image/png": "[encoded data removed]",
            "text/plain": [
              "<Figure size 432x288 with 1 Axes>"
            ]
          },
          "metadata": {
            "tags": [],
            "needs_background": "light"
          }
        }
      ]
    },
    {
      "cell_type": "markdown",
      "metadata": {
        "id": "hXhf1-DHPU-_"
      },
      "source": [
        "***15) Repo Contributors Count relation with Project Ranking***\n",
        "\n",
        "> Indented block\n",
        "\n"
      ]
    },
    {
      "cell_type": "code",
      "metadata": {
        "id": "364EHyvWPU_A"
      },
      "source": [
        "%%bigquery --project $project_id repo_contrb_count\n",
        "\n",
        "SELECT\n",
        "  repos.contributors_count as repo_contributor_count,\n",
        "  prjcts.sourcerank as prj_ranking\n",
        "FROM\n",
        "  `bigquery-public-data.libraries_io.projects` prjcts\n",
        "JOIN\n",
        "  `bigquery-public-data.libraries_io.repositories` repos\n",
        "ON\n",
        "  prjcts.repository_id=repos.id\n",
        "ORDER BY\n",
        "  prj_ranking DESC"
      ],
      "execution_count": null,
      "outputs": []
    },
    {
      "cell_type": "code",
      "metadata": {
        "colab": {
          "base_uri": "https://localhost:8080/",
          "height": 316
        },
        "id": "OKnDoNA4PU_C",
        "outputId": "da667a20-a3f4-4e40-b6f1-3442d90d5adf"
      },
      "source": [
        "plt.figure()\n",
        "plt.scatter(repo_contrb_count[\"repo_contributor_count\"], repo_contrb_count[\"prj_ranking\"])\n",
        "plt.title(\"Project Ranking dependence on repo's Contributors Count\")\n",
        "plt.xscale('symlog')\n",
        "plt.xlabel(\"Repo's Contributors Count\")\n",
        "plt.ylabel(\"Project ranking\")"
      ],
      "execution_count": null,
      "outputs": [
        {
          "output_type": "execute_result",
          "data": {
            "text/plain": [
              "Text(0, 0.5, 'Project ranking')"
            ]
          },
          "metadata": {
            "tags": []
          },
          "execution_count": 35
        },
        {
          "output_type": "display_data",
          "data": {
            "image/png": "[encoded data removed]",
            "text/plain": [
              "<Figure size 432x288 with 1 Axes>"
            ]
          },
          "metadata": {
            "tags": [],
            "needs_background": "light"
          }
        }
      ]
    },
    {
      "cell_type": "markdown",
      "metadata": {
        "id": "O3guymI7RN8y"
      },
      "source": [
        "***16) Repo Last Updated relation with Project Ranking***"
      ]
    },
    {
      "cell_type": "code",
      "metadata": {
        "id": "ygQPEj8ARN81"
      },
      "source": [
        "%%bigquery --project $project_id repo_last_updated\n",
        "\n",
        "SELECT\n",
        "  TIMESTAMP_DIFF(CURRENT_TIMESTAMP(), repos.updated_timestamp, second) AS time_since_last_update_Repo,\n",
        "  prjcts.sourcerank as prj_ranking\n",
        "FROM\n",
        "  `bigquery-public-data.libraries_io.projects` prjcts\n",
        "JOIN\n",
        "  `bigquery-public-data.libraries_io.repositories` repos\n",
        "ON\n",
        "  prjcts.repository_id=repos.id\n",
        "ORDER BY\n",
        "  prj_ranking DESC"
      ],
      "execution_count": null,
      "outputs": []
    },
    {
      "cell_type": "code",
      "metadata": {
        "colab": {
          "base_uri": "https://localhost:8080/",
          "height": 296
        },
        "id": "xPDqOH7kRN83",
        "outputId": "0c9f027b-75f3-47d1-c5a8-ae78f7a3bda3"
      },
      "source": [
        "plt.figure()\n",
        "plt.scatter(repo_last_updated[\"time_since_last_update_Repo\"], repo_last_updated[\"prj_ranking\"])\n",
        "plt.title(\"Project Ranking dependence on repo's time-since-Last-Updated\")\n",
        "plt.xscale('symlog')\n",
        "plt.xlabel(\"Repo's time_since_last_updated\")\n",
        "plt.ylabel(\"Project ranking\")"
      ],
      "execution_count": null,
      "outputs": [
        {
          "output_type": "execute_result",
          "data": {
            "text/plain": [
              "Text(0, 0.5, 'Project ranking')"
            ]
          },
          "metadata": {
            "tags": []
          },
          "execution_count": 41
        },
        {
          "output_type": "display_data",
          "data": {
            "image/png": "[encoded data removed]",
            "text/plain": [
              "<Figure size 432x288 with 1 Axes>"
            ]
          },
          "metadata": {
            "tags": [],
            "needs_background": "light"
          }
        }
      ]
    },
    {
      "cell_type": "markdown",
      "metadata": {
        "id": "0KIjlaD3W0Hi"
      },
      "source": [
        "***17) Repo Last Synced relation with Project Ranking***"
      ]
    },
    {
      "cell_type": "code",
      "metadata": {
        "id": "EBKJHF5pW0Hk"
      },
      "source": [
        "%%bigquery --project $project_id repo_last_synced\n",
        "\n",
        "SELECT\n",
        "  TIMESTAMP_DIFF(CURRENT_TIMESTAMP(), repos.last_synced_timestamp, second) AS time_since_last_synced,\n",
        "  prjcts.sourcerank as prj_ranking\n",
        "FROM\n",
        "  `bigquery-public-data.libraries_io.projects` prjcts\n",
        "JOIN\n",
        "  `bigquery-public-data.libraries_io.repositories` repos\n",
        "ON\n",
        "  prjcts.repository_id=repos.id\n",
        "ORDER BY\n",
        "  prj_ranking DESC"
      ],
      "execution_count": null,
      "outputs": []
    },
    {
      "cell_type": "code",
      "metadata": {
        "colab": {
          "base_uri": "https://localhost:8080/",
          "height": 313
        },
        "id": "-_ayZk35W0Hn",
        "outputId": "aef434e1-c85e-4b48-f407-b9374037cfc6"
      },
      "source": [
        "plt.figure()\n",
        "plt.scatter(repo_last_synced[\"time_since_last_synced\"], repo_last_synced[\"prj_ranking\"])\n",
        "plt.title(\"Project Ranking dependence on repo's time-since-Last-Updated\")\n",
        "plt.xlabel(\"Repo's time_since_last_updated\")\n",
        "plt.ylabel(\"Project ranking\")"
      ],
      "execution_count": null,
      "outputs": [
        {
          "output_type": "execute_result",
          "data": {
            "text/plain": [
              "Text(0, 0.5, 'Project ranking')"
            ]
          },
          "metadata": {
            "tags": []
          },
          "execution_count": 46
        },
        {
          "output_type": "display_data",
          "data": {
            "image/png": "[encoded data removed]",
            "text/plain": [
              "<Figure size 432x288 with 1 Axes>"
            ]
          },
          "metadata": {
            "tags": [],
            "needs_background": "light"
          }
        }
      ]
    },
    {
      "cell_type": "markdown",
      "metadata": {
        "id": "LKTwu5JMX8pp"
      },
      "source": [
        "***18) Repo Last pushed relation with Project Ranking***"
      ]
    },
    {
      "cell_type": "code",
      "metadata": {
        "id": "ilq3KhgYX8pq"
      },
      "source": [
        "%%bigquery --project $project_id repo_last_pushed\n",
        "\n",
        "SELECT\n",
        "  TIMESTAMP_DIFF(CURRENT_TIMESTAMP(), repos.last_pushed_timestamp, second) AS time_since_last_pushed_Repo,\n",
        "  prjcts.sourcerank as prj_ranking\n",
        "FROM\n",
        "  `bigquery-public-data.libraries_io.projects` prjcts\n",
        "JOIN\n",
        "  `bigquery-public-data.libraries_io.repositories` repos\n",
        "ON\n",
        "  prjcts.repository_id=repos.id\n",
        "ORDER BY\n",
        "  prj_ranking DESC"
      ],
      "execution_count": null,
      "outputs": []
    },
    {
      "cell_type": "code",
      "metadata": {
        "colab": {
          "base_uri": "https://localhost:8080/",
          "height": 313
        },
        "id": "2D-wPq7dX8pr",
        "outputId": "383febfc-df0e-4c04-e3ae-ed236c9a66ca"
      },
      "source": [
        "plt.figure()\n",
        "plt.scatter(repo_last_pushed[\"time_since_last_pushed_Repo\"], repo_last_pushed[\"prj_ranking\"])\n",
        "plt.title(\"Project Ranking dependence on repo's time-since-Last-pushed\")\n",
        "plt.xlabel(\"Repo's time_since_last_pushed\")\n",
        "plt.ylabel(\"Project ranking\")"
      ],
      "execution_count": null,
      "outputs": [
        {
          "output_type": "execute_result",
          "data": {
            "text/plain": [
              "Text(0, 0.5, 'Project ranking')"
            ]
          },
          "metadata": {
            "tags": []
          },
          "execution_count": 51
        },
        {
          "output_type": "display_data",
          "data": {
            "image/png": "[encoded data removed]",
            "text/plain": [
              "<Figure size 432x288 with 1 Axes>"
            ]
          },
          "metadata": {
            "tags": [],
            "needs_background": "light"
          }
        }
      ]
    },
    {
      "cell_type": "markdown",
      "metadata": {
        "id": "fF5KIC3aZNG2"
      },
      "source": [
        "***19) Repo Size relation with Project Ranking***"
      ]
    },
    {
      "cell_type": "code",
      "metadata": {
        "id": "fVbP7LcDZNG3"
      },
      "source": [
        "%%bigquery --project $project_id repo_size\n",
        "\n",
        "SELECT\n",
        "  repos.size AS repo_size,\n",
        "  prjcts.sourcerank as prj_ranking\n",
        "FROM\n",
        "  `bigquery-public-data.libraries_io.projects` prjcts\n",
        "JOIN\n",
        "  `bigquery-public-data.libraries_io.repositories` repos\n",
        "ON\n",
        "  prjcts.repository_id=repos.id\n",
        "ORDER BY\n",
        "  prj_ranking DESC"
      ],
      "execution_count": null,
      "outputs": []
    },
    {
      "cell_type": "code",
      "metadata": {
        "colab": {
          "base_uri": "https://localhost:8080/",
          "height": 316
        },
        "id": "VN5DNkTRZNG4",
        "outputId": "b049073d-bed4-441f-8e23-b32fac23af2c"
      },
      "source": [
        "plt.figure()\n",
        "plt.scatter(repo_size[\"repo_size\"], repo_size[\"prj_ranking\"])\n",
        "plt.title(\"Project Ranking dependence on Repo Size\")\n",
        "plt.xscale('symlog')\n",
        "plt.xlabel(\"Repo size\")\n",
        "plt.ylabel(\"Project ranking\")"
      ],
      "execution_count": null,
      "outputs": [
        {
          "output_type": "execute_result",
          "data": {
            "text/plain": [
              "Text(0, 0.5, 'Project ranking')"
            ]
          },
          "metadata": {
            "tags": []
          },
          "execution_count": 56
        },
        {
          "output_type": "display_data",
          "data": {
            "image/png": "[encoded data removed]",
            "text/plain": [
              "<Figure size 432x288 with 1 Axes>"
            ]
          },
          "metadata": {
            "tags": [],
            "needs_background": "light"
          }
        }
      ]
    },
    {
      "cell_type": "markdown",
      "metadata": {
        "id": "0Wuiwpq2aZVY"
      },
      "source": [
        "***20) Repo status relation with Project Average Ranking***"
      ]
    },
    {
      "cell_type": "code",
      "metadata": {
        "id": "IIhn3-oiaZVZ"
      },
      "source": [
        "%%bigquery --project $project_id repo_status\n",
        "\n",
        "SELECT\n",
        "  ROUND(AVG(prjcts.sourcerank),2) avg_rank,\n",
        "IF\n",
        "  (repos.status='',\n",
        "    'no status',\n",
        "    repos.status) AS status\n",
        "FROM\n",
        "  `bigquery-public-data.libraries_io.projects` prjcts\n",
        "JOIN\n",
        "  `bigquery-public-data.libraries_io.repositories` repos\n",
        "ON\n",
        "  prjcts.repository_id=repos.id\n",
        "  group by repos.status"
      ],
      "execution_count": null,
      "outputs": []
    },
    {
      "cell_type": "code",
      "metadata": {
        "colab": {
          "base_uri": "https://localhost:8080/",
          "height": 312
        },
        "id": "X3G5eyYQaZVZ",
        "outputId": "755b9fe8-e3d5-474e-95e8-d64b5d2bc119"
      },
      "source": [
        "plt.figure()\n",
        "plt.scatter(repo_status[\"status\"], repo_status[\"avg_rank\"])\n",
        "plt.title(\"Project Ranking dependence on Repo Avg_ranking\")\n",
        "plt.xlabel(\"Repo status\")\n",
        "plt.ylabel(\"Project Avg_ranking\")"
      ],
      "execution_count": null,
      "outputs": [
        {
          "output_type": "execute_result",
          "data": {
            "text/plain": [
              "Text(0, 0.5, 'Project Avg_ranking')"
            ]
          },
          "metadata": {
            "tags": []
          },
          "execution_count": 68
        },
        {
          "output_type": "display_data",
          "data": {
            "image/png": "[encoded data removed]",
            "text/plain": [
              "<Figure size 432x288 with 1 Axes>"
            ]
          },
          "metadata": {
            "tags": [],
            "needs_background": "light"
          }
        }
      ]
    },
    {
      "cell_type": "code",
      "metadata": {
        "colab": {
          "base_uri": "https://localhost:8080/",
          "height": 204
        },
        "id": "nmdxXBgkcbq2",
        "outputId": "4a8476f9-64ac-48fb-94e4-057092839cb7"
      },
      "source": [
        "%%bigquery --project $project_id\n",
        "\n",
        "SELECT\n",
        "  COUNT(status) row_count,\n",
        "  status\n",
        "FROM\n",
        "  `bigquery-public-data.libraries_io.repositories`\n",
        "GROUP BY\n",
        "  status"
      ],
      "execution_count": null,
      "outputs": [
        {
          "output_type": "execute_result",
          "data": {
            "text/html": [
              "<div>\n",
              "<style scoped>\n",
              "    .dataframe tbody tr th:only-of-type {\n",
              "        vertical-align: middle;\n",
              "    }\n",
              "\n",
              "    .dataframe tbody tr th {\n",
              "        vertical-align: top;\n",
              "    }\n",
              "\n",
              "    .dataframe thead th {\n",
              "        text-align: right;\n",
              "    }\n",
              "</style>\n",
              "<table border=\"1\" class=\"dataframe\">\n",
              "  <thead>\n",
              "    <tr style=\"text-align: right;\">\n",
              "      <th></th>\n",
              "      <th>row_count</th>\n",
              "      <th>status</th>\n",
              "    </tr>\n",
              "  </thead>\n",
              "  <tbody>\n",
              "    <tr>\n",
              "      <th>0</th>\n",
              "      <td>30702574</td>\n",
              "      <td></td>\n",
              "    </tr>\n",
              "    <tr>\n",
              "      <th>1</th>\n",
              "      <td>1882</td>\n",
              "      <td>Unmaintained</td>\n",
              "    </tr>\n",
              "    <tr>\n",
              "      <th>2</th>\n",
              "      <td>1144</td>\n",
              "      <td>Deprecated</td>\n",
              "    </tr>\n",
              "    <tr>\n",
              "      <th>3</th>\n",
              "      <td>33</td>\n",
              "      <td>Active</td>\n",
              "    </tr>\n",
              "    <tr>\n",
              "      <th>4</th>\n",
              "      <td>1</td>\n",
              "      <td>Help Wanted</td>\n",
              "    </tr>\n",
              "  </tbody>\n",
              "</table>\n",
              "</div>"
            ],
            "text/plain": [
              "   row_count        status\n",
              "0   30702574              \n",
              "1       1882  Unmaintained\n",
              "2       1144    Deprecated\n",
              "3         33        Active\n",
              "4          1   Help Wanted"
            ]
          },
          "metadata": {
            "tags": []
          },
          "execution_count": 67
        }
      ]
    },
    {
      "cell_type": "markdown",
      "metadata": {
        "id": "NhFSJifsiC1U"
      },
      "source": [
        "## Data Prediction"
      ]
    },
    {
      "cell_type": "markdown",
      "metadata": {
        "id": "ofeY7XQuyhOU"
      },
      "source": [
        "---\n",
        "\n",
        "**Creating Datasets in bigquery**\n",
        "---"
      ]
    },
    {
      "cell_type": "code",
      "metadata": {
        "colab": {
          "base_uri": "https://localhost:8080/"
        },
        "id": "BbIz_WSiSe3d",
        "outputId": "e8a78ca9-13b1-4582-b79d-458c45008703"
      },
      "source": [
        "model_dataset_name = 'bqml_librariesIO'\n",
        "\n",
        "dataset = bigquery.Dataset(client.dataset(model_dataset_name))\n",
        "dataset.location = 'US'\n",
        "client.create_dataset(dataset)"
      ],
      "execution_count": null,
      "outputs": [
        {
          "output_type": "execute_result",
          "data": {
            "text/plain": [
              "Dataset(DatasetReference('final-project-dtb', 'bqml_librariesIO'))"
            ]
          },
          "metadata": {
            "tags": []
          },
          "execution_count": 9
        }
      ]
    },
    {
      "cell_type": "code",
      "metadata": {
        "colab": {
          "base_uri": "https://localhost:8080/"
        },
        "id": "afNi1a_MrZYj",
        "outputId": "1ddb11c4-1e77-414f-e9ef-f0b68235d7f2"
      },
      "source": [
        "model_dataset_name_for_LRmodel = 'bqml_librariesIO_LR'\n",
        "\n",
        "dataset = bigquery.Dataset(client.dataset(model_dataset_name_for_LRmodel))\n",
        "dataset.location = 'US'\n",
        "client.create_dataset(dataset)"
      ],
      "execution_count": null,
      "outputs": [
        {
          "output_type": "execute_result",
          "data": {
            "text/plain": [
              "Dataset(DatasetReference('db-prj1', 'bqml_librariesIO_LR'))"
            ]
          },
          "metadata": {
            "tags": []
          },
          "execution_count": 38
        }
      ]
    },
    {
      "cell_type": "markdown",
      "metadata": {
        "id": "_WnXThAQpYHK"
      },
      "source": [
        "**--> Training Data No.1(**with 7 features from projects table**)**"
      ]
    },
    {
      "cell_type": "code",
      "metadata": {
        "id": "epnprFj3WfHE"
      },
      "source": [
        "SELECT\n",
        "  sourcerank,\n",
        "  dependent_projects_count,\n",
        "  dependent_repositories_count,\n",
        "  IF\n",
        "  (status IS NULL,\n",
        "    'active',\n",
        "    status) AS status,\n",
        "  TIMESTAMP_DIFF(CURRENT_TIMESTAMP(), updated_timestamp, second) AS time_since_last_update,\n",
        "  versions_count,\n",
        "  LANGUAGE\n",
        "FROM\n",
        "  `bigquery-public-data.libraries_io.projects`\n",
        "  where created_timestamp between '2015-01-11 23:56:18+00:00' and '2016-01-11 23:56:18+00:00'\n"
      ],
      "execution_count": null,
      "outputs": []
    },
    {
      "cell_type": "markdown",
      "metadata": {
        "id": "Zd9Yb_bxpnqz"
      },
      "source": [
        "**--> Training Data No.2(**with 7 features from projects table + 2 features from Repos table**)**"
      ]
    },
    {
      "cell_type": "code",
      "metadata": {
        "id": "yBlnma90yLas"
      },
      "source": [
        "SELECT\n",
        "  prjct_data.sourcerank,\n",
        "  dependent_projects_count,\n",
        "  dependent_repositories_count,\n",
        "  repo_data.repo_ranking,\n",
        "  repo_stars,\n",
        "  status,\n",
        "  time_since_last_update,\n",
        "  versions_count,\n",
        "  language,\n",
        "FROM (\n",
        "  SELECT\n",
        "    sourcerank,\n",
        "    dependent_projects_count,\n",
        "    dependent_repositories_count,\n",
        "  IF\n",
        "    (status IS NULL,\n",
        "      'active',\n",
        "      status) AS status,\n",
        "    TIMESTAMP_DIFF(CURRENT_TIMESTAMP(), updated_timestamp, second) AS time_since_last_update,\n",
        "    versions_count,\n",
        "    LANGUAGE,\n",
        "    repository_id\n",
        "  FROM\n",
        "    `bigquery-public-data.libraries_io.projects`\n",
        "  WHERE\n",
        "    created_timestamp BETWEEN '2015-01-11 23:56:18+00:00'\n",
        "    AND '2016-01-11 23:56:18+00:00') prjct_data\n",
        "JOIN (\n",
        "  SELECT\n",
        "    repos.id,\n",
        "    repos.sourcerank AS repo_ranking,\n",
        "    repos.stars_count AS repo_stars\n",
        "  FROM\n",
        "    `bigquery-public-data.libraries_io.projects` prjcts\n",
        "  JOIN\n",
        "    `bigquery-public-data.libraries_io.repositories` repos\n",
        "  ON\n",
        "    prjcts.repository_id=repos.id) repo_data\n",
        "ON\n",
        "  prjct_data.repository_id=repo_data.id"
      ],
      "execution_count": null,
      "outputs": []
    },
    {
      "cell_type": "markdown",
      "metadata": {
        "id": "ZmOVZ4bKpwuX"
      },
      "source": [
        "**--> Training Data No.3(**with 9 features from projects table**)**"
      ]
    },
    {
      "cell_type": "code",
      "metadata": {
        "id": "vKtcXvqZqKyT"
      },
      "source": [
        "SELECT\n",
        "  sourcerank,\n",
        "  dependent_projects_count,\n",
        "  dependent_repositories_count,\n",
        "  IF\n",
        "  (status IS NULL,\n",
        "    'active',\n",
        "    status) AS status,\n",
        "  TIMESTAMP_DIFF(CURRENT_TIMESTAMP(), updated_timestamp, second) AS time_since_last_update,\n",
        "  versions_count,\n",
        "  LANGUAGE,\n",
        "  TIMESTAMP_DIFF(CURRENT_TIMESTAMP(), latest_release_publish_timestamp, second) AS time_since_last_release,\n",
        "  TIMESTAMP_DIFF(CURRENT_TIMESTAMP(), last_synced_timestamp, second) AS time_since_last_synced\n",
        "FROM\n",
        "  `bigquery-public-data.libraries_io.projects`\n",
        "  where created_timestamp between '2015-01-11 23:56:18+00:00' and '2016-01-11 23:56:18+00:00'\n"
      ],
      "execution_count": null,
      "outputs": []
    },
    {
      "cell_type": "markdown",
      "metadata": {
        "id": "1IK8gTY_EfhY"
      },
      "source": [
        "**--> Training Data No.4 (**with 9 features from projects table + 2 features from Repos table**)**"
      ]
    },
    {
      "cell_type": "code",
      "metadata": {
        "id": "3kuKWe_HEfhb"
      },
      "source": [
        "SELECT\n",
        "  prjct_data.sourcerank,\n",
        "  dependent_projects_count,\n",
        "  dependent_repositories_count,\n",
        "  repo_data.repo_ranking,\n",
        "  repo_stars,\n",
        "  status,\n",
        "  time_since_last_update,\n",
        "  versions_count,\n",
        "  LANGUAGE,\n",
        "  time_since_last_release,\n",
        "  time_since_last_synced\n",
        "FROM (\n",
        "  SELECT\n",
        "    sourcerank,\n",
        "    dependent_projects_count,\n",
        "    dependent_repositories_count,\n",
        "  IF\n",
        "    (status IS NULL,\n",
        "      'active',\n",
        "      status) AS status,\n",
        "    TIMESTAMP_DIFF(CURRENT_TIMESTAMP(), updated_timestamp, second) AS time_since_last_update,\n",
        "    versions_count,\n",
        "    LANGUAGE,\n",
        "    TIMESTAMP_DIFF(CURRENT_TIMESTAMP(), latest_release_publish_timestamp, second) AS time_since_last_release,\n",
        "    TIMESTAMP_DIFF(CURRENT_TIMESTAMP(), last_synced_timestamp, second) AS time_since_last_synced,\n",
        "    repository_id\n",
        "  FROM\n",
        "    `bigquery-public-data.libraries_io.projects`\n",
        "  WHERE\n",
        "    created_timestamp BETWEEN '2015-01-11 23:56:18+00:00'\n",
        "    AND '2015-01-25 23:56:18+00:00') prjct_data\n",
        "JOIN (\n",
        "  SELECT\n",
        "    repos.id,\n",
        "    repos.sourcerank AS repo_ranking,\n",
        "    repos.stars_count AS repo_stars\n",
        "  FROM\n",
        "    `bigquery-public-data.libraries_io.projects` prjcts\n",
        "  JOIN\n",
        "    `bigquery-public-data.libraries_io.repositories` repos\n",
        "  ON\n",
        "    prjcts.repository_id=repos.id) repo_data\n",
        "ON\n",
        "  prjct_data.repository_id=repo_data.id"
      ],
      "execution_count": null,
      "outputs": []
    },
    {
      "cell_type": "markdown",
      "metadata": {
        "id": "m6m0H_RweX68"
      },
      "source": [
        "**--> Training Data No.5 (**changing 2 Repo features from Training data No.4**)**"
      ]
    },
    {
      "cell_type": "code",
      "metadata": {
        "id": "clm-pgk3eX68"
      },
      "source": [
        "SELECT\n",
        "  prjct_data.sourcerank,\n",
        "  dependent_projects_count,\n",
        "  dependent_repositories_count,\n",
        "  status,\n",
        "  time_since_last_update,\n",
        "  versions_count,\n",
        "  LANGUAGE,\n",
        "  time_since_last_release,\n",
        "  time_since_last_synced,\n",
        "  time_since_last_pushed_Repo,\n",
        "  time_since_last_synced_Repo\n",
        "FROM (\n",
        "  SELECT\n",
        "    sourcerank,\n",
        "    dependent_projects_count,\n",
        "    dependent_repositories_count,\n",
        "  IF\n",
        "    (status IS NULL,\n",
        "      'active',\n",
        "      status) AS status,\n",
        "    TIMESTAMP_DIFF(CURRENT_TIMESTAMP(), updated_timestamp, second) AS time_since_last_update,\n",
        "    versions_count,\n",
        "    LANGUAGE,\n",
        "    TIMESTAMP_DIFF(CURRENT_TIMESTAMP(), latest_release_publish_timestamp, second) AS time_since_last_release,\n",
        "    TIMESTAMP_DIFF(CURRENT_TIMESTAMP(), last_synced_timestamp, second) AS time_since_last_synced,\n",
        "    repository_id\n",
        "  FROM\n",
        "    `bigquery-public-data.libraries_io.projects`\n",
        "  WHERE\n",
        "    created_timestamp BETWEEN '2015-01-11 23:56:18+00:00'\n",
        "    AND '2015-01-25 23:56:18+00:00') prjct_data\n",
        "JOIN (\n",
        "  SELECT\n",
        "    repos.id,\n",
        "    TIMESTAMP_DIFF(CURRENT_TIMESTAMP(), repos.last_pushed_timestamp, second) AS time_since_last_pushed_Repo,\n",
        "    TIMESTAMP_DIFF(CURRENT_TIMESTAMP(), repos.last_synced_timestamp, second) AS time_since_last_synced_Repo,\n",
        "  FROM\n",
        "    `bigquery-public-data.libraries_io.projects` prjcts\n",
        "  JOIN\n",
        "    `bigquery-public-data.libraries_io.repositories` repos\n",
        "  ON\n",
        "    prjcts.repository_id=repos.id) repo_data\n",
        "ON\n",
        "  prjct_data.repository_id=repo_data.id"
      ],
      "execution_count": null,
      "outputs": []
    },
    {
      "cell_type": "markdown",
      "metadata": {
        "id": "J08Sq4ORdYGC"
      },
      "source": [
        "**--> Training Data No.6 (**with 9 features from projects table + 4 features from Repos table**)**"
      ]
    },
    {
      "cell_type": "code",
      "metadata": {
        "id": "XeINdACHdYGF"
      },
      "source": [
        "SELECT\n",
        "  prjct_data.sourcerank,\n",
        "  dependent_projects_count,\n",
        "  dependent_repositories_count,\n",
        "  status,\n",
        "  time_since_last_update,\n",
        "  versions_count,\n",
        "  LANGUAGE,\n",
        "  time_since_last_release,\n",
        "  time_since_last_synced,\n",
        "  time_since_last_pushed_Repo,\n",
        "  time_since_last_synced_Repo,\n",
        "  repo_rank,\n",
        "  repo_star_count\n",
        "FROM (\n",
        "  SELECT\n",
        "    sourcerank,\n",
        "    dependent_projects_count,\n",
        "    dependent_repositories_count,\n",
        "  IF\n",
        "    (status IS NULL,\n",
        "      'active',\n",
        "      status) AS status,\n",
        "    TIMESTAMP_DIFF(CURRENT_TIMESTAMP(), updated_timestamp, second) AS time_since_last_update,\n",
        "    versions_count,\n",
        "    LANGUAGE,\n",
        "    TIMESTAMP_DIFF(CURRENT_TIMESTAMP(), latest_release_publish_timestamp, second) AS time_since_last_release,\n",
        "    TIMESTAMP_DIFF(CURRENT_TIMESTAMP(), last_synced_timestamp, second) AS time_since_last_synced,\n",
        "    repository_id\n",
        "  FROM\n",
        "    `bigquery-public-data.libraries_io.projects`\n",
        "  WHERE\n",
        "    created_timestamp BETWEEN '2015-01-11 23:56:18+00:00'\n",
        "    AND '2015-01-25 23:56:18+00:00') prjct_data\n",
        "JOIN (\n",
        "  SELECT\n",
        "    repos.id,\n",
        "    repos.sourcerank as repo_rank,\n",
        "    repos.stars_count as repo_star_count,\n",
        "    TIMESTAMP_DIFF(CURRENT_TIMESTAMP(), repos.last_pushed_timestamp, second) AS time_since_last_pushed_Repo,\n",
        "    TIMESTAMP_DIFF(CURRENT_TIMESTAMP(), repos.last_synced_timestamp, second) AS time_since_last_synced_Repo,\n",
        "  FROM\n",
        "    `bigquery-public-data.libraries_io.projects` prjcts\n",
        "  JOIN\n",
        "    `bigquery-public-data.libraries_io.repositories` repos\n",
        "  ON\n",
        "    prjcts.repository_id=repos.id) repo_data\n",
        "ON\n",
        "  prjct_data.repository_id=repo_data.id\n",
        "  WHERE\n",
        "  time_since_last_pushed_Repo IS not NULL\n",
        "  and time_since_last_synced_Repo IS not NULL\n",
        "  and repo_star_count is not null\n",
        "  and LANGUAGE IS not NULL\n",
        "  and time_since_last_synced IS not NULL"
      ],
      "execution_count": null,
      "outputs": []
    },
    {
      "cell_type": "markdown",
      "metadata": {
        "id": "NcE7kCsEHGko"
      },
      "source": [
        "**--> Training Data No.7 (**with 11 features from projects table**)**"
      ]
    },
    {
      "cell_type": "code",
      "metadata": {
        "id": "0VgQBv42HGkp"
      },
      "source": [
        "SELECT\n",
        "  sourcerank,\n",
        "  dependent_projects_count,\n",
        "  dependent_repositories_count,\n",
        "  IF\n",
        "  (status IS NULL,\n",
        "    'active',\n",
        "    status) AS status,\n",
        "  TIMESTAMP_DIFF(CURRENT_TIMESTAMP(), updated_timestamp, second) AS time_since_last_update,\n",
        "  versions_count,\n",
        "  LANGUAGE,\n",
        "  TIMESTAMP_DIFF(CURRENT_TIMESTAMP(), latest_release_publish_timestamp, second) AS time_since_last_release,\n",
        "  TIMESTAMP_DIFF(CURRENT_TIMESTAMP(), last_synced_timestamp, second) AS time_since_last_synced,\n",
        "  (LENGTH(keywords) - LENGTH(REPLACE(keywords,\",\",\"\")) + 1) AS keywords_length,\n",
        "  length(description) as descrp_len\n",
        "FROM\n",
        "  `bigquery-public-data.libraries_io.projects`\n",
        "  where created_timestamp between '2015-01-11 23:56:18+00:00' and '2016-01-26 23:56:18+00:00'"
      ],
      "execution_count": null,
      "outputs": []
    },
    {
      "cell_type": "markdown",
      "metadata": {
        "id": "R_qsq9vhYHXX"
      },
      "source": [
        "***--> Splitting of Data***"
      ]
    },
    {
      "cell_type": "code",
      "metadata": {
        "colab": {
          "base_uri": "https://localhost:8080/",
          "height": 80
        },
        "id": "aE88yhkHX_yt",
        "outputId": "17849a11-218a-4a10-af49-93f421ec5962"
      },
      "source": [
        "%%bigquery --project $project_id\n",
        "\n",
        "SELECT\n",
        "  min(created_timestamp) minim,\n",
        "  max(created_timestamp) maxim\n",
        "FROM\n",
        "  `bigquery-public-data.libraries_io.projects`"
      ],
      "execution_count": null,
      "outputs": [
        {
          "output_type": "execute_result",
          "data": {
            "text/html": [
              "<div>\n",
              "<style scoped>\n",
              "    .dataframe tbody tr th:only-of-type {\n",
              "        vertical-align: middle;\n",
              "    }\n",
              "\n",
              "    .dataframe tbody tr th {\n",
              "        vertical-align: top;\n",
              "    }\n",
              "\n",
              "    .dataframe thead th {\n",
              "        text-align: right;\n",
              "    }\n",
              "</style>\n",
              "<table border=\"1\" class=\"dataframe\">\n",
              "  <thead>\n",
              "    <tr style=\"text-align: right;\">\n",
              "      <th></th>\n",
              "      <th>minim</th>\n",
              "      <th>maxim</th>\n",
              "    </tr>\n",
              "  </thead>\n",
              "  <tbody>\n",
              "    <tr>\n",
              "      <th>0</th>\n",
              "      <td>2015-01-11 23:56:18+00:00</td>\n",
              "      <td>2018-12-22 20:18:27+00:00</td>\n",
              "    </tr>\n",
              "  </tbody>\n",
              "</table>\n",
              "</div>"
            ],
            "text/plain": [
              "                      minim                     maxim\n",
              "0 2015-01-11 23:56:18+00:00 2018-12-22 20:18:27+00:00"
            ]
          },
          "metadata": {
            "tags": []
          },
          "execution_count": 21
        }
      ]
    },
    {
      "cell_type": "markdown",
      "metadata": {
        "id": "c1rzHhFMtb0V"
      },
      "source": [
        "**Large sets of Data:**"
      ]
    },
    {
      "cell_type": "code",
      "metadata": {
        "colab": {
          "base_uri": "https://localhost:8080/",
          "height": 80
        },
        "id": "JMjayPsAcpS3",
        "outputId": "ee685cba-bd5d-4d0c-9230-31c599730085"
      },
      "source": [
        "%%bigquery --project $project_id\n",
        "\n",
        "SELECT\n",
        "  count(*) count_2015to2016\n",
        "FROM\n",
        "  `bigquery-public-data.libraries_io.projects`\n",
        "  where created_timestamp between '2015-01-11 23:56:18+00:00' and '2016-01-11 23:56:18+00:00'\n",
        "   "
      ],
      "execution_count": null,
      "outputs": [
        {
          "output_type": "execute_result",
          "data": {
            "text/html": [
              "<div>\n",
              "<style scoped>\n",
              "    .dataframe tbody tr th:only-of-type {\n",
              "        vertical-align: middle;\n",
              "    }\n",
              "\n",
              "    .dataframe tbody tr th {\n",
              "        vertical-align: top;\n",
              "    }\n",
              "\n",
              "    .dataframe thead th {\n",
              "        text-align: right;\n",
              "    }\n",
              "</style>\n",
              "<table border=\"1\" class=\"dataframe\">\n",
              "  <thead>\n",
              "    <tr style=\"text-align: right;\">\n",
              "      <th></th>\n",
              "      <th>count_2015to2016</th>\n",
              "    </tr>\n",
              "  </thead>\n",
              "  <tbody>\n",
              "    <tr>\n",
              "      <th>0</th>\n",
              "      <td>1089327</td>\n",
              "    </tr>\n",
              "  </tbody>\n",
              "</table>\n",
              "</div>"
            ],
            "text/plain": [
              "   count_2015to2016\n",
              "0           1089327"
            ]
          },
          "metadata": {
            "tags": []
          },
          "execution_count": 18
        }
      ]
    },
    {
      "cell_type": "code",
      "metadata": {
        "colab": {
          "base_uri": "https://localhost:8080/",
          "height": 80
        },
        "id": "PXBHcT5gcrfL",
        "outputId": "86791299-5e16-4ac2-9381-2ff278780546"
      },
      "source": [
        "%%bigquery --project $project_id\n",
        "\n",
        "\n",
        "SELECT\n",
        "  count(*) count_2016to2017\n",
        "FROM\n",
        "  `bigquery-public-data.libraries_io.projects`\n",
        "  where created_timestamp > '2016-01-11 23:56:18+00:00'  and created_timestamp <= '2017-01-11 23:56:18+00:00'\n",
        "   "
      ],
      "execution_count": null,
      "outputs": [
        {
          "output_type": "execute_result",
          "data": {
            "text/html": [
              "<div>\n",
              "<style scoped>\n",
              "    .dataframe tbody tr th:only-of-type {\n",
              "        vertical-align: middle;\n",
              "    }\n",
              "\n",
              "    .dataframe tbody tr th {\n",
              "        vertical-align: top;\n",
              "    }\n",
              "\n",
              "    .dataframe thead th {\n",
              "        text-align: right;\n",
              "    }\n",
              "</style>\n",
              "<table border=\"1\" class=\"dataframe\">\n",
              "  <thead>\n",
              "    <tr style=\"text-align: right;\">\n",
              "      <th></th>\n",
              "      <th>count_2016to2017</th>\n",
              "    </tr>\n",
              "  </thead>\n",
              "  <tbody>\n",
              "    <tr>\n",
              "      <th>0</th>\n",
              "      <td>913392</td>\n",
              "    </tr>\n",
              "  </tbody>\n",
              "</table>\n",
              "</div>"
            ],
            "text/plain": [
              "   count_2016to2017\n",
              "0            913392"
            ]
          },
          "metadata": {
            "tags": []
          },
          "execution_count": 17
        }
      ]
    },
    {
      "cell_type": "code",
      "metadata": {
        "colab": {
          "base_uri": "https://localhost:8080/",
          "height": 80
        },
        "id": "Ami8Ftj7dVxq",
        "outputId": "5fb6a78d-b18e-4014-93cb-82b75016ff3b"
      },
      "source": [
        "%%bigquery --project $project_id\n",
        "\n",
        "\n",
        "SELECT\n",
        "  count(*) count_2017to2018\n",
        "FROM\n",
        "  `bigquery-public-data.libraries_io.projects`\n",
        "  where created_timestamp > '2017-01-11 23:56:18+00:00'  and created_timestamp <= '2018-01-11 23:56:18+00:00'\n",
        "   "
      ],
      "execution_count": null,
      "outputs": [
        {
          "output_type": "execute_result",
          "data": {
            "text/html": [
              "<div>\n",
              "<style scoped>\n",
              "    .dataframe tbody tr th:only-of-type {\n",
              "        vertical-align: middle;\n",
              "    }\n",
              "\n",
              "    .dataframe tbody tr th {\n",
              "        vertical-align: top;\n",
              "    }\n",
              "\n",
              "    .dataframe thead th {\n",
              "        text-align: right;\n",
              "    }\n",
              "</style>\n",
              "<table border=\"1\" class=\"dataframe\">\n",
              "  <thead>\n",
              "    <tr style=\"text-align: right;\">\n",
              "      <th></th>\n",
              "      <th>count_2017to2018</th>\n",
              "    </tr>\n",
              "  </thead>\n",
              "  <tbody>\n",
              "    <tr>\n",
              "      <th>0</th>\n",
              "      <td>466015</td>\n",
              "    </tr>\n",
              "  </tbody>\n",
              "</table>\n",
              "</div>"
            ],
            "text/plain": [
              "   count_2017to2018\n",
              "0            466015"
            ]
          },
          "metadata": {
            "tags": []
          },
          "execution_count": 16
        }
      ]
    },
    {
      "cell_type": "code",
      "metadata": {
        "colab": {
          "base_uri": "https://localhost:8080/",
          "height": 80
        },
        "id": "FoJqbgpzdruA",
        "outputId": "88069641-5213-45fc-ae94-43e319dc964f"
      },
      "source": [
        "%%bigquery --project $project_id\n",
        "\n",
        "SELECT\n",
        "  count(*) count_2018toEND\n",
        "FROM\n",
        "  `bigquery-public-data.libraries_io.projects`\n",
        "  where created_timestamp > '2018-01-11 23:56:18+00:00'"
      ],
      "execution_count": null,
      "outputs": [
        {
          "output_type": "execute_result",
          "data": {
            "text/html": [
              "<div>\n",
              "<style scoped>\n",
              "    .dataframe tbody tr th:only-of-type {\n",
              "        vertical-align: middle;\n",
              "    }\n",
              "\n",
              "    .dataframe tbody tr th {\n",
              "        vertical-align: top;\n",
              "    }\n",
              "\n",
              "    .dataframe thead th {\n",
              "        text-align: right;\n",
              "    }\n",
              "</style>\n",
              "<table border=\"1\" class=\"dataframe\">\n",
              "  <thead>\n",
              "    <tr style=\"text-align: right;\">\n",
              "      <th></th>\n",
              "      <th>count_2018toEND</th>\n",
              "    </tr>\n",
              "  </thead>\n",
              "  <tbody>\n",
              "    <tr>\n",
              "      <th>0</th>\n",
              "      <td>865192</td>\n",
              "    </tr>\n",
              "  </tbody>\n",
              "</table>\n",
              "</div>"
            ],
            "text/plain": [
              "   count_2018toEND\n",
              "0           865192"
            ]
          },
          "metadata": {
            "tags": []
          },
          "execution_count": 15
        }
      ]
    },
    {
      "cell_type": "markdown",
      "metadata": {
        "id": "SObCuDautueY"
      },
      "source": [
        "**Small sets of Data:**"
      ]
    },
    {
      "cell_type": "code",
      "metadata": {
        "colab": {
          "base_uri": "https://localhost:8080/",
          "height": 80
        },
        "id": "v-KK_CYGlDNC",
        "outputId": "0150ae01-143c-4c06-d9f4-a506c0d63c02"
      },
      "source": [
        "%%bigquery --project $project_id\n",
        "\n",
        "SELECT\n",
        "  count(*) jan11_to_jan25_trainSet\n",
        "FROM\n",
        "  `bigquery-public-data.libraries_io.projects`\n",
        "  where created_timestamp between '2015-01-11 23:56:18+00:00' and '2015-01-25 23:56:18+00:00'"
      ],
      "execution_count": null,
      "outputs": [
        {
          "output_type": "execute_result",
          "data": {
            "text/html": [
              "<div>\n",
              "<style scoped>\n",
              "    .dataframe tbody tr th:only-of-type {\n",
              "        vertical-align: middle;\n",
              "    }\n",
              "\n",
              "    .dataframe tbody tr th {\n",
              "        vertical-align: top;\n",
              "    }\n",
              "\n",
              "    .dataframe thead th {\n",
              "        text-align: right;\n",
              "    }\n",
              "</style>\n",
              "<table border=\"1\" class=\"dataframe\">\n",
              "  <thead>\n",
              "    <tr style=\"text-align: right;\">\n",
              "      <th></th>\n",
              "      <th>jan11_to_jan25_trainSet</th>\n",
              "    </tr>\n",
              "  </thead>\n",
              "  <tbody>\n",
              "    <tr>\n",
              "      <th>0</th>\n",
              "      <td>116740</td>\n",
              "    </tr>\n",
              "  </tbody>\n",
              "</table>\n",
              "</div>"
            ],
            "text/plain": [
              "   jan11_to_jan25_trainSet\n",
              "0                   116740"
            ]
          },
          "metadata": {
            "tags": []
          },
          "execution_count": 14
        }
      ]
    },
    {
      "cell_type": "code",
      "metadata": {
        "colab": {
          "base_uri": "https://localhost:8080/",
          "height": 80
        },
        "id": "gI5lMCRTnnQ7",
        "outputId": "5f3f3f19-a59d-492b-8563-05198b60a0c3"
      },
      "source": [
        "%%bigquery --project $project_id\n",
        "\n",
        "SELECT\n",
        "  count(*) jan26_jan27_evalSet\n",
        "FROM\n",
        "  `bigquery-public-data.libraries_io.projects`\n",
        "  where created_timestamp between '2015-01-26 23:56:18+00:00' and '2015-01-27 15:56:18+00:00'"
      ],
      "execution_count": null,
      "outputs": [
        {
          "output_type": "execute_result",
          "data": {
            "text/html": [
              "<div>\n",
              "<style scoped>\n",
              "    .dataframe tbody tr th:only-of-type {\n",
              "        vertical-align: middle;\n",
              "    }\n",
              "\n",
              "    .dataframe tbody tr th {\n",
              "        vertical-align: top;\n",
              "    }\n",
              "\n",
              "    .dataframe thead th {\n",
              "        text-align: right;\n",
              "    }\n",
              "</style>\n",
              "<table border=\"1\" class=\"dataframe\">\n",
              "  <thead>\n",
              "    <tr style=\"text-align: right;\">\n",
              "      <th></th>\n",
              "      <th>jan26_jan27_evalSet</th>\n",
              "    </tr>\n",
              "  </thead>\n",
              "  <tbody>\n",
              "    <tr>\n",
              "      <th>0</th>\n",
              "      <td>20120</td>\n",
              "    </tr>\n",
              "  </tbody>\n",
              "</table>\n",
              "</div>"
            ],
            "text/plain": [
              "   jan26_jan27_evalSet\n",
              "0                20120"
            ]
          },
          "metadata": {
            "tags": []
          },
          "execution_count": 13
        }
      ]
    },
    {
      "cell_type": "code",
      "metadata": {
        "colab": {
          "base_uri": "https://localhost:8080/",
          "height": 80
        },
        "id": "ajlueTdZqw3E",
        "outputId": "5548f444-2ab4-4e46-e0b3-947c0cb49b0d"
      },
      "source": [
        "%%bigquery --project $project_id\n",
        "\n",
        "SELECT\n",
        "  count(*) jan27_jan28_testSet\n",
        "FROM\n",
        "  `bigquery-public-data.libraries_io.projects`\n",
        "  where created_timestamp between '2015-01-27 15:56:18+00:00' and '2015-01-28 00:56:18+00:00'"
      ],
      "execution_count": null,
      "outputs": [
        {
          "output_type": "execute_result",
          "data": {
            "text/html": [
              "<div>\n",
              "<style scoped>\n",
              "    .dataframe tbody tr th:only-of-type {\n",
              "        vertical-align: middle;\n",
              "    }\n",
              "\n",
              "    .dataframe tbody tr th {\n",
              "        vertical-align: top;\n",
              "    }\n",
              "\n",
              "    .dataframe thead th {\n",
              "        text-align: right;\n",
              "    }\n",
              "</style>\n",
              "<table border=\"1\" class=\"dataframe\">\n",
              "  <thead>\n",
              "    <tr style=\"text-align: right;\">\n",
              "      <th></th>\n",
              "      <th>jan27_jan28_testSet</th>\n",
              "    </tr>\n",
              "  </thead>\n",
              "  <tbody>\n",
              "    <tr>\n",
              "      <th>0</th>\n",
              "      <td>19864</td>\n",
              "    </tr>\n",
              "  </tbody>\n",
              "</table>\n",
              "</div>"
            ],
            "text/plain": [
              "   jan27_jan28_testSet\n",
              "0                19864"
            ]
          },
          "metadata": {
            "tags": []
          },
          "execution_count": 12
        }
      ]
    },
    {
      "cell_type": "code",
      "metadata": {
        "colab": {
          "base_uri": "https://localhost:8080/",
          "height": 80
        },
        "id": "DJh7wTYVaeMe",
        "outputId": "9bac3a9b-e13b-4d3d-978f-576cb417ddca"
      },
      "source": [
        "%%bigquery --project $project_id\n",
        "\n",
        "SELECT\n",
        "  count(*) as jan28_jan29_predictionSet\n",
        "FROM\n",
        "  `bigquery-public-data.libraries_io.projects`\n",
        "  where created_timestamp between '2015-01-28 23:56:18+00:00' and '2015-01-29 02:56:18+00:00'\n"
      ],
      "execution_count": null,
      "outputs": [
        {
          "output_type": "execute_result",
          "data": {
            "text/html": [
              "<div>\n",
              "<style scoped>\n",
              "    .dataframe tbody tr th:only-of-type {\n",
              "        vertical-align: middle;\n",
              "    }\n",
              "\n",
              "    .dataframe tbody tr th {\n",
              "        vertical-align: top;\n",
              "    }\n",
              "\n",
              "    .dataframe thead th {\n",
              "        text-align: right;\n",
              "    }\n",
              "</style>\n",
              "<table border=\"1\" class=\"dataframe\">\n",
              "  <thead>\n",
              "    <tr style=\"text-align: right;\">\n",
              "      <th></th>\n",
              "      <th>jan28_jan29_predictionSet</th>\n",
              "    </tr>\n",
              "  </thead>\n",
              "  <tbody>\n",
              "    <tr>\n",
              "      <th>0</th>\n",
              "      <td>17317</td>\n",
              "    </tr>\n",
              "  </tbody>\n",
              "</table>\n",
              "</div>"
            ],
            "text/plain": [
              "   jan28_jan29_predictionSet\n",
              "0                      17317"
            ]
          },
          "metadata": {
            "tags": []
          },
          "execution_count": 11
        }
      ]
    },
    {
      "cell_type": "markdown",
      "metadata": {
        "id": "GLg99iCPses6"
      },
      "source": [
        "**Model creation by using 'Linear Regression' on Training data No.1 with large set of data (**2015-2016 data**)**\n",
        "\n",
        "---\n",
        "\n"
      ]
    },
    {
      "cell_type": "code",
      "metadata": {
        "colab": {
          "base_uri": "https://localhost:8080/",
          "height": 32
        },
        "id": "q8pZ2Jm2glO-",
        "outputId": "dc628613-fe25-4a95-c3b3-c8745f498017"
      },
      "source": [
        "%%bigquery --project $project_id\n",
        "\n",
        "CREATE OR REPLACE MODEL `bqml_librariesIO.rank_predictor_model`\n",
        "OPTIONS(model_type='linear_reg',input_label_cols=['sourcerank']) as\n",
        "SELECT\n",
        "  sourcerank,\n",
        "  dependent_projects_count,\n",
        "  dependent_repositories_count,\n",
        "  IF\n",
        "  (status IS NULL,\n",
        "    'active',\n",
        "    status) AS status,\n",
        "  TIMESTAMP_DIFF(CURRENT_TIMESTAMP(), updated_timestamp, second) AS time_since_last_update,\n",
        "  versions_count,\n",
        "  LANGUAGE\n",
        "FROM\n",
        "  `bigquery-public-data.libraries_io.projects`\n",
        "  where created_timestamp between '2015-01-11 23:56:18+00:00' and '2016-01-11 23:56:18+00:00'"
      ],
      "execution_count": null,
      "outputs": [
        {
          "output_type": "execute_result",
          "data": {
            "text/html": [
              "<div>\n",
              "<style scoped>\n",
              "    .dataframe tbody tr th:only-of-type {\n",
              "        vertical-align: middle;\n",
              "    }\n",
              "\n",
              "    .dataframe tbody tr th {\n",
              "        vertical-align: top;\n",
              "    }\n",
              "\n",
              "    .dataframe thead th {\n",
              "        text-align: right;\n",
              "    }\n",
              "</style>\n",
              "<table border=\"1\" class=\"dataframe\">\n",
              "  <thead>\n",
              "    <tr style=\"text-align: right;\">\n",
              "      <th></th>\n",
              "    </tr>\n",
              "  </thead>\n",
              "  <tbody>\n",
              "  </tbody>\n",
              "</table>\n",
              "</div>"
            ],
            "text/plain": [
              "Empty DataFrame\n",
              "Columns: []\n",
              "Index: []"
            ]
          },
          "metadata": {
            "tags": []
          },
          "execution_count": 24
        }
      ]
    },
    {
      "cell_type": "code",
      "metadata": {
        "colab": {
          "base_uri": "https://localhost:8080/",
          "height": 80
        },
        "id": "LucXpvxph22m",
        "outputId": "f04c2c2b-c8ea-4d2e-a17e-6bf4f2e0a08d"
      },
      "source": [
        "%%bigquery --project $project_id\n",
        "\n",
        "SELECT\n",
        "  *\n",
        "FROM\n",
        "  ML.EVALUATE(MODEL `bqml_librariesIO.rank_predictor_model`, (\n",
        "SELECT\n",
        "  sourcerank,\n",
        "  dependent_projects_count,\n",
        "  dependent_repositories_count,\n",
        "  IF\n",
        "  (status IS NULL,\n",
        "    'active',\n",
        "    status) AS status,\n",
        "  TIMESTAMP_DIFF(CURRENT_TIMESTAMP(), updated_timestamp, second) AS time_since_last_update,\n",
        "  versions_count,\n",
        "  LANGUAGE\n",
        "FROM\n",
        "  `bigquery-public-data.libraries_io.projects`\n",
        "  where created_timestamp > '2016-01-11 23:56:18+00:00'  and created_timestamp <= '2017-01-11 23:56:18+00:00'))"
      ],
      "execution_count": null,
      "outputs": [
        {
          "output_type": "execute_result",
          "data": {
            "text/html": [
              "<div>\n",
              "<style scoped>\n",
              "    .dataframe tbody tr th:only-of-type {\n",
              "        vertical-align: middle;\n",
              "    }\n",
              "\n",
              "    .dataframe tbody tr th {\n",
              "        vertical-align: top;\n",
              "    }\n",
              "\n",
              "    .dataframe thead th {\n",
              "        text-align: right;\n",
              "    }\n",
              "</style>\n",
              "<table border=\"1\" class=\"dataframe\">\n",
              "  <thead>\n",
              "    <tr style=\"text-align: right;\">\n",
              "      <th></th>\n",
              "      <th>mean_absolute_error</th>\n",
              "      <th>mean_squared_error</th>\n",
              "      <th>mean_squared_log_error</th>\n",
              "      <th>median_absolute_error</th>\n",
              "      <th>r2_score</th>\n",
              "      <th>explained_variance</th>\n",
              "    </tr>\n",
              "  </thead>\n",
              "  <tbody>\n",
              "    <tr>\n",
              "      <th>0</th>\n",
              "      <td>1.896504</td>\n",
              "      <td>6.354987</td>\n",
              "      <td>0.353378</td>\n",
              "      <td>1.527391</td>\n",
              "      <td>0.233646</td>\n",
              "      <td>0.260111</td>\n",
              "    </tr>\n",
              "  </tbody>\n",
              "</table>\n",
              "</div>"
            ],
            "text/plain": [
              "   mean_absolute_error  mean_squared_error  ...  r2_score  explained_variance\n",
              "0             1.896504            6.354987  ...  0.233646            0.260111\n",
              "\n",
              "[1 rows x 6 columns]"
            ]
          },
          "metadata": {
            "tags": []
          },
          "execution_count": 25
        }
      ]
    },
    {
      "cell_type": "markdown",
      "metadata": {
        "id": "y8jjunrzbSI8"
      },
      "source": [
        "**Model creation by using 'Logistic Regression' on Training data No.1 with large set of data (**2015-2016 data**)**\n",
        "\n",
        "---\n",
        "\n"
      ]
    },
    {
      "cell_type": "code",
      "metadata": {
        "colab": {
          "base_uri": "https://localhost:8080/",
          "height": 32
        },
        "id": "tRC5WAlwbZg3",
        "outputId": "ec792b47-39f5-4e7f-8075-a3cee66cb462"
      },
      "source": [
        "%%bigquery --project $project_id\n",
        "\n",
        "CREATE OR REPLACE MODEL `bqml_librariesIO.rank_predictor_model`\n",
        "OPTIONS(model_type='logistic_reg',input_label_cols=['sourcerank']) as\n",
        "SELECT\n",
        "  sourcerank,\n",
        "  dependent_projects_count,\n",
        "  dependent_repositories_count,\n",
        "  IF\n",
        "  (status IS NULL,\n",
        "    'active',\n",
        "    status) AS status,\n",
        "  TIMESTAMP_DIFF(CURRENT_TIMESTAMP(), updated_timestamp, second) AS time_since_last_update,\n",
        "  versions_count,\n",
        "  LANGUAGE\n",
        "FROM\n",
        "  `bigquery-public-data.libraries_io.projects`\n",
        "  where created_timestamp between '2015-01-11 23:56:18+00:00' and '2016-01-11 23:56:18+00:00'\n"
      ],
      "execution_count": null,
      "outputs": [
        {
          "output_type": "execute_result",
          "data": {
            "text/html": [
              "<div>\n",
              "<style scoped>\n",
              "    .dataframe tbody tr th:only-of-type {\n",
              "        vertical-align: middle;\n",
              "    }\n",
              "\n",
              "    .dataframe tbody tr th {\n",
              "        vertical-align: top;\n",
              "    }\n",
              "\n",
              "    .dataframe thead th {\n",
              "        text-align: right;\n",
              "    }\n",
              "</style>\n",
              "<table border=\"1\" class=\"dataframe\">\n",
              "  <thead>\n",
              "    <tr style=\"text-align: right;\">\n",
              "      <th></th>\n",
              "    </tr>\n",
              "  </thead>\n",
              "  <tbody>\n",
              "  </tbody>\n",
              "</table>\n",
              "</div>"
            ],
            "text/plain": [
              "Empty DataFrame\n",
              "Columns: []\n",
              "Index: []"
            ]
          },
          "metadata": {
            "tags": []
          },
          "execution_count": 24
        }
      ]
    },
    {
      "cell_type": "code",
      "metadata": {
        "colab": {
          "base_uri": "https://localhost:8080/",
          "height": 80
        },
        "id": "vnTcZfmgbZg6",
        "outputId": "c0dbc280-bf89-477e-f8cb-4e193ff5d2c3"
      },
      "source": [
        "%%bigquery --project $project_id\n",
        "\n",
        "SELECT\n",
        "  *\n",
        "FROM\n",
        "  ML.EVALUATE(MODEL `bqml_librariesIO.rank_predictor_model`, (\n",
        "SELECT\n",
        "  sourcerank,\n",
        "  dependent_projects_count,\n",
        "  dependent_repositories_count,\n",
        "  IF\n",
        "  (status IS NULL,\n",
        "    'active',\n",
        "    status) AS status,\n",
        "  TIMESTAMP_DIFF(CURRENT_TIMESTAMP(), updated_timestamp, second) AS time_since_last_update,\n",
        "  versions_count,\n",
        "  LANGUAGE\n",
        "FROM\n",
        "  `bigquery-public-data.libraries_io.projects`\n",
        "  where created_timestamp > '2016-01-11 23:56:18+00:00'  and created_timestamp <= '2017-01-11 23:56:18+00:00'))"
      ],
      "execution_count": null,
      "outputs": [
        {
          "output_type": "execute_result",
          "data": {
            "text/html": [
              "<div>\n",
              "<style scoped>\n",
              "    .dataframe tbody tr th:only-of-type {\n",
              "        vertical-align: middle;\n",
              "    }\n",
              "\n",
              "    .dataframe tbody tr th {\n",
              "        vertical-align: top;\n",
              "    }\n",
              "\n",
              "    .dataframe thead th {\n",
              "        text-align: right;\n",
              "    }\n",
              "</style>\n",
              "<table border=\"1\" class=\"dataframe\">\n",
              "  <thead>\n",
              "    <tr style=\"text-align: right;\">\n",
              "      <th></th>\n",
              "      <th>precision</th>\n",
              "      <th>recall</th>\n",
              "      <th>accuracy</th>\n",
              "      <th>f1_score</th>\n",
              "      <th>log_loss</th>\n",
              "      <th>roc_auc</th>\n",
              "    </tr>\n",
              "  </thead>\n",
              "  <tbody>\n",
              "    <tr>\n",
              "      <th>0</th>\n",
              "      <td>0.069769</td>\n",
              "      <td>0.053023</td>\n",
              "      <td>0.185529</td>\n",
              "      <td>0.043299</td>\n",
              "      <td>3.98761</td>\n",
              "      <td>0.771809</td>\n",
              "    </tr>\n",
              "  </tbody>\n",
              "</table>\n",
              "</div>"
            ],
            "text/plain": [
              "   precision    recall  accuracy  f1_score  log_loss   roc_auc\n",
              "0   0.069769  0.053023  0.185529  0.043299   3.98761  0.771809"
            ]
          },
          "metadata": {
            "tags": []
          },
          "execution_count": 29
        }
      ]
    },
    {
      "cell_type": "markdown",
      "metadata": {
        "id": "P9DLt4yyP3Ce"
      },
      "source": [
        "**Doing same as above with small set of data(jan11-jan25):**"
      ]
    },
    {
      "cell_type": "code",
      "metadata": {
        "colab": {
          "base_uri": "https://localhost:8080/",
          "height": 32
        },
        "id": "FpBqHSg1P1QA",
        "outputId": "514760cb-7ba7-4c79-ca1a-af76f2fc4e15"
      },
      "source": [
        "%%bigquery --project $project_id\n",
        "\n",
        "CREATE OR REPLACE MODEL `bqml_librariesIO.rank_predictor_model`\n",
        "OPTIONS(model_type='logistic_reg',input_label_cols=['sourcerank']) as\n",
        "SELECT\n",
        "  sourcerank,\n",
        "  dependent_projects_count,\n",
        "  dependent_repositories_count,\n",
        "  IF\n",
        "  (status IS NULL,\n",
        "    'active',\n",
        "    status) AS status,\n",
        "  TIMESTAMP_DIFF(CURRENT_TIMESTAMP(), updated_timestamp, second) AS time_since_last_update,\n",
        "  versions_count,\n",
        "  LANGUAGE\n",
        "FROM\n",
        "  `bigquery-public-data.libraries_io.projects`\n",
        "  where created_timestamp between '2015-01-11 23:56:18+00:00' and '2015-01-25 23:56:18+00:00'\n"
      ],
      "execution_count": null,
      "outputs": [
        {
          "output_type": "execute_result",
          "data": {
            "text/html": [
              "<div>\n",
              "<style scoped>\n",
              "    .dataframe tbody tr th:only-of-type {\n",
              "        vertical-align: middle;\n",
              "    }\n",
              "\n",
              "    .dataframe tbody tr th {\n",
              "        vertical-align: top;\n",
              "    }\n",
              "\n",
              "    .dataframe thead th {\n",
              "        text-align: right;\n",
              "    }\n",
              "</style>\n",
              "<table border=\"1\" class=\"dataframe\">\n",
              "  <thead>\n",
              "    <tr style=\"text-align: right;\">\n",
              "      <th></th>\n",
              "    </tr>\n",
              "  </thead>\n",
              "  <tbody>\n",
              "  </tbody>\n",
              "</table>\n",
              "</div>"
            ],
            "text/plain": [
              "Empty DataFrame\n",
              "Columns: []\n",
              "Index: []"
            ]
          },
          "metadata": {
            "tags": []
          },
          "execution_count": 42
        }
      ]
    },
    {
      "cell_type": "code",
      "metadata": {
        "colab": {
          "base_uri": "https://localhost:8080/",
          "height": 80
        },
        "id": "FHBjULx3P1QE",
        "outputId": "06a1c2eb-b48d-4271-aeaf-245ea82e0368"
      },
      "source": [
        "%%bigquery --project $project_id\n",
        "\n",
        "SELECT\n",
        "  *\n",
        "FROM\n",
        "  ML.EVALUATE(MODEL `bqml_librariesIO.rank_predictor_model`, (\n",
        "SELECT\n",
        "  sourcerank,\n",
        "  dependent_projects_count,\n",
        "  dependent_repositories_count,\n",
        "  IF\n",
        "  (status IS NULL,\n",
        "    'active',\n",
        "    status) AS status,\n",
        "  TIMESTAMP_DIFF(CURRENT_TIMESTAMP(), updated_timestamp, second) AS time_since_last_update,\n",
        "  versions_count,\n",
        "  LANGUAGE\n",
        "FROM\n",
        "  `bigquery-public-data.libraries_io.projects`\n",
        "  where created_timestamp between '2015-01-26 23:56:18+00:00' and '2015-01-27 15:56:18+00:00'))"
      ],
      "execution_count": null,
      "outputs": [
        {
          "output_type": "execute_result",
          "data": {
            "text/html": [
              "<div>\n",
              "<style scoped>\n",
              "    .dataframe tbody tr th:only-of-type {\n",
              "        vertical-align: middle;\n",
              "    }\n",
              "\n",
              "    .dataframe tbody tr th {\n",
              "        vertical-align: top;\n",
              "    }\n",
              "\n",
              "    .dataframe thead th {\n",
              "        text-align: right;\n",
              "    }\n",
              "</style>\n",
              "<table border=\"1\" class=\"dataframe\">\n",
              "  <thead>\n",
              "    <tr style=\"text-align: right;\">\n",
              "      <th></th>\n",
              "      <th>precision</th>\n",
              "      <th>recall</th>\n",
              "      <th>accuracy</th>\n",
              "      <th>f1_score</th>\n",
              "      <th>log_loss</th>\n",
              "      <th>roc_auc</th>\n",
              "    </tr>\n",
              "  </thead>\n",
              "  <tbody>\n",
              "    <tr>\n",
              "      <th>0</th>\n",
              "      <td>0.066607</td>\n",
              "      <td>0.092453</td>\n",
              "      <td>0.174801</td>\n",
              "      <td>0.037734</td>\n",
              "      <td>3.741339</td>\n",
              "      <td>0.809725</td>\n",
              "    </tr>\n",
              "  </tbody>\n",
              "</table>\n",
              "</div>"
            ],
            "text/plain": [
              "   precision    recall  accuracy  f1_score  log_loss   roc_auc\n",
              "0   0.066607  0.092453  0.174801  0.037734  3.741339  0.809725"
            ]
          },
          "metadata": {
            "tags": []
          },
          "execution_count": 44
        }
      ]
    },
    {
      "cell_type": "markdown",
      "metadata": {
        "id": "ZElp8bfxuyS2"
      },
      "source": [
        "**-->Model creation by using 'Logistic Regression' on Training data No.2 with small set of data(jan11-jan25)**"
      ]
    },
    {
      "cell_type": "code",
      "metadata": {
        "colab": {
          "base_uri": "https://localhost:8080/",
          "height": 32
        },
        "id": "4yT42vmt3Sij",
        "outputId": "ad7ab220-ec8b-4059-abe1-8c665b091b07"
      },
      "source": [
        "%%bigquery --project $project_id\n",
        "\n",
        "CREATE OR REPLACE MODEL `bqml_librariesIO_LR.rank_predictor_model`\n",
        "OPTIONS(model_type='logistic_reg', auto_class_weights=TRUE,input_label_cols=['sourcerank']) as\n",
        "SELECT\n",
        "  distinct\n",
        "  prjct_data.sourcerank,\n",
        "  dependent_projects_count,\n",
        "  dependent_repositories_count,\n",
        "  repo_data.repo_ranking,\n",
        "  repo_stars,\n",
        "  status,\n",
        "  time_since_last_update,\n",
        "  versions_count,\n",
        "  language,\n",
        "FROM (\n",
        "  SELECT\n",
        "    sourcerank,\n",
        "    dependent_projects_count,\n",
        "    dependent_repositories_count,\n",
        "  IF\n",
        "    (status IS NULL,\n",
        "      'active',\n",
        "      status) AS status,\n",
        "    TIMESTAMP_DIFF(CURRENT_TIMESTAMP(), updated_timestamp, second) AS time_since_last_update,\n",
        "    versions_count,\n",
        "    LANGUAGE,\n",
        "    repository_id\n",
        "  FROM\n",
        "    `bigquery-public-data.libraries_io.projects`\n",
        "  WHERE\n",
        " created_timestamp between '2015-01-11 23:56:18+00:00' and '2015-01-25 23:56:18+00:00') prjct_data\n",
        "JOIN (\n",
        "  SELECT\n",
        "    repos.id,\n",
        "    repos.sourcerank AS repo_ranking,\n",
        "    repos.stars_count AS repo_stars\n",
        "  FROM\n",
        "    `bigquery-public-data.libraries_io.projects` prjcts\n",
        "  JOIN\n",
        "    `bigquery-public-data.libraries_io.repositories` repos\n",
        "  ON\n",
        "    prjcts.repository_id=repos.id) repo_data\n",
        "ON\n",
        "  prjct_data.repository_id=repo_data.id"
      ],
      "execution_count": null,
      "outputs": [
        {
          "output_type": "execute_result",
          "data": {
            "text/html": [
              "<div>\n",
              "<style scoped>\n",
              "    .dataframe tbody tr th:only-of-type {\n",
              "        vertical-align: middle;\n",
              "    }\n",
              "\n",
              "    .dataframe tbody tr th {\n",
              "        vertical-align: top;\n",
              "    }\n",
              "\n",
              "    .dataframe thead th {\n",
              "        text-align: right;\n",
              "    }\n",
              "</style>\n",
              "<table border=\"1\" class=\"dataframe\">\n",
              "  <thead>\n",
              "    <tr style=\"text-align: right;\">\n",
              "      <th></th>\n",
              "    </tr>\n",
              "  </thead>\n",
              "  <tbody>\n",
              "  </tbody>\n",
              "</table>\n",
              "</div>"
            ],
            "text/plain": [
              "Empty DataFrame\n",
              "Columns: []\n",
              "Index: []"
            ]
          },
          "metadata": {
            "tags": []
          },
          "execution_count": 33
        }
      ]
    },
    {
      "cell_type": "code",
      "metadata": {
        "colab": {
          "base_uri": "https://localhost:8080/",
          "height": 80
        },
        "id": "dE-ACQCFttfb",
        "outputId": "ad4e06d9-3e18-42b0-d13c-e256909a12e3"
      },
      "source": [
        "%%bigquery --project $project_id\n",
        "\n",
        "SELECT\n",
        "  *\n",
        "FROM\n",
        "  ML.EVALUATE(MODEL `bqml_librariesIO_LR.rank_predictor_model`, (\n",
        "SELECT\n",
        "  prjct_data.sourcerank,\n",
        "  dependent_projects_count,\n",
        "  dependent_repositories_count,\n",
        "  repo_data.repo_ranking,\n",
        "  repo_stars,\n",
        "  status,\n",
        "  time_since_last_update,\n",
        "  versions_count,\n",
        "  language,\n",
        "FROM (\n",
        "  SELECT\n",
        "    sourcerank,\n",
        "    dependent_projects_count,\n",
        "    dependent_repositories_count,\n",
        "  IF\n",
        "    (status IS NULL,\n",
        "      'active',\n",
        "      status) AS status,\n",
        "    TIMESTAMP_DIFF(CURRENT_TIMESTAMP(), updated_timestamp, second) AS time_since_last_update,\n",
        "    versions_count,\n",
        "    LANGUAGE,\n",
        "    repository_id\n",
        "  FROM\n",
        "    `bigquery-public-data.libraries_io.projects`\n",
        "  WHERE\n",
        " created_timestamp between '2015-01-26 23:56:18+00:00' and '2015-01-27 15:56:18+00:00') prjct_data\n",
        "JOIN (\n",
        "  SELECT\n",
        "    repos.id,\n",
        "    repos.sourcerank AS repo_ranking,\n",
        "    repos.stars_count AS repo_stars\n",
        "  FROM\n",
        "    `bigquery-public-data.libraries_io.projects` prjcts\n",
        "  JOIN\n",
        "    `bigquery-public-data.libraries_io.repositories` repos\n",
        "  ON\n",
        "    prjcts.repository_id=repos.id) repo_data\n",
        "ON\n",
        "  prjct_data.repository_id=repo_data.id))"
      ],
      "execution_count": null,
      "outputs": [
        {
          "output_type": "execute_result",
          "data": {
            "text/html": [
              "<div>\n",
              "<style scoped>\n",
              "    .dataframe tbody tr th:only-of-type {\n",
              "        vertical-align: middle;\n",
              "    }\n",
              "\n",
              "    .dataframe tbody tr th {\n",
              "        vertical-align: top;\n",
              "    }\n",
              "\n",
              "    .dataframe thead th {\n",
              "        text-align: right;\n",
              "    }\n",
              "</style>\n",
              "<table border=\"1\" class=\"dataframe\">\n",
              "  <thead>\n",
              "    <tr style=\"text-align: right;\">\n",
              "      <th></th>\n",
              "      <th>precision</th>\n",
              "      <th>recall</th>\n",
              "      <th>accuracy</th>\n",
              "      <th>f1_score</th>\n",
              "      <th>log_loss</th>\n",
              "      <th>roc_auc</th>\n",
              "    </tr>\n",
              "  </thead>\n",
              "  <tbody>\n",
              "    <tr>\n",
              "      <th>0</th>\n",
              "      <td>0.042714</td>\n",
              "      <td>0.049417</td>\n",
              "      <td>0.003533</td>\n",
              "      <td>0.004152</td>\n",
              "      <td>3.697269</td>\n",
              "      <td>0.470065</td>\n",
              "    </tr>\n",
              "  </tbody>\n",
              "</table>\n",
              "</div>"
            ],
            "text/plain": [
              "   precision    recall  accuracy  f1_score  log_loss   roc_auc\n",
              "0   0.042714  0.049417  0.003533  0.004152  3.697269  0.470065"
            ]
          },
          "metadata": {
            "tags": []
          },
          "execution_count": 34
        }
      ]
    },
    {
      "cell_type": "markdown",
      "metadata": {
        "id": "RaEepsAzvZPv"
      },
      "source": [
        "**Doing same as above with 'Language' feature dropped:**"
      ]
    },
    {
      "cell_type": "code",
      "metadata": {
        "colab": {
          "base_uri": "https://localhost:8080/",
          "height": 32
        },
        "id": "o1PXJbVXb3JS",
        "outputId": "117be279-536f-4ed9-f668-c17819618bc7"
      },
      "source": [
        "%%bigquery --project $project_id\n",
        "\n",
        "CREATE OR REPLACE MODEL `bqml_librariesIO.rank_predictor_model`\n",
        "OPTIONS(model_type='logistic_reg', auto_class_weights=TRUE,input_label_cols=['sourcerank']) as\n",
        "SELECT\n",
        "  prjct_data.sourcerank,\n",
        "  dependent_projects_count,\n",
        "  dependent_repositories_count,\n",
        "  repo_data.repo_ranking,\n",
        "  repo_stars,\n",
        "  status,\n",
        "  time_since_last_update,\n",
        "  versions_count,\n",
        "FROM (\n",
        "  SELECT\n",
        "    sourcerank,\n",
        "    dependent_projects_count,\n",
        "    dependent_repositories_count,\n",
        "  IF\n",
        "    (status IS NULL,\n",
        "      'active',\n",
        "      status) AS status,\n",
        "    TIMESTAMP_DIFF(CURRENT_TIMESTAMP(), updated_timestamp, second) AS time_since_last_update,\n",
        "    versions_count,\n",
        "    repository_id\n",
        "  FROM\n",
        "    `bigquery-public-data.libraries_io.projects`\n",
        "  WHERE\n",
        " created_timestamp between '2015-01-11 23:56:18+00:00' and '2015-01-25 23:56:18+00:00') prjct_data\n",
        "JOIN (\n",
        "  SELECT\n",
        "    repos.id,\n",
        "    repos.sourcerank AS repo_ranking,\n",
        "    repos.stars_count AS repo_stars\n",
        "  FROM\n",
        "    `bigquery-public-data.libraries_io.projects` prjcts\n",
        "  JOIN\n",
        "    `bigquery-public-data.libraries_io.repositories` repos\n",
        "  ON\n",
        "    prjcts.repository_id=repos.id) repo_data\n",
        "ON\n",
        "  prjct_data.repository_id=repo_data.id"
      ],
      "execution_count": null,
      "outputs": [
        {
          "output_type": "execute_result",
          "data": {
            "text/html": [
              "<div>\n",
              "<style scoped>\n",
              "    .dataframe tbody tr th:only-of-type {\n",
              "        vertical-align: middle;\n",
              "    }\n",
              "\n",
              "    .dataframe tbody tr th {\n",
              "        vertical-align: top;\n",
              "    }\n",
              "\n",
              "    .dataframe thead th {\n",
              "        text-align: right;\n",
              "    }\n",
              "</style>\n",
              "<table border=\"1\" class=\"dataframe\">\n",
              "  <thead>\n",
              "    <tr style=\"text-align: right;\">\n",
              "      <th></th>\n",
              "    </tr>\n",
              "  </thead>\n",
              "  <tbody>\n",
              "  </tbody>\n",
              "</table>\n",
              "</div>"
            ],
            "text/plain": [
              "Empty DataFrame\n",
              "Columns: []\n",
              "Index: []"
            ]
          },
          "metadata": {
            "tags": []
          },
          "execution_count": 15
        }
      ]
    },
    {
      "cell_type": "code",
      "metadata": {
        "colab": {
          "base_uri": "https://localhost:8080/",
          "height": 80
        },
        "id": "M3gCve1ib4I2",
        "outputId": "013de1d9-bb88-40a1-fc7a-1d99a78b41b6"
      },
      "source": [
        "%%bigquery --project $project_id\n",
        "\n",
        "SELECT\n",
        "  *\n",
        "FROM\n",
        "  ML.EVALUATE(MODEL `bqml_librariesIO.rank_predictor_model`, (\n",
        "SELECT\n",
        "  prjct_data.sourcerank,\n",
        "  dependent_projects_count,\n",
        "  dependent_repositories_count,\n",
        "  repo_data.repo_ranking,\n",
        "  repo_stars,\n",
        "  status,\n",
        "  time_since_last_update,\n",
        "  versions_count,\n",
        "FROM (\n",
        "  SELECT\n",
        "    sourcerank,\n",
        "    dependent_projects_count,\n",
        "    dependent_repositories_count,\n",
        "  IF\n",
        "    (status IS NULL,\n",
        "      'active',\n",
        "      status) AS status,\n",
        "    TIMESTAMP_DIFF(CURRENT_TIMESTAMP(), updated_timestamp, second) AS time_since_last_update,\n",
        "    versions_count,\n",
        "    repository_id\n",
        "  FROM\n",
        "    `bigquery-public-data.libraries_io.projects`\n",
        "  WHERE\n",
        " created_timestamp between '2015-01-26 23:56:18+00:00' and '2015-01-27 15:56:18+00:00') prjct_data\n",
        "JOIN (\n",
        "  SELECT\n",
        "    repos.id,\n",
        "    repos.sourcerank AS repo_ranking,\n",
        "    repos.stars_count AS repo_stars\n",
        "  FROM\n",
        "    `bigquery-public-data.libraries_io.projects` prjcts\n",
        "  JOIN\n",
        "    `bigquery-public-data.libraries_io.repositories` repos\n",
        "  ON\n",
        "    prjcts.repository_id=repos.id) repo_data\n",
        "ON\n",
        "  prjct_data.repository_id=repo_data.id))"
      ],
      "execution_count": null,
      "outputs": [
        {
          "output_type": "execute_result",
          "data": {
            "text/html": [
              "<div>\n",
              "<style scoped>\n",
              "    .dataframe tbody tr th:only-of-type {\n",
              "        vertical-align: middle;\n",
              "    }\n",
              "\n",
              "    .dataframe tbody tr th {\n",
              "        vertical-align: top;\n",
              "    }\n",
              "\n",
              "    .dataframe thead th {\n",
              "        text-align: right;\n",
              "    }\n",
              "</style>\n",
              "<table border=\"1\" class=\"dataframe\">\n",
              "  <thead>\n",
              "    <tr style=\"text-align: right;\">\n",
              "      <th></th>\n",
              "      <th>precision</th>\n",
              "      <th>recall</th>\n",
              "      <th>accuracy</th>\n",
              "      <th>f1_score</th>\n",
              "      <th>log_loss</th>\n",
              "      <th>roc_auc</th>\n",
              "    </tr>\n",
              "  </thead>\n",
              "  <tbody>\n",
              "    <tr>\n",
              "      <th>0</th>\n",
              "      <td>0.017248</td>\n",
              "      <td>0.034492</td>\n",
              "      <td>0.003003</td>\n",
              "      <td>0.008567</td>\n",
              "      <td>8.971957</td>\n",
              "      <td>0.512339</td>\n",
              "    </tr>\n",
              "  </tbody>\n",
              "</table>\n",
              "</div>"
            ],
            "text/plain": [
              "   precision    recall  accuracy  f1_score  log_loss   roc_auc\n",
              "0   0.017248  0.034492  0.003003  0.008567  8.971957  0.512339"
            ]
          },
          "metadata": {
            "tags": []
          },
          "execution_count": 16
        }
      ]
    },
    {
      "cell_type": "markdown",
      "metadata": {
        "id": "bQpt0sQhwe5R"
      },
      "source": [
        "**Analyzing Weights used by model(**which lead to dropping 'status' feature**):**"
      ]
    },
    {
      "cell_type": "code",
      "metadata": {
        "colab": {
          "base_uri": "https://localhost:8080/",
          "height": 1000
        },
        "id": "lS72KUg6BmUB",
        "outputId": "b8cfafc9-c5c7-403d-8e2f-22be494804c6"
      },
      "source": [
        "%%bigquery --project $project_id\n",
        "\n",
        "SELECT\n",
        "  *\n",
        "FROM\n",
        "  ML.WEIGHTS(MODEL `bqml_librariesIO.rank_predictor_model`)\n",
        "  where processed_input='dependent_projects_count' order by class_label"
      ],
      "execution_count": null,
      "outputs": [
        {
          "output_type": "execute_result",
          "data": {
            "text/html": [
              "<div>\n",
              "<style scoped>\n",
              "    .dataframe tbody tr th:only-of-type {\n",
              "        vertical-align: middle;\n",
              "    }\n",
              "\n",
              "    .dataframe tbody tr th {\n",
              "        vertical-align: top;\n",
              "    }\n",
              "\n",
              "    .dataframe thead th {\n",
              "        text-align: right;\n",
              "    }\n",
              "</style>\n",
              "<table border=\"1\" class=\"dataframe\">\n",
              "  <thead>\n",
              "    <tr style=\"text-align: right;\">\n",
              "      <th></th>\n",
              "      <th>class_label</th>\n",
              "      <th>processed_input</th>\n",
              "      <th>weight</th>\n",
              "      <th>category_weights</th>\n",
              "    </tr>\n",
              "  </thead>\n",
              "  <tbody>\n",
              "    <tr>\n",
              "      <th>0</th>\n",
              "      <td>0</td>\n",
              "      <td>dependent_projects_count</td>\n",
              "      <td>-0.000102</td>\n",
              "      <td>[]</td>\n",
              "    </tr>\n",
              "    <tr>\n",
              "      <th>1</th>\n",
              "      <td>1</td>\n",
              "      <td>dependent_projects_count</td>\n",
              "      <td>-0.000102</td>\n",
              "      <td>[]</td>\n",
              "    </tr>\n",
              "    <tr>\n",
              "      <th>2</th>\n",
              "      <td>2</td>\n",
              "      <td>dependent_projects_count</td>\n",
              "      <td>-0.000102</td>\n",
              "      <td>[]</td>\n",
              "    </tr>\n",
              "    <tr>\n",
              "      <th>3</th>\n",
              "      <td>3</td>\n",
              "      <td>dependent_projects_count</td>\n",
              "      <td>-0.000102</td>\n",
              "      <td>[]</td>\n",
              "    </tr>\n",
              "    <tr>\n",
              "      <th>4</th>\n",
              "      <td>4</td>\n",
              "      <td>dependent_projects_count</td>\n",
              "      <td>-0.000102</td>\n",
              "      <td>[]</td>\n",
              "    </tr>\n",
              "    <tr>\n",
              "      <th>5</th>\n",
              "      <td>5</td>\n",
              "      <td>dependent_projects_count</td>\n",
              "      <td>-0.000102</td>\n",
              "      <td>[]</td>\n",
              "    </tr>\n",
              "    <tr>\n",
              "      <th>6</th>\n",
              "      <td>6</td>\n",
              "      <td>dependent_projects_count</td>\n",
              "      <td>-0.000102</td>\n",
              "      <td>[]</td>\n",
              "    </tr>\n",
              "    <tr>\n",
              "      <th>7</th>\n",
              "      <td>7</td>\n",
              "      <td>dependent_projects_count</td>\n",
              "      <td>-0.000102</td>\n",
              "      <td>[]</td>\n",
              "    </tr>\n",
              "    <tr>\n",
              "      <th>8</th>\n",
              "      <td>8</td>\n",
              "      <td>dependent_projects_count</td>\n",
              "      <td>-0.000102</td>\n",
              "      <td>[]</td>\n",
              "    </tr>\n",
              "    <tr>\n",
              "      <th>9</th>\n",
              "      <td>9</td>\n",
              "      <td>dependent_projects_count</td>\n",
              "      <td>-0.000103</td>\n",
              "      <td>[]</td>\n",
              "    </tr>\n",
              "    <tr>\n",
              "      <th>10</th>\n",
              "      <td>10</td>\n",
              "      <td>dependent_projects_count</td>\n",
              "      <td>-0.000103</td>\n",
              "      <td>[]</td>\n",
              "    </tr>\n",
              "    <tr>\n",
              "      <th>11</th>\n",
              "      <td>11</td>\n",
              "      <td>dependent_projects_count</td>\n",
              "      <td>-0.000102</td>\n",
              "      <td>[]</td>\n",
              "    </tr>\n",
              "    <tr>\n",
              "      <th>12</th>\n",
              "      <td>12</td>\n",
              "      <td>dependent_projects_count</td>\n",
              "      <td>-0.000102</td>\n",
              "      <td>[]</td>\n",
              "    </tr>\n",
              "    <tr>\n",
              "      <th>13</th>\n",
              "      <td>13</td>\n",
              "      <td>dependent_projects_count</td>\n",
              "      <td>-0.000103</td>\n",
              "      <td>[]</td>\n",
              "    </tr>\n",
              "    <tr>\n",
              "      <th>14</th>\n",
              "      <td>14</td>\n",
              "      <td>dependent_projects_count</td>\n",
              "      <td>-0.000102</td>\n",
              "      <td>[]</td>\n",
              "    </tr>\n",
              "    <tr>\n",
              "      <th>15</th>\n",
              "      <td>15</td>\n",
              "      <td>dependent_projects_count</td>\n",
              "      <td>-0.000102</td>\n",
              "      <td>[]</td>\n",
              "    </tr>\n",
              "    <tr>\n",
              "      <th>16</th>\n",
              "      <td>16</td>\n",
              "      <td>dependent_projects_count</td>\n",
              "      <td>-0.000100</td>\n",
              "      <td>[]</td>\n",
              "    </tr>\n",
              "    <tr>\n",
              "      <th>17</th>\n",
              "      <td>17</td>\n",
              "      <td>dependent_projects_count</td>\n",
              "      <td>-0.000098</td>\n",
              "      <td>[]</td>\n",
              "    </tr>\n",
              "    <tr>\n",
              "      <th>18</th>\n",
              "      <td>18</td>\n",
              "      <td>dependent_projects_count</td>\n",
              "      <td>-0.000093</td>\n",
              "      <td>[]</td>\n",
              "    </tr>\n",
              "    <tr>\n",
              "      <th>19</th>\n",
              "      <td>19</td>\n",
              "      <td>dependent_projects_count</td>\n",
              "      <td>-0.000064</td>\n",
              "      <td>[]</td>\n",
              "    </tr>\n",
              "    <tr>\n",
              "      <th>20</th>\n",
              "      <td>20</td>\n",
              "      <td>dependent_projects_count</td>\n",
              "      <td>-0.000093</td>\n",
              "      <td>[]</td>\n",
              "    </tr>\n",
              "    <tr>\n",
              "      <th>21</th>\n",
              "      <td>21</td>\n",
              "      <td>dependent_projects_count</td>\n",
              "      <td>-0.000043</td>\n",
              "      <td>[]</td>\n",
              "    </tr>\n",
              "    <tr>\n",
              "      <th>22</th>\n",
              "      <td>22</td>\n",
              "      <td>dependent_projects_count</td>\n",
              "      <td>-0.000050</td>\n",
              "      <td>[]</td>\n",
              "    </tr>\n",
              "    <tr>\n",
              "      <th>23</th>\n",
              "      <td>23</td>\n",
              "      <td>dependent_projects_count</td>\n",
              "      <td>0.000117</td>\n",
              "      <td>[]</td>\n",
              "    </tr>\n",
              "    <tr>\n",
              "      <th>24</th>\n",
              "      <td>24</td>\n",
              "      <td>dependent_projects_count</td>\n",
              "      <td>0.000293</td>\n",
              "      <td>[]</td>\n",
              "    </tr>\n",
              "    <tr>\n",
              "      <th>25</th>\n",
              "      <td>25</td>\n",
              "      <td>dependent_projects_count</td>\n",
              "      <td>0.000072</td>\n",
              "      <td>[]</td>\n",
              "    </tr>\n",
              "    <tr>\n",
              "      <th>26</th>\n",
              "      <td>26</td>\n",
              "      <td>dependent_projects_count</td>\n",
              "      <td>0.000299</td>\n",
              "      <td>[]</td>\n",
              "    </tr>\n",
              "    <tr>\n",
              "      <th>27</th>\n",
              "      <td>27</td>\n",
              "      <td>dependent_projects_count</td>\n",
              "      <td>0.000427</td>\n",
              "      <td>[]</td>\n",
              "    </tr>\n",
              "    <tr>\n",
              "      <th>28</th>\n",
              "      <td>28</td>\n",
              "      <td>dependent_projects_count</td>\n",
              "      <td>0.000329</td>\n",
              "      <td>[]</td>\n",
              "    </tr>\n",
              "    <tr>\n",
              "      <th>29</th>\n",
              "      <td>29</td>\n",
              "      <td>dependent_projects_count</td>\n",
              "      <td>0.000441</td>\n",
              "      <td>[]</td>\n",
              "    </tr>\n",
              "    <tr>\n",
              "      <th>30</th>\n",
              "      <td>30</td>\n",
              "      <td>dependent_projects_count</td>\n",
              "      <td>0.001225</td>\n",
              "      <td>[]</td>\n",
              "    </tr>\n",
              "    <tr>\n",
              "      <th>31</th>\n",
              "      <td>31</td>\n",
              "      <td>dependent_projects_count</td>\n",
              "      <td>-0.001023</td>\n",
              "      <td>[]</td>\n",
              "    </tr>\n",
              "  </tbody>\n",
              "</table>\n",
              "</div>"
            ],
            "text/plain": [
              "    class_label           processed_input    weight category_weights\n",
              "0             0  dependent_projects_count -0.000102               []\n",
              "1             1  dependent_projects_count -0.000102               []\n",
              "2             2  dependent_projects_count -0.000102               []\n",
              "3             3  dependent_projects_count -0.000102               []\n",
              "4             4  dependent_projects_count -0.000102               []\n",
              "5             5  dependent_projects_count -0.000102               []\n",
              "6             6  dependent_projects_count -0.000102               []\n",
              "7             7  dependent_projects_count -0.000102               []\n",
              "8             8  dependent_projects_count -0.000102               []\n",
              "9             9  dependent_projects_count -0.000103               []\n",
              "10           10  dependent_projects_count -0.000103               []\n",
              "11           11  dependent_projects_count -0.000102               []\n",
              "12           12  dependent_projects_count -0.000102               []\n",
              "13           13  dependent_projects_count -0.000103               []\n",
              "14           14  dependent_projects_count -0.000102               []\n",
              "15           15  dependent_projects_count -0.000102               []\n",
              "16           16  dependent_projects_count -0.000100               []\n",
              "17           17  dependent_projects_count -0.000098               []\n",
              "18           18  dependent_projects_count -0.000093               []\n",
              "19           19  dependent_projects_count -0.000064               []\n",
              "20           20  dependent_projects_count -0.000093               []\n",
              "21           21  dependent_projects_count -0.000043               []\n",
              "22           22  dependent_projects_count -0.000050               []\n",
              "23           23  dependent_projects_count  0.000117               []\n",
              "24           24  dependent_projects_count  0.000293               []\n",
              "25           25  dependent_projects_count  0.000072               []\n",
              "26           26  dependent_projects_count  0.000299               []\n",
              "27           27  dependent_projects_count  0.000427               []\n",
              "28           28  dependent_projects_count  0.000329               []\n",
              "29           29  dependent_projects_count  0.000441               []\n",
              "30           30  dependent_projects_count  0.001225               []\n",
              "31           31  dependent_projects_count -0.001023               []"
            ]
          },
          "metadata": {
            "tags": []
          },
          "execution_count": 21
        }
      ]
    },
    {
      "cell_type": "code",
      "metadata": {
        "colab": {
          "base_uri": "https://localhost:8080/",
          "height": 1000
        },
        "id": "gw4tAa-TAHLy",
        "outputId": "18c247de-1fb7-451e-b2a4-b3c4ed0552b9"
      },
      "source": [
        "%%bigquery --project $project_id\n",
        "\n",
        "SELECT\n",
        "  *\n",
        "FROM\n",
        "  ML.WEIGHTS(MODEL `bqml_librariesIO.rank_predictor_model`)\n",
        "  where processed_input='dependent_repositories_count' order by class_label"
      ],
      "execution_count": null,
      "outputs": [
        {
          "output_type": "execute_result",
          "data": {
            "text/html": [
              "<div>\n",
              "<style scoped>\n",
              "    .dataframe tbody tr th:only-of-type {\n",
              "        vertical-align: middle;\n",
              "    }\n",
              "\n",
              "    .dataframe tbody tr th {\n",
              "        vertical-align: top;\n",
              "    }\n",
              "\n",
              "    .dataframe thead th {\n",
              "        text-align: right;\n",
              "    }\n",
              "</style>\n",
              "<table border=\"1\" class=\"dataframe\">\n",
              "  <thead>\n",
              "    <tr style=\"text-align: right;\">\n",
              "      <th></th>\n",
              "      <th>class_label</th>\n",
              "      <th>processed_input</th>\n",
              "      <th>weight</th>\n",
              "      <th>category_weights</th>\n",
              "    </tr>\n",
              "  </thead>\n",
              "  <tbody>\n",
              "    <tr>\n",
              "      <th>0</th>\n",
              "      <td>0</td>\n",
              "      <td>dependent_repositories_count</td>\n",
              "      <td>-2.419188e-06</td>\n",
              "      <td>[]</td>\n",
              "    </tr>\n",
              "    <tr>\n",
              "      <th>1</th>\n",
              "      <td>1</td>\n",
              "      <td>dependent_repositories_count</td>\n",
              "      <td>-2.422447e-06</td>\n",
              "      <td>[]</td>\n",
              "    </tr>\n",
              "    <tr>\n",
              "      <th>2</th>\n",
              "      <td>2</td>\n",
              "      <td>dependent_repositories_count</td>\n",
              "      <td>-2.422850e-06</td>\n",
              "      <td>[]</td>\n",
              "    </tr>\n",
              "    <tr>\n",
              "      <th>3</th>\n",
              "      <td>3</td>\n",
              "      <td>dependent_repositories_count</td>\n",
              "      <td>-2.424419e-06</td>\n",
              "      <td>[]</td>\n",
              "    </tr>\n",
              "    <tr>\n",
              "      <th>4</th>\n",
              "      <td>4</td>\n",
              "      <td>dependent_repositories_count</td>\n",
              "      <td>-2.423165e-06</td>\n",
              "      <td>[]</td>\n",
              "    </tr>\n",
              "    <tr>\n",
              "      <th>5</th>\n",
              "      <td>5</td>\n",
              "      <td>dependent_repositories_count</td>\n",
              "      <td>-2.423082e-06</td>\n",
              "      <td>[]</td>\n",
              "    </tr>\n",
              "    <tr>\n",
              "      <th>6</th>\n",
              "      <td>6</td>\n",
              "      <td>dependent_repositories_count</td>\n",
              "      <td>-2.424188e-06</td>\n",
              "      <td>[]</td>\n",
              "    </tr>\n",
              "    <tr>\n",
              "      <th>7</th>\n",
              "      <td>7</td>\n",
              "      <td>dependent_repositories_count</td>\n",
              "      <td>-2.424119e-06</td>\n",
              "      <td>[]</td>\n",
              "    </tr>\n",
              "    <tr>\n",
              "      <th>8</th>\n",
              "      <td>8</td>\n",
              "      <td>dependent_repositories_count</td>\n",
              "      <td>-2.424891e-06</td>\n",
              "      <td>[]</td>\n",
              "    </tr>\n",
              "    <tr>\n",
              "      <th>9</th>\n",
              "      <td>9</td>\n",
              "      <td>dependent_repositories_count</td>\n",
              "      <td>-2.429556e-06</td>\n",
              "      <td>[]</td>\n",
              "    </tr>\n",
              "    <tr>\n",
              "      <th>10</th>\n",
              "      <td>10</td>\n",
              "      <td>dependent_repositories_count</td>\n",
              "      <td>-2.427645e-06</td>\n",
              "      <td>[]</td>\n",
              "    </tr>\n",
              "    <tr>\n",
              "      <th>11</th>\n",
              "      <td>11</td>\n",
              "      <td>dependent_repositories_count</td>\n",
              "      <td>-2.428364e-06</td>\n",
              "      <td>[]</td>\n",
              "    </tr>\n",
              "    <tr>\n",
              "      <th>12</th>\n",
              "      <td>12</td>\n",
              "      <td>dependent_repositories_count</td>\n",
              "      <td>-2.428281e-06</td>\n",
              "      <td>[]</td>\n",
              "    </tr>\n",
              "    <tr>\n",
              "      <th>13</th>\n",
              "      <td>13</td>\n",
              "      <td>dependent_repositories_count</td>\n",
              "      <td>-2.437312e-06</td>\n",
              "      <td>[]</td>\n",
              "    </tr>\n",
              "    <tr>\n",
              "      <th>14</th>\n",
              "      <td>14</td>\n",
              "      <td>dependent_repositories_count</td>\n",
              "      <td>-2.424865e-06</td>\n",
              "      <td>[]</td>\n",
              "    </tr>\n",
              "    <tr>\n",
              "      <th>15</th>\n",
              "      <td>15</td>\n",
              "      <td>dependent_repositories_count</td>\n",
              "      <td>-2.376889e-06</td>\n",
              "      <td>[]</td>\n",
              "    </tr>\n",
              "    <tr>\n",
              "      <th>16</th>\n",
              "      <td>16</td>\n",
              "      <td>dependent_repositories_count</td>\n",
              "      <td>-2.380813e-06</td>\n",
              "      <td>[]</td>\n",
              "    </tr>\n",
              "    <tr>\n",
              "      <th>17</th>\n",
              "      <td>17</td>\n",
              "      <td>dependent_repositories_count</td>\n",
              "      <td>-2.322525e-06</td>\n",
              "      <td>[]</td>\n",
              "    </tr>\n",
              "    <tr>\n",
              "      <th>18</th>\n",
              "      <td>18</td>\n",
              "      <td>dependent_repositories_count</td>\n",
              "      <td>-2.095025e-06</td>\n",
              "      <td>[]</td>\n",
              "    </tr>\n",
              "    <tr>\n",
              "      <th>19</th>\n",
              "      <td>19</td>\n",
              "      <td>dependent_repositories_count</td>\n",
              "      <td>-1.920394e-06</td>\n",
              "      <td>[]</td>\n",
              "    </tr>\n",
              "    <tr>\n",
              "      <th>20</th>\n",
              "      <td>20</td>\n",
              "      <td>dependent_repositories_count</td>\n",
              "      <td>-6.040049e-07</td>\n",
              "      <td>[]</td>\n",
              "    </tr>\n",
              "    <tr>\n",
              "      <th>21</th>\n",
              "      <td>21</td>\n",
              "      <td>dependent_repositories_count</td>\n",
              "      <td>-1.597407e-06</td>\n",
              "      <td>[]</td>\n",
              "    </tr>\n",
              "    <tr>\n",
              "      <th>22</th>\n",
              "      <td>22</td>\n",
              "      <td>dependent_repositories_count</td>\n",
              "      <td>1.687471e-06</td>\n",
              "      <td>[]</td>\n",
              "    </tr>\n",
              "    <tr>\n",
              "      <th>23</th>\n",
              "      <td>23</td>\n",
              "      <td>dependent_repositories_count</td>\n",
              "      <td>-1.511889e-06</td>\n",
              "      <td>[]</td>\n",
              "    </tr>\n",
              "    <tr>\n",
              "      <th>24</th>\n",
              "      <td>24</td>\n",
              "      <td>dependent_repositories_count</td>\n",
              "      <td>-1.127610e-06</td>\n",
              "      <td>[]</td>\n",
              "    </tr>\n",
              "    <tr>\n",
              "      <th>25</th>\n",
              "      <td>25</td>\n",
              "      <td>dependent_repositories_count</td>\n",
              "      <td>1.311095e-05</td>\n",
              "      <td>[]</td>\n",
              "    </tr>\n",
              "    <tr>\n",
              "      <th>26</th>\n",
              "      <td>26</td>\n",
              "      <td>dependent_repositories_count</td>\n",
              "      <td>2.261052e-05</td>\n",
              "      <td>[]</td>\n",
              "    </tr>\n",
              "    <tr>\n",
              "      <th>27</th>\n",
              "      <td>27</td>\n",
              "      <td>dependent_repositories_count</td>\n",
              "      <td>5.243302e-06</td>\n",
              "      <td>[]</td>\n",
              "    </tr>\n",
              "    <tr>\n",
              "      <th>28</th>\n",
              "      <td>28</td>\n",
              "      <td>dependent_repositories_count</td>\n",
              "      <td>2.983387e-05</td>\n",
              "      <td>[]</td>\n",
              "    </tr>\n",
              "    <tr>\n",
              "      <th>29</th>\n",
              "      <td>29</td>\n",
              "      <td>dependent_repositories_count</td>\n",
              "      <td>7.660618e-06</td>\n",
              "      <td>[]</td>\n",
              "    </tr>\n",
              "    <tr>\n",
              "      <th>30</th>\n",
              "      <td>30</td>\n",
              "      <td>dependent_repositories_count</td>\n",
              "      <td>2.758476e-05</td>\n",
              "      <td>[]</td>\n",
              "    </tr>\n",
              "    <tr>\n",
              "      <th>31</th>\n",
              "      <td>31</td>\n",
              "      <td>dependent_repositories_count</td>\n",
              "      <td>-5.541056e-05</td>\n",
              "      <td>[]</td>\n",
              "    </tr>\n",
              "  </tbody>\n",
              "</table>\n",
              "</div>"
            ],
            "text/plain": [
              "    class_label               processed_input        weight category_weights\n",
              "0             0  dependent_repositories_count -2.419188e-06               []\n",
              "1             1  dependent_repositories_count -2.422447e-06               []\n",
              "2             2  dependent_repositories_count -2.422850e-06               []\n",
              "3             3  dependent_repositories_count -2.424419e-06               []\n",
              "4             4  dependent_repositories_count -2.423165e-06               []\n",
              "5             5  dependent_repositories_count -2.423082e-06               []\n",
              "6             6  dependent_repositories_count -2.424188e-06               []\n",
              "7             7  dependent_repositories_count -2.424119e-06               []\n",
              "8             8  dependent_repositories_count -2.424891e-06               []\n",
              "9             9  dependent_repositories_count -2.429556e-06               []\n",
              "10           10  dependent_repositories_count -2.427645e-06               []\n",
              "11           11  dependent_repositories_count -2.428364e-06               []\n",
              "12           12  dependent_repositories_count -2.428281e-06               []\n",
              "13           13  dependent_repositories_count -2.437312e-06               []\n",
              "14           14  dependent_repositories_count -2.424865e-06               []\n",
              "15           15  dependent_repositories_count -2.376889e-06               []\n",
              "16           16  dependent_repositories_count -2.380813e-06               []\n",
              "17           17  dependent_repositories_count -2.322525e-06               []\n",
              "18           18  dependent_repositories_count -2.095025e-06               []\n",
              "19           19  dependent_repositories_count -1.920394e-06               []\n",
              "20           20  dependent_repositories_count -6.040049e-07               []\n",
              "21           21  dependent_repositories_count -1.597407e-06               []\n",
              "22           22  dependent_repositories_count  1.687471e-06               []\n",
              "23           23  dependent_repositories_count -1.511889e-06               []\n",
              "24           24  dependent_repositories_count -1.127610e-06               []\n",
              "25           25  dependent_repositories_count  1.311095e-05               []\n",
              "26           26  dependent_repositories_count  2.261052e-05               []\n",
              "27           27  dependent_repositories_count  5.243302e-06               []\n",
              "28           28  dependent_repositories_count  2.983387e-05               []\n",
              "29           29  dependent_repositories_count  7.660618e-06               []\n",
              "30           30  dependent_repositories_count  2.758476e-05               []\n",
              "31           31  dependent_repositories_count -5.541056e-05               []"
            ]
          },
          "metadata": {
            "tags": []
          },
          "execution_count": 18
        }
      ]
    },
    {
      "cell_type": "code",
      "metadata": {
        "colab": {
          "base_uri": "https://localhost:8080/",
          "height": 1000
        },
        "id": "89W4ojZKB0R_",
        "outputId": "dd6df6c8-6713-4d65-e08f-7b66c16c97bf"
      },
      "source": [
        "%%bigquery --project $project_id\n",
        "\n",
        "SELECT\n",
        "  *\n",
        "FROM\n",
        "  ML.WEIGHTS(MODEL `bqml_librariesIO.rank_predictor_model`)\n",
        "  where processed_input='repo_ranking' order by class_label"
      ],
      "execution_count": null,
      "outputs": [
        {
          "output_type": "execute_result",
          "data": {
            "text/html": [
              "<div>\n",
              "<style scoped>\n",
              "    .dataframe tbody tr th:only-of-type {\n",
              "        vertical-align: middle;\n",
              "    }\n",
              "\n",
              "    .dataframe tbody tr th {\n",
              "        vertical-align: top;\n",
              "    }\n",
              "\n",
              "    .dataframe thead th {\n",
              "        text-align: right;\n",
              "    }\n",
              "</style>\n",
              "<table border=\"1\" class=\"dataframe\">\n",
              "  <thead>\n",
              "    <tr style=\"text-align: right;\">\n",
              "      <th></th>\n",
              "      <th>class_label</th>\n",
              "      <th>processed_input</th>\n",
              "      <th>weight</th>\n",
              "      <th>category_weights</th>\n",
              "    </tr>\n",
              "  </thead>\n",
              "  <tbody>\n",
              "    <tr>\n",
              "      <th>0</th>\n",
              "      <td>0</td>\n",
              "      <td>repo_ranking</td>\n",
              "      <td>-0.004341</td>\n",
              "      <td>[]</td>\n",
              "    </tr>\n",
              "    <tr>\n",
              "      <th>1</th>\n",
              "      <td>1</td>\n",
              "      <td>repo_ranking</td>\n",
              "      <td>-0.004096</td>\n",
              "      <td>[]</td>\n",
              "    </tr>\n",
              "    <tr>\n",
              "      <th>2</th>\n",
              "      <td>2</td>\n",
              "      <td>repo_ranking</td>\n",
              "      <td>-0.003912</td>\n",
              "      <td>[]</td>\n",
              "    </tr>\n",
              "    <tr>\n",
              "      <th>3</th>\n",
              "      <td>3</td>\n",
              "      <td>repo_ranking</td>\n",
              "      <td>-0.003418</td>\n",
              "      <td>[]</td>\n",
              "    </tr>\n",
              "    <tr>\n",
              "      <th>4</th>\n",
              "      <td>4</td>\n",
              "      <td>repo_ranking</td>\n",
              "      <td>-0.003986</td>\n",
              "      <td>[]</td>\n",
              "    </tr>\n",
              "    <tr>\n",
              "      <th>5</th>\n",
              "      <td>5</td>\n",
              "      <td>repo_ranking</td>\n",
              "      <td>-0.003940</td>\n",
              "      <td>[]</td>\n",
              "    </tr>\n",
              "    <tr>\n",
              "      <th>6</th>\n",
              "      <td>6</td>\n",
              "      <td>repo_ranking</td>\n",
              "      <td>-0.003785</td>\n",
              "      <td>[]</td>\n",
              "    </tr>\n",
              "    <tr>\n",
              "      <th>7</th>\n",
              "      <td>7</td>\n",
              "      <td>repo_ranking</td>\n",
              "      <td>-0.003699</td>\n",
              "      <td>[]</td>\n",
              "    </tr>\n",
              "    <tr>\n",
              "      <th>8</th>\n",
              "      <td>8</td>\n",
              "      <td>repo_ranking</td>\n",
              "      <td>-0.003361</td>\n",
              "      <td>[]</td>\n",
              "    </tr>\n",
              "    <tr>\n",
              "      <th>9</th>\n",
              "      <td>9</td>\n",
              "      <td>repo_ranking</td>\n",
              "      <td>-0.001309</td>\n",
              "      <td>[]</td>\n",
              "    </tr>\n",
              "    <tr>\n",
              "      <th>10</th>\n",
              "      <td>10</td>\n",
              "      <td>repo_ranking</td>\n",
              "      <td>-0.001729</td>\n",
              "      <td>[]</td>\n",
              "    </tr>\n",
              "    <tr>\n",
              "      <th>11</th>\n",
              "      <td>11</td>\n",
              "      <td>repo_ranking</td>\n",
              "      <td>-0.001127</td>\n",
              "      <td>[]</td>\n",
              "    </tr>\n",
              "    <tr>\n",
              "      <th>12</th>\n",
              "      <td>12</td>\n",
              "      <td>repo_ranking</td>\n",
              "      <td>-0.000684</td>\n",
              "      <td>[]</td>\n",
              "    </tr>\n",
              "    <tr>\n",
              "      <th>13</th>\n",
              "      <td>13</td>\n",
              "      <td>repo_ranking</td>\n",
              "      <td>0.002982</td>\n",
              "      <td>[]</td>\n",
              "    </tr>\n",
              "    <tr>\n",
              "      <th>14</th>\n",
              "      <td>14</td>\n",
              "      <td>repo_ranking</td>\n",
              "      <td>0.001277</td>\n",
              "      <td>[]</td>\n",
              "    </tr>\n",
              "    <tr>\n",
              "      <th>15</th>\n",
              "      <td>15</td>\n",
              "      <td>repo_ranking</td>\n",
              "      <td>0.001578</td>\n",
              "      <td>[]</td>\n",
              "    </tr>\n",
              "    <tr>\n",
              "      <th>16</th>\n",
              "      <td>16</td>\n",
              "      <td>repo_ranking</td>\n",
              "      <td>0.002530</td>\n",
              "      <td>[]</td>\n",
              "    </tr>\n",
              "    <tr>\n",
              "      <th>17</th>\n",
              "      <td>17</td>\n",
              "      <td>repo_ranking</td>\n",
              "      <td>0.002191</td>\n",
              "      <td>[]</td>\n",
              "    </tr>\n",
              "    <tr>\n",
              "      <th>18</th>\n",
              "      <td>18</td>\n",
              "      <td>repo_ranking</td>\n",
              "      <td>0.002353</td>\n",
              "      <td>[]</td>\n",
              "    </tr>\n",
              "    <tr>\n",
              "      <th>19</th>\n",
              "      <td>19</td>\n",
              "      <td>repo_ranking</td>\n",
              "      <td>0.002668</td>\n",
              "      <td>[]</td>\n",
              "    </tr>\n",
              "    <tr>\n",
              "      <th>20</th>\n",
              "      <td>20</td>\n",
              "      <td>repo_ranking</td>\n",
              "      <td>0.004247</td>\n",
              "      <td>[]</td>\n",
              "    </tr>\n",
              "    <tr>\n",
              "      <th>21</th>\n",
              "      <td>21</td>\n",
              "      <td>repo_ranking</td>\n",
              "      <td>0.002705</td>\n",
              "      <td>[]</td>\n",
              "    </tr>\n",
              "    <tr>\n",
              "      <th>22</th>\n",
              "      <td>22</td>\n",
              "      <td>repo_ranking</td>\n",
              "      <td>0.003731</td>\n",
              "      <td>[]</td>\n",
              "    </tr>\n",
              "    <tr>\n",
              "      <th>23</th>\n",
              "      <td>23</td>\n",
              "      <td>repo_ranking</td>\n",
              "      <td>0.003236</td>\n",
              "      <td>[]</td>\n",
              "    </tr>\n",
              "    <tr>\n",
              "      <th>24</th>\n",
              "      <td>24</td>\n",
              "      <td>repo_ranking</td>\n",
              "      <td>0.002614</td>\n",
              "      <td>[]</td>\n",
              "    </tr>\n",
              "    <tr>\n",
              "      <th>25</th>\n",
              "      <td>25</td>\n",
              "      <td>repo_ranking</td>\n",
              "      <td>0.005008</td>\n",
              "      <td>[]</td>\n",
              "    </tr>\n",
              "    <tr>\n",
              "      <th>26</th>\n",
              "      <td>26</td>\n",
              "      <td>repo_ranking</td>\n",
              "      <td>0.004766</td>\n",
              "      <td>[]</td>\n",
              "    </tr>\n",
              "    <tr>\n",
              "      <th>27</th>\n",
              "      <td>27</td>\n",
              "      <td>repo_ranking</td>\n",
              "      <td>0.005592</td>\n",
              "      <td>[]</td>\n",
              "    </tr>\n",
              "    <tr>\n",
              "      <th>28</th>\n",
              "      <td>28</td>\n",
              "      <td>repo_ranking</td>\n",
              "      <td>0.004470</td>\n",
              "      <td>[]</td>\n",
              "    </tr>\n",
              "    <tr>\n",
              "      <th>29</th>\n",
              "      <td>29</td>\n",
              "      <td>repo_ranking</td>\n",
              "      <td>0.003608</td>\n",
              "      <td>[]</td>\n",
              "    </tr>\n",
              "    <tr>\n",
              "      <th>30</th>\n",
              "      <td>30</td>\n",
              "      <td>repo_ranking</td>\n",
              "      <td>0.002919</td>\n",
              "      <td>[]</td>\n",
              "    </tr>\n",
              "    <tr>\n",
              "      <th>31</th>\n",
              "      <td>31</td>\n",
              "      <td>repo_ranking</td>\n",
              "      <td>-0.019090</td>\n",
              "      <td>[]</td>\n",
              "    </tr>\n",
              "  </tbody>\n",
              "</table>\n",
              "</div>"
            ],
            "text/plain": [
              "    class_label processed_input    weight category_weights\n",
              "0             0    repo_ranking -0.004341               []\n",
              "1             1    repo_ranking -0.004096               []\n",
              "2             2    repo_ranking -0.003912               []\n",
              "3             3    repo_ranking -0.003418               []\n",
              "4             4    repo_ranking -0.003986               []\n",
              "5             5    repo_ranking -0.003940               []\n",
              "6             6    repo_ranking -0.003785               []\n",
              "7             7    repo_ranking -0.003699               []\n",
              "8             8    repo_ranking -0.003361               []\n",
              "9             9    repo_ranking -0.001309               []\n",
              "10           10    repo_ranking -0.001729               []\n",
              "11           11    repo_ranking -0.001127               []\n",
              "12           12    repo_ranking -0.000684               []\n",
              "13           13    repo_ranking  0.002982               []\n",
              "14           14    repo_ranking  0.001277               []\n",
              "15           15    repo_ranking  0.001578               []\n",
              "16           16    repo_ranking  0.002530               []\n",
              "17           17    repo_ranking  0.002191               []\n",
              "18           18    repo_ranking  0.002353               []\n",
              "19           19    repo_ranking  0.002668               []\n",
              "20           20    repo_ranking  0.004247               []\n",
              "21           21    repo_ranking  0.002705               []\n",
              "22           22    repo_ranking  0.003731               []\n",
              "23           23    repo_ranking  0.003236               []\n",
              "24           24    repo_ranking  0.002614               []\n",
              "25           25    repo_ranking  0.005008               []\n",
              "26           26    repo_ranking  0.004766               []\n",
              "27           27    repo_ranking  0.005592               []\n",
              "28           28    repo_ranking  0.004470               []\n",
              "29           29    repo_ranking  0.003608               []\n",
              "30           30    repo_ranking  0.002919               []\n",
              "31           31    repo_ranking -0.019090               []"
            ]
          },
          "metadata": {
            "tags": []
          },
          "execution_count": 19
        }
      ]
    },
    {
      "cell_type": "code",
      "metadata": {
        "colab": {
          "base_uri": "https://localhost:8080/",
          "height": 1000
        },
        "id": "PDSx3AjqCBKd",
        "outputId": "a6c3dde3-4603-40f7-88ff-fea9ed40a804"
      },
      "source": [
        "%%bigquery --project $project_id\n",
        "\n",
        "SELECT\n",
        "  *\n",
        "FROM\n",
        "  ML.WEIGHTS(MODEL `bqml_librariesIO.rank_predictor_model`)\n",
        "  where processed_input='repo_stars' order by class_label"
      ],
      "execution_count": null,
      "outputs": [
        {
          "output_type": "execute_result",
          "data": {
            "text/html": [
              "<div>\n",
              "<style scoped>\n",
              "    .dataframe tbody tr th:only-of-type {\n",
              "        vertical-align: middle;\n",
              "    }\n",
              "\n",
              "    .dataframe tbody tr th {\n",
              "        vertical-align: top;\n",
              "    }\n",
              "\n",
              "    .dataframe thead th {\n",
              "        text-align: right;\n",
              "    }\n",
              "</style>\n",
              "<table border=\"1\" class=\"dataframe\">\n",
              "  <thead>\n",
              "    <tr style=\"text-align: right;\">\n",
              "      <th></th>\n",
              "      <th>class_label</th>\n",
              "      <th>processed_input</th>\n",
              "      <th>weight</th>\n",
              "      <th>category_weights</th>\n",
              "    </tr>\n",
              "  </thead>\n",
              "  <tbody>\n",
              "    <tr>\n",
              "      <th>0</th>\n",
              "      <td>0</td>\n",
              "      <td>repo_stars</td>\n",
              "      <td>-1.420533e-06</td>\n",
              "      <td>[]</td>\n",
              "    </tr>\n",
              "    <tr>\n",
              "      <th>1</th>\n",
              "      <td>1</td>\n",
              "      <td>repo_stars</td>\n",
              "      <td>-1.433534e-06</td>\n",
              "      <td>[]</td>\n",
              "    </tr>\n",
              "    <tr>\n",
              "      <th>2</th>\n",
              "      <td>2</td>\n",
              "      <td>repo_stars</td>\n",
              "      <td>-1.435333e-06</td>\n",
              "      <td>[]</td>\n",
              "    </tr>\n",
              "    <tr>\n",
              "      <th>3</th>\n",
              "      <td>3</td>\n",
              "      <td>repo_stars</td>\n",
              "      <td>-1.385598e-06</td>\n",
              "      <td>[]</td>\n",
              "    </tr>\n",
              "    <tr>\n",
              "      <th>4</th>\n",
              "      <td>4</td>\n",
              "      <td>repo_stars</td>\n",
              "      <td>-1.350734e-06</td>\n",
              "      <td>[]</td>\n",
              "    </tr>\n",
              "    <tr>\n",
              "      <th>5</th>\n",
              "      <td>5</td>\n",
              "      <td>repo_stars</td>\n",
              "      <td>-1.427527e-06</td>\n",
              "      <td>[]</td>\n",
              "    </tr>\n",
              "    <tr>\n",
              "      <th>6</th>\n",
              "      <td>6</td>\n",
              "      <td>repo_stars</td>\n",
              "      <td>-1.333909e-06</td>\n",
              "      <td>[]</td>\n",
              "    </tr>\n",
              "    <tr>\n",
              "      <th>7</th>\n",
              "      <td>7</td>\n",
              "      <td>repo_stars</td>\n",
              "      <td>-1.433741e-06</td>\n",
              "      <td>[]</td>\n",
              "    </tr>\n",
              "    <tr>\n",
              "      <th>8</th>\n",
              "      <td>8</td>\n",
              "      <td>repo_stars</td>\n",
              "      <td>-1.434513e-06</td>\n",
              "      <td>[]</td>\n",
              "    </tr>\n",
              "    <tr>\n",
              "      <th>9</th>\n",
              "      <td>9</td>\n",
              "      <td>repo_stars</td>\n",
              "      <td>-1.436212e-06</td>\n",
              "      <td>[]</td>\n",
              "    </tr>\n",
              "    <tr>\n",
              "      <th>10</th>\n",
              "      <td>10</td>\n",
              "      <td>repo_stars</td>\n",
              "      <td>-1.405441e-06</td>\n",
              "      <td>[]</td>\n",
              "    </tr>\n",
              "    <tr>\n",
              "      <th>11</th>\n",
              "      <td>11</td>\n",
              "      <td>repo_stars</td>\n",
              "      <td>-1.225942e-06</td>\n",
              "      <td>[]</td>\n",
              "    </tr>\n",
              "    <tr>\n",
              "      <th>12</th>\n",
              "      <td>12</td>\n",
              "      <td>repo_stars</td>\n",
              "      <td>-1.248182e-06</td>\n",
              "      <td>[]</td>\n",
              "    </tr>\n",
              "    <tr>\n",
              "      <th>13</th>\n",
              "      <td>13</td>\n",
              "      <td>repo_stars</td>\n",
              "      <td>9.230660e-08</td>\n",
              "      <td>[]</td>\n",
              "    </tr>\n",
              "    <tr>\n",
              "      <th>14</th>\n",
              "      <td>14</td>\n",
              "      <td>repo_stars</td>\n",
              "      <td>-4.789455e-07</td>\n",
              "      <td>[]</td>\n",
              "    </tr>\n",
              "    <tr>\n",
              "      <th>15</th>\n",
              "      <td>15</td>\n",
              "      <td>repo_stars</td>\n",
              "      <td>-2.140991e-07</td>\n",
              "      <td>[]</td>\n",
              "    </tr>\n",
              "    <tr>\n",
              "      <th>16</th>\n",
              "      <td>16</td>\n",
              "      <td>repo_stars</td>\n",
              "      <td>1.322850e-06</td>\n",
              "      <td>[]</td>\n",
              "    </tr>\n",
              "    <tr>\n",
              "      <th>17</th>\n",
              "      <td>17</td>\n",
              "      <td>repo_stars</td>\n",
              "      <td>1.535619e-06</td>\n",
              "      <td>[]</td>\n",
              "    </tr>\n",
              "    <tr>\n",
              "      <th>18</th>\n",
              "      <td>18</td>\n",
              "      <td>repo_stars</td>\n",
              "      <td>4.845762e-07</td>\n",
              "      <td>[]</td>\n",
              "    </tr>\n",
              "    <tr>\n",
              "      <th>19</th>\n",
              "      <td>19</td>\n",
              "      <td>repo_stars</td>\n",
              "      <td>-5.822422e-07</td>\n",
              "      <td>[]</td>\n",
              "    </tr>\n",
              "    <tr>\n",
              "      <th>20</th>\n",
              "      <td>20</td>\n",
              "      <td>repo_stars</td>\n",
              "      <td>2.646958e-06</td>\n",
              "      <td>[]</td>\n",
              "    </tr>\n",
              "    <tr>\n",
              "      <th>21</th>\n",
              "      <td>21</td>\n",
              "      <td>repo_stars</td>\n",
              "      <td>5.606977e-07</td>\n",
              "      <td>[]</td>\n",
              "    </tr>\n",
              "    <tr>\n",
              "      <th>22</th>\n",
              "      <td>22</td>\n",
              "      <td>repo_stars</td>\n",
              "      <td>7.459249e-06</td>\n",
              "      <td>[]</td>\n",
              "    </tr>\n",
              "    <tr>\n",
              "      <th>23</th>\n",
              "      <td>23</td>\n",
              "      <td>repo_stars</td>\n",
              "      <td>1.736273e-06</td>\n",
              "      <td>[]</td>\n",
              "    </tr>\n",
              "    <tr>\n",
              "      <th>24</th>\n",
              "      <td>24</td>\n",
              "      <td>repo_stars</td>\n",
              "      <td>-8.724995e-07</td>\n",
              "      <td>[]</td>\n",
              "    </tr>\n",
              "    <tr>\n",
              "      <th>25</th>\n",
              "      <td>25</td>\n",
              "      <td>repo_stars</td>\n",
              "      <td>2.406194e-06</td>\n",
              "      <td>[]</td>\n",
              "    </tr>\n",
              "    <tr>\n",
              "      <th>26</th>\n",
              "      <td>26</td>\n",
              "      <td>repo_stars</td>\n",
              "      <td>2.046971e-06</td>\n",
              "      <td>[]</td>\n",
              "    </tr>\n",
              "    <tr>\n",
              "      <th>27</th>\n",
              "      <td>27</td>\n",
              "      <td>repo_stars</td>\n",
              "      <td>3.261189e-06</td>\n",
              "      <td>[]</td>\n",
              "    </tr>\n",
              "    <tr>\n",
              "      <th>28</th>\n",
              "      <td>28</td>\n",
              "      <td>repo_stars</td>\n",
              "      <td>2.633499e-06</td>\n",
              "      <td>[]</td>\n",
              "    </tr>\n",
              "    <tr>\n",
              "      <th>29</th>\n",
              "      <td>29</td>\n",
              "      <td>repo_stars</td>\n",
              "      <td>3.145737e-06</td>\n",
              "      <td>[]</td>\n",
              "    </tr>\n",
              "    <tr>\n",
              "      <th>30</th>\n",
              "      <td>30</td>\n",
              "      <td>repo_stars</td>\n",
              "      <td>1.889627e-06</td>\n",
              "      <td>[]</td>\n",
              "    </tr>\n",
              "    <tr>\n",
              "      <th>31</th>\n",
              "      <td>31</td>\n",
              "      <td>repo_stars</td>\n",
              "      <td>-1.110276e-05</td>\n",
              "      <td>[]</td>\n",
              "    </tr>\n",
              "  </tbody>\n",
              "</table>\n",
              "</div>"
            ],
            "text/plain": [
              "    class_label processed_input        weight category_weights\n",
              "0             0      repo_stars -1.420533e-06               []\n",
              "1             1      repo_stars -1.433534e-06               []\n",
              "2             2      repo_stars -1.435333e-06               []\n",
              "3             3      repo_stars -1.385598e-06               []\n",
              "4             4      repo_stars -1.350734e-06               []\n",
              "5             5      repo_stars -1.427527e-06               []\n",
              "6             6      repo_stars -1.333909e-06               []\n",
              "7             7      repo_stars -1.433741e-06               []\n",
              "8             8      repo_stars -1.434513e-06               []\n",
              "9             9      repo_stars -1.436212e-06               []\n",
              "10           10      repo_stars -1.405441e-06               []\n",
              "11           11      repo_stars -1.225942e-06               []\n",
              "12           12      repo_stars -1.248182e-06               []\n",
              "13           13      repo_stars  9.230660e-08               []\n",
              "14           14      repo_stars -4.789455e-07               []\n",
              "15           15      repo_stars -2.140991e-07               []\n",
              "16           16      repo_stars  1.322850e-06               []\n",
              "17           17      repo_stars  1.535619e-06               []\n",
              "18           18      repo_stars  4.845762e-07               []\n",
              "19           19      repo_stars -5.822422e-07               []\n",
              "20           20      repo_stars  2.646958e-06               []\n",
              "21           21      repo_stars  5.606977e-07               []\n",
              "22           22      repo_stars  7.459249e-06               []\n",
              "23           23      repo_stars  1.736273e-06               []\n",
              "24           24      repo_stars -8.724995e-07               []\n",
              "25           25      repo_stars  2.406194e-06               []\n",
              "26           26      repo_stars  2.046971e-06               []\n",
              "27           27      repo_stars  3.261189e-06               []\n",
              "28           28      repo_stars  2.633499e-06               []\n",
              "29           29      repo_stars  3.145737e-06               []\n",
              "30           30      repo_stars  1.889627e-06               []\n",
              "31           31      repo_stars -1.110276e-05               []"
            ]
          },
          "metadata": {
            "tags": []
          },
          "execution_count": 20
        }
      ]
    },
    {
      "cell_type": "code",
      "metadata": {
        "colab": {
          "base_uri": "https://localhost:8080/",
          "height": 1000
        },
        "id": "3z3LyWfFCmY8",
        "outputId": "46e75c92-0131-40a9-f186-355e8f883b7f"
      },
      "source": [
        "%%bigquery --project $project_id\n",
        "\n",
        "SELECT\n",
        "  *\n",
        "FROM\n",
        "  ML.WEIGHTS(MODEL `bqml_librariesIO.rank_predictor_model`)\n",
        "  where processed_input='status' order by class_label"
      ],
      "execution_count": null,
      "outputs": [
        {
          "output_type": "execute_result",
          "data": {
            "text/html": [
              "<div>\n",
              "<style scoped>\n",
              "    .dataframe tbody tr th:only-of-type {\n",
              "        vertical-align: middle;\n",
              "    }\n",
              "\n",
              "    .dataframe tbody tr th {\n",
              "        vertical-align: top;\n",
              "    }\n",
              "\n",
              "    .dataframe thead th {\n",
              "        text-align: right;\n",
              "    }\n",
              "</style>\n",
              "<table border=\"1\" class=\"dataframe\">\n",
              "  <thead>\n",
              "    <tr style=\"text-align: right;\">\n",
              "      <th></th>\n",
              "      <th>class_label</th>\n",
              "      <th>processed_input</th>\n",
              "      <th>weight</th>\n",
              "      <th>category_weights</th>\n",
              "    </tr>\n",
              "  </thead>\n",
              "  <tbody>\n",
              "    <tr>\n",
              "      <th>0</th>\n",
              "      <td>0</td>\n",
              "      <td>status</td>\n",
              "      <td>None</td>\n",
              "      <td>[{'category': 'active', 'weight': -0.012672597...</td>\n",
              "    </tr>\n",
              "    <tr>\n",
              "      <th>1</th>\n",
              "      <td>1</td>\n",
              "      <td>status</td>\n",
              "      <td>None</td>\n",
              "      <td>[{'category': 'active', 'weight': 0.0017485947...</td>\n",
              "    </tr>\n",
              "    <tr>\n",
              "      <th>2</th>\n",
              "      <td>2</td>\n",
              "      <td>status</td>\n",
              "      <td>None</td>\n",
              "      <td>[{'category': 'active', 'weight': 0.0024944577...</td>\n",
              "    </tr>\n",
              "    <tr>\n",
              "      <th>3</th>\n",
              "      <td>3</td>\n",
              "      <td>status</td>\n",
              "      <td>None</td>\n",
              "      <td>[{'category': 'active', 'weight': 0.0024965191...</td>\n",
              "    </tr>\n",
              "    <tr>\n",
              "      <th>4</th>\n",
              "      <td>4</td>\n",
              "      <td>status</td>\n",
              "      <td>None</td>\n",
              "      <td>[{'category': 'active', 'weight': 0.0029334557...</td>\n",
              "    </tr>\n",
              "    <tr>\n",
              "      <th>5</th>\n",
              "      <td>5</td>\n",
              "      <td>status</td>\n",
              "      <td>None</td>\n",
              "      <td>[{'category': 'active', 'weight': 0.0033094081...</td>\n",
              "    </tr>\n",
              "    <tr>\n",
              "      <th>6</th>\n",
              "      <td>6</td>\n",
              "      <td>status</td>\n",
              "      <td>None</td>\n",
              "      <td>[{'category': 'active', 'weight': 0.0033088099...</td>\n",
              "    </tr>\n",
              "    <tr>\n",
              "      <th>7</th>\n",
              "      <td>7</td>\n",
              "      <td>status</td>\n",
              "      <td>None</td>\n",
              "      <td>[{'category': 'active', 'weight': 0.0033650293...</td>\n",
              "    </tr>\n",
              "    <tr>\n",
              "      <th>8</th>\n",
              "      <td>8</td>\n",
              "      <td>status</td>\n",
              "      <td>None</td>\n",
              "      <td>[{'category': 'active', 'weight': 0.0033620579...</td>\n",
              "    </tr>\n",
              "    <tr>\n",
              "      <th>9</th>\n",
              "      <td>9</td>\n",
              "      <td>status</td>\n",
              "      <td>None</td>\n",
              "      <td>[{'category': 'active', 'weight': 0.0033435839...</td>\n",
              "    </tr>\n",
              "    <tr>\n",
              "      <th>10</th>\n",
              "      <td>10</td>\n",
              "      <td>status</td>\n",
              "      <td>None</td>\n",
              "      <td>[{'category': 'active', 'weight': 0.0033428492...</td>\n",
              "    </tr>\n",
              "    <tr>\n",
              "      <th>11</th>\n",
              "      <td>11</td>\n",
              "      <td>status</td>\n",
              "      <td>None</td>\n",
              "      <td>[{'category': 'active', 'weight': 0.0033382205...</td>\n",
              "    </tr>\n",
              "    <tr>\n",
              "      <th>12</th>\n",
              "      <td>12</td>\n",
              "      <td>status</td>\n",
              "      <td>None</td>\n",
              "      <td>[{'category': 'active', 'weight': 0.0033496106...</td>\n",
              "    </tr>\n",
              "    <tr>\n",
              "      <th>13</th>\n",
              "      <td>13</td>\n",
              "      <td>status</td>\n",
              "      <td>None</td>\n",
              "      <td>[{'category': 'active', 'weight': 0.0032757944...</td>\n",
              "    </tr>\n",
              "    <tr>\n",
              "      <th>14</th>\n",
              "      <td>14</td>\n",
              "      <td>status</td>\n",
              "      <td>None</td>\n",
              "      <td>[{'category': 'active', 'weight': 0.0032973626...</td>\n",
              "    </tr>\n",
              "    <tr>\n",
              "      <th>15</th>\n",
              "      <td>15</td>\n",
              "      <td>status</td>\n",
              "      <td>None</td>\n",
              "      <td>[{'category': 'active', 'weight': 0.0033081114...</td>\n",
              "    </tr>\n",
              "    <tr>\n",
              "      <th>16</th>\n",
              "      <td>16</td>\n",
              "      <td>status</td>\n",
              "      <td>None</td>\n",
              "      <td>[{'category': 'active', 'weight': 0.0032602665...</td>\n",
              "    </tr>\n",
              "    <tr>\n",
              "      <th>17</th>\n",
              "      <td>17</td>\n",
              "      <td>status</td>\n",
              "      <td>None</td>\n",
              "      <td>[{'category': 'active', 'weight': 0.0032423059...</td>\n",
              "    </tr>\n",
              "    <tr>\n",
              "      <th>18</th>\n",
              "      <td>18</td>\n",
              "      <td>status</td>\n",
              "      <td>None</td>\n",
              "      <td>[{'category': 'active', 'weight': 0.0032655626...</td>\n",
              "    </tr>\n",
              "    <tr>\n",
              "      <th>19</th>\n",
              "      <td>19</td>\n",
              "      <td>status</td>\n",
              "      <td>None</td>\n",
              "      <td>[{'category': 'active', 'weight': 0.0032633499...</td>\n",
              "    </tr>\n",
              "    <tr>\n",
              "      <th>20</th>\n",
              "      <td>20</td>\n",
              "      <td>status</td>\n",
              "      <td>None</td>\n",
              "      <td>[{'category': 'active', 'weight': 0.0031496193...</td>\n",
              "    </tr>\n",
              "    <tr>\n",
              "      <th>21</th>\n",
              "      <td>21</td>\n",
              "      <td>status</td>\n",
              "      <td>None</td>\n",
              "      <td>[{'category': 'active', 'weight': 0.0028943042...</td>\n",
              "    </tr>\n",
              "    <tr>\n",
              "      <th>22</th>\n",
              "      <td>22</td>\n",
              "      <td>status</td>\n",
              "      <td>None</td>\n",
              "      <td>[{'category': 'active', 'weight': 0.0029255380...</td>\n",
              "    </tr>\n",
              "    <tr>\n",
              "      <th>23</th>\n",
              "      <td>23</td>\n",
              "      <td>status</td>\n",
              "      <td>None</td>\n",
              "      <td>[{'category': 'active', 'weight': 0.0029326311...</td>\n",
              "    </tr>\n",
              "    <tr>\n",
              "      <th>24</th>\n",
              "      <td>24</td>\n",
              "      <td>status</td>\n",
              "      <td>None</td>\n",
              "      <td>[{'category': 'active', 'weight': 0.0030308641...</td>\n",
              "    </tr>\n",
              "    <tr>\n",
              "      <th>25</th>\n",
              "      <td>25</td>\n",
              "      <td>status</td>\n",
              "      <td>None</td>\n",
              "      <td>[{'category': 'active', 'weight': 0.0023661530...</td>\n",
              "    </tr>\n",
              "    <tr>\n",
              "      <th>26</th>\n",
              "      <td>26</td>\n",
              "      <td>status</td>\n",
              "      <td>None</td>\n",
              "      <td>[{'category': 'active', 'weight': 0.0009759075...</td>\n",
              "    </tr>\n",
              "    <tr>\n",
              "      <th>27</th>\n",
              "      <td>27</td>\n",
              "      <td>status</td>\n",
              "      <td>None</td>\n",
              "      <td>[{'category': 'active', 'weight': 0.0024946747...</td>\n",
              "    </tr>\n",
              "    <tr>\n",
              "      <th>28</th>\n",
              "      <td>28</td>\n",
              "      <td>status</td>\n",
              "      <td>None</td>\n",
              "      <td>[{'category': 'active', 'weight': -0.002044288...</td>\n",
              "    </tr>\n",
              "    <tr>\n",
              "      <th>29</th>\n",
              "      <td>29</td>\n",
              "      <td>status</td>\n",
              "      <td>None</td>\n",
              "      <td>[{'category': 'active', 'weight': 0.0024563168...</td>\n",
              "    </tr>\n",
              "    <tr>\n",
              "      <th>30</th>\n",
              "      <td>30</td>\n",
              "      <td>status</td>\n",
              "      <td>None</td>\n",
              "      <td>[{'category': 'active', 'weight': -0.006674622...</td>\n",
              "    </tr>\n",
              "    <tr>\n",
              "      <th>31</th>\n",
              "      <td>31</td>\n",
              "      <td>status</td>\n",
              "      <td>None</td>\n",
              "      <td>[{'category': 'active', 'weight': -0.061139851...</td>\n",
              "    </tr>\n",
              "  </tbody>\n",
              "</table>\n",
              "</div>"
            ],
            "text/plain": [
              "    class_label  ...                                   category_weights\n",
              "0             0  ...  [{'category': 'active', 'weight': -0.012672597...\n",
              "1             1  ...  [{'category': 'active', 'weight': 0.0017485947...\n",
              "2             2  ...  [{'category': 'active', 'weight': 0.0024944577...\n",
              "3             3  ...  [{'category': 'active', 'weight': 0.0024965191...\n",
              "4             4  ...  [{'category': 'active', 'weight': 0.0029334557...\n",
              "5             5  ...  [{'category': 'active', 'weight': 0.0033094081...\n",
              "6             6  ...  [{'category': 'active', 'weight': 0.0033088099...\n",
              "7             7  ...  [{'category': 'active', 'weight': 0.0033650293...\n",
              "8             8  ...  [{'category': 'active', 'weight': 0.0033620579...\n",
              "9             9  ...  [{'category': 'active', 'weight': 0.0033435839...\n",
              "10           10  ...  [{'category': 'active', 'weight': 0.0033428492...\n",
              "11           11  ...  [{'category': 'active', 'weight': 0.0033382205...\n",
              "12           12  ...  [{'category': 'active', 'weight': 0.0033496106...\n",
              "13           13  ...  [{'category': 'active', 'weight': 0.0032757944...\n",
              "14           14  ...  [{'category': 'active', 'weight': 0.0032973626...\n",
              "15           15  ...  [{'category': 'active', 'weight': 0.0033081114...\n",
              "16           16  ...  [{'category': 'active', 'weight': 0.0032602665...\n",
              "17           17  ...  [{'category': 'active', 'weight': 0.0032423059...\n",
              "18           18  ...  [{'category': 'active', 'weight': 0.0032655626...\n",
              "19           19  ...  [{'category': 'active', 'weight': 0.0032633499...\n",
              "20           20  ...  [{'category': 'active', 'weight': 0.0031496193...\n",
              "21           21  ...  [{'category': 'active', 'weight': 0.0028943042...\n",
              "22           22  ...  [{'category': 'active', 'weight': 0.0029255380...\n",
              "23           23  ...  [{'category': 'active', 'weight': 0.0029326311...\n",
              "24           24  ...  [{'category': 'active', 'weight': 0.0030308641...\n",
              "25           25  ...  [{'category': 'active', 'weight': 0.0023661530...\n",
              "26           26  ...  [{'category': 'active', 'weight': 0.0009759075...\n",
              "27           27  ...  [{'category': 'active', 'weight': 0.0024946747...\n",
              "28           28  ...  [{'category': 'active', 'weight': -0.002044288...\n",
              "29           29  ...  [{'category': 'active', 'weight': 0.0024563168...\n",
              "30           30  ...  [{'category': 'active', 'weight': -0.006674622...\n",
              "31           31  ...  [{'category': 'active', 'weight': -0.061139851...\n",
              "\n",
              "[32 rows x 4 columns]"
            ]
          },
          "metadata": {
            "tags": []
          },
          "execution_count": 22
        }
      ]
    },
    {
      "cell_type": "code",
      "metadata": {
        "colab": {
          "base_uri": "https://localhost:8080/",
          "height": 1000
        },
        "id": "nfaMLKyx3w2j",
        "outputId": "49174713-85a1-466b-a023-c08a6bda0717"
      },
      "source": [
        "%%bigquery --project $project_id\n",
        "\n",
        "SELECT\n",
        "  *\n",
        "FROM\n",
        "  ML.WEIGHTS(MODEL `bqml_librariesIO.rank_predictor_model`)\n",
        "  where processed_input='time_since_last_update' order by class_label"
      ],
      "execution_count": null,
      "outputs": [
        {
          "output_type": "execute_result",
          "data": {
            "text/html": [
              "<div>\n",
              "<style scoped>\n",
              "    .dataframe tbody tr th:only-of-type {\n",
              "        vertical-align: middle;\n",
              "    }\n",
              "\n",
              "    .dataframe tbody tr th {\n",
              "        vertical-align: top;\n",
              "    }\n",
              "\n",
              "    .dataframe thead th {\n",
              "        text-align: right;\n",
              "    }\n",
              "</style>\n",
              "<table border=\"1\" class=\"dataframe\">\n",
              "  <thead>\n",
              "    <tr style=\"text-align: right;\">\n",
              "      <th></th>\n",
              "      <th>class_label</th>\n",
              "      <th>processed_input</th>\n",
              "      <th>weight</th>\n",
              "      <th>category_weights</th>\n",
              "    </tr>\n",
              "  </thead>\n",
              "  <tbody>\n",
              "    <tr>\n",
              "      <th>0</th>\n",
              "      <td>0</td>\n",
              "      <td>time_since_last_update</td>\n",
              "      <td>3.213269e-09</td>\n",
              "      <td>[]</td>\n",
              "    </tr>\n",
              "    <tr>\n",
              "      <th>1</th>\n",
              "      <td>1</td>\n",
              "      <td>time_since_last_update</td>\n",
              "      <td>3.268197e-09</td>\n",
              "      <td>[]</td>\n",
              "    </tr>\n",
              "    <tr>\n",
              "      <th>2</th>\n",
              "      <td>2</td>\n",
              "      <td>time_since_last_update</td>\n",
              "      <td>3.324233e-09</td>\n",
              "      <td>[]</td>\n",
              "    </tr>\n",
              "    <tr>\n",
              "      <th>3</th>\n",
              "      <td>3</td>\n",
              "      <td>time_since_last_update</td>\n",
              "      <td>1.324313e-09</td>\n",
              "      <td>[]</td>\n",
              "    </tr>\n",
              "    <tr>\n",
              "      <th>4</th>\n",
              "      <td>4</td>\n",
              "      <td>time_since_last_update</td>\n",
              "      <td>3.236354e-09</td>\n",
              "      <td>[]</td>\n",
              "    </tr>\n",
              "    <tr>\n",
              "      <th>5</th>\n",
              "      <td>5</td>\n",
              "      <td>time_since_last_update</td>\n",
              "      <td>2.947167e-09</td>\n",
              "      <td>[]</td>\n",
              "    </tr>\n",
              "    <tr>\n",
              "      <th>6</th>\n",
              "      <td>6</td>\n",
              "      <td>time_since_last_update</td>\n",
              "      <td>1.972222e-09</td>\n",
              "      <td>[]</td>\n",
              "    </tr>\n",
              "    <tr>\n",
              "      <th>7</th>\n",
              "      <td>7</td>\n",
              "      <td>time_since_last_update</td>\n",
              "      <td>1.148648e-09</td>\n",
              "      <td>[]</td>\n",
              "    </tr>\n",
              "    <tr>\n",
              "      <th>8</th>\n",
              "      <td>8</td>\n",
              "      <td>time_since_last_update</td>\n",
              "      <td>8.393210e-10</td>\n",
              "      <td>[]</td>\n",
              "    </tr>\n",
              "    <tr>\n",
              "      <th>9</th>\n",
              "      <td>9</td>\n",
              "      <td>time_since_last_update</td>\n",
              "      <td>-1.461767e-09</td>\n",
              "      <td>[]</td>\n",
              "    </tr>\n",
              "    <tr>\n",
              "      <th>10</th>\n",
              "      <td>10</td>\n",
              "      <td>time_since_last_update</td>\n",
              "      <td>-2.638635e-10</td>\n",
              "      <td>[]</td>\n",
              "    </tr>\n",
              "    <tr>\n",
              "      <th>11</th>\n",
              "      <td>11</td>\n",
              "      <td>time_since_last_update</td>\n",
              "      <td>-1.502241e-10</td>\n",
              "      <td>[]</td>\n",
              "    </tr>\n",
              "    <tr>\n",
              "      <th>12</th>\n",
              "      <td>12</td>\n",
              "      <td>time_since_last_update</td>\n",
              "      <td>-9.884453e-10</td>\n",
              "      <td>[]</td>\n",
              "    </tr>\n",
              "    <tr>\n",
              "      <th>13</th>\n",
              "      <td>13</td>\n",
              "      <td>time_since_last_update</td>\n",
              "      <td>-2.298695e-09</td>\n",
              "      <td>[]</td>\n",
              "    </tr>\n",
              "    <tr>\n",
              "      <th>14</th>\n",
              "      <td>14</td>\n",
              "      <td>time_since_last_update</td>\n",
              "      <td>-1.349559e-09</td>\n",
              "      <td>[]</td>\n",
              "    </tr>\n",
              "    <tr>\n",
              "      <th>15</th>\n",
              "      <td>15</td>\n",
              "      <td>time_since_last_update</td>\n",
              "      <td>-1.280472e-09</td>\n",
              "      <td>[]</td>\n",
              "    </tr>\n",
              "    <tr>\n",
              "      <th>16</th>\n",
              "      <td>16</td>\n",
              "      <td>time_since_last_update</td>\n",
              "      <td>-1.127779e-09</td>\n",
              "      <td>[]</td>\n",
              "    </tr>\n",
              "    <tr>\n",
              "      <th>17</th>\n",
              "      <td>17</td>\n",
              "      <td>time_since_last_update</td>\n",
              "      <td>-1.867867e-09</td>\n",
              "      <td>[]</td>\n",
              "    </tr>\n",
              "    <tr>\n",
              "      <th>18</th>\n",
              "      <td>18</td>\n",
              "      <td>time_since_last_update</td>\n",
              "      <td>1.170027e-10</td>\n",
              "      <td>[]</td>\n",
              "    </tr>\n",
              "    <tr>\n",
              "      <th>19</th>\n",
              "      <td>19</td>\n",
              "      <td>time_since_last_update</td>\n",
              "      <td>2.529149e-10</td>\n",
              "      <td>[]</td>\n",
              "    </tr>\n",
              "    <tr>\n",
              "      <th>20</th>\n",
              "      <td>20</td>\n",
              "      <td>time_since_last_update</td>\n",
              "      <td>-2.521346e-09</td>\n",
              "      <td>[]</td>\n",
              "    </tr>\n",
              "    <tr>\n",
              "      <th>21</th>\n",
              "      <td>21</td>\n",
              "      <td>time_since_last_update</td>\n",
              "      <td>-2.210918e-09</td>\n",
              "      <td>[]</td>\n",
              "    </tr>\n",
              "    <tr>\n",
              "      <th>22</th>\n",
              "      <td>22</td>\n",
              "      <td>time_since_last_update</td>\n",
              "      <td>-2.116091e-09</td>\n",
              "      <td>[]</td>\n",
              "    </tr>\n",
              "    <tr>\n",
              "      <th>23</th>\n",
              "      <td>23</td>\n",
              "      <td>time_since_last_update</td>\n",
              "      <td>8.817532e-11</td>\n",
              "      <td>[]</td>\n",
              "    </tr>\n",
              "    <tr>\n",
              "      <th>24</th>\n",
              "      <td>24</td>\n",
              "      <td>time_since_last_update</td>\n",
              "      <td>-7.796309e-10</td>\n",
              "      <td>[]</td>\n",
              "    </tr>\n",
              "    <tr>\n",
              "      <th>25</th>\n",
              "      <td>25</td>\n",
              "      <td>time_since_last_update</td>\n",
              "      <td>-1.012876e-09</td>\n",
              "      <td>[]</td>\n",
              "    </tr>\n",
              "    <tr>\n",
              "      <th>26</th>\n",
              "      <td>26</td>\n",
              "      <td>time_since_last_update</td>\n",
              "      <td>-1.423836e-09</td>\n",
              "      <td>[]</td>\n",
              "    </tr>\n",
              "    <tr>\n",
              "      <th>27</th>\n",
              "      <td>27</td>\n",
              "      <td>time_since_last_update</td>\n",
              "      <td>-1.698073e-09</td>\n",
              "      <td>[]</td>\n",
              "    </tr>\n",
              "    <tr>\n",
              "      <th>28</th>\n",
              "      <td>28</td>\n",
              "      <td>time_since_last_update</td>\n",
              "      <td>-9.644342e-10</td>\n",
              "      <td>[]</td>\n",
              "    </tr>\n",
              "    <tr>\n",
              "      <th>29</th>\n",
              "      <td>29</td>\n",
              "      <td>time_since_last_update</td>\n",
              "      <td>-2.307633e-09</td>\n",
              "      <td>[]</td>\n",
              "    </tr>\n",
              "    <tr>\n",
              "      <th>30</th>\n",
              "      <td>30</td>\n",
              "      <td>time_since_last_update</td>\n",
              "      <td>-1.520982e-09</td>\n",
              "      <td>[]</td>\n",
              "    </tr>\n",
              "    <tr>\n",
              "      <th>31</th>\n",
              "      <td>31</td>\n",
              "      <td>time_since_last_update</td>\n",
              "      <td>5.612676e-09</td>\n",
              "      <td>[]</td>\n",
              "    </tr>\n",
              "  </tbody>\n",
              "</table>\n",
              "</div>"
            ],
            "text/plain": [
              "    class_label         processed_input        weight category_weights\n",
              "0             0  time_since_last_update  3.213269e-09               []\n",
              "1             1  time_since_last_update  3.268197e-09               []\n",
              "2             2  time_since_last_update  3.324233e-09               []\n",
              "3             3  time_since_last_update  1.324313e-09               []\n",
              "4             4  time_since_last_update  3.236354e-09               []\n",
              "5             5  time_since_last_update  2.947167e-09               []\n",
              "6             6  time_since_last_update  1.972222e-09               []\n",
              "7             7  time_since_last_update  1.148648e-09               []\n",
              "8             8  time_since_last_update  8.393210e-10               []\n",
              "9             9  time_since_last_update -1.461767e-09               []\n",
              "10           10  time_since_last_update -2.638635e-10               []\n",
              "11           11  time_since_last_update -1.502241e-10               []\n",
              "12           12  time_since_last_update -9.884453e-10               []\n",
              "13           13  time_since_last_update -2.298695e-09               []\n",
              "14           14  time_since_last_update -1.349559e-09               []\n",
              "15           15  time_since_last_update -1.280472e-09               []\n",
              "16           16  time_since_last_update -1.127779e-09               []\n",
              "17           17  time_since_last_update -1.867867e-09               []\n",
              "18           18  time_since_last_update  1.170027e-10               []\n",
              "19           19  time_since_last_update  2.529149e-10               []\n",
              "20           20  time_since_last_update -2.521346e-09               []\n",
              "21           21  time_since_last_update -2.210918e-09               []\n",
              "22           22  time_since_last_update -2.116091e-09               []\n",
              "23           23  time_since_last_update  8.817532e-11               []\n",
              "24           24  time_since_last_update -7.796309e-10               []\n",
              "25           25  time_since_last_update -1.012876e-09               []\n",
              "26           26  time_since_last_update -1.423836e-09               []\n",
              "27           27  time_since_last_update -1.698073e-09               []\n",
              "28           28  time_since_last_update -9.644342e-10               []\n",
              "29           29  time_since_last_update -2.307633e-09               []\n",
              "30           30  time_since_last_update -1.520982e-09               []\n",
              "31           31  time_since_last_update  5.612676e-09               []"
            ]
          },
          "metadata": {
            "tags": []
          },
          "execution_count": 15
        }
      ]
    },
    {
      "cell_type": "code",
      "metadata": {
        "colab": {
          "base_uri": "https://localhost:8080/",
          "height": 1000
        },
        "id": "2Q2bqV1mfcpJ",
        "outputId": "9dc189f3-40c3-4afa-99ee-037357c31814"
      },
      "source": [
        "%%bigquery --project $project_id\n",
        "\n",
        "SELECT\n",
        "  *\n",
        "FROM\n",
        "  ML.WEIGHTS(MODEL `bqml_librariesIO.rank_predictor_model`)\n",
        "  where processed_input='versions_count' order_by class_label"
      ],
      "execution_count": null,
      "outputs": [
        {
          "output_type": "execute_result",
          "data": {
            "text/html": [
              "<div>\n",
              "<style scoped>\n",
              "    .dataframe tbody tr th:only-of-type {\n",
              "        vertical-align: middle;\n",
              "    }\n",
              "\n",
              "    .dataframe tbody tr th {\n",
              "        vertical-align: top;\n",
              "    }\n",
              "\n",
              "    .dataframe thead th {\n",
              "        text-align: right;\n",
              "    }\n",
              "</style>\n",
              "<table border=\"1\" class=\"dataframe\">\n",
              "  <thead>\n",
              "    <tr style=\"text-align: right;\">\n",
              "      <th></th>\n",
              "      <th>class_label</th>\n",
              "      <th>processed_input</th>\n",
              "      <th>weight</th>\n",
              "      <th>category_weights</th>\n",
              "    </tr>\n",
              "  </thead>\n",
              "  <tbody>\n",
              "    <tr>\n",
              "      <th>0</th>\n",
              "      <td>0</td>\n",
              "      <td>versions_count</td>\n",
              "      <td>-0.000452</td>\n",
              "      <td>[]</td>\n",
              "    </tr>\n",
              "    <tr>\n",
              "      <th>1</th>\n",
              "      <td>1</td>\n",
              "      <td>versions_count</td>\n",
              "      <td>-0.000449</td>\n",
              "      <td>[]</td>\n",
              "    </tr>\n",
              "    <tr>\n",
              "      <th>2</th>\n",
              "      <td>2</td>\n",
              "      <td>versions_count</td>\n",
              "      <td>-0.000451</td>\n",
              "      <td>[]</td>\n",
              "    </tr>\n",
              "    <tr>\n",
              "      <th>3</th>\n",
              "      <td>3</td>\n",
              "      <td>versions_count</td>\n",
              "      <td>-0.000447</td>\n",
              "      <td>[]</td>\n",
              "    </tr>\n",
              "    <tr>\n",
              "      <th>4</th>\n",
              "      <td>4</td>\n",
              "      <td>versions_count</td>\n",
              "      <td>-0.000448</td>\n",
              "      <td>[]</td>\n",
              "    </tr>\n",
              "    <tr>\n",
              "      <th>5</th>\n",
              "      <td>5</td>\n",
              "      <td>versions_count</td>\n",
              "      <td>-0.000447</td>\n",
              "      <td>[]</td>\n",
              "    </tr>\n",
              "    <tr>\n",
              "      <th>6</th>\n",
              "      <td>6</td>\n",
              "      <td>versions_count</td>\n",
              "      <td>-0.000426</td>\n",
              "      <td>[]</td>\n",
              "    </tr>\n",
              "    <tr>\n",
              "      <th>7</th>\n",
              "      <td>7</td>\n",
              "      <td>versions_count</td>\n",
              "      <td>-0.000417</td>\n",
              "      <td>[]</td>\n",
              "    </tr>\n",
              "    <tr>\n",
              "      <th>8</th>\n",
              "      <td>8</td>\n",
              "      <td>versions_count</td>\n",
              "      <td>-0.000406</td>\n",
              "      <td>[]</td>\n",
              "    </tr>\n",
              "    <tr>\n",
              "      <th>9</th>\n",
              "      <td>9</td>\n",
              "      <td>versions_count</td>\n",
              "      <td>-0.000372</td>\n",
              "      <td>[]</td>\n",
              "    </tr>\n",
              "    <tr>\n",
              "      <th>10</th>\n",
              "      <td>10</td>\n",
              "      <td>versions_count</td>\n",
              "      <td>-0.000368</td>\n",
              "      <td>[]</td>\n",
              "    </tr>\n",
              "    <tr>\n",
              "      <th>11</th>\n",
              "      <td>11</td>\n",
              "      <td>versions_count</td>\n",
              "      <td>-0.000375</td>\n",
              "      <td>[]</td>\n",
              "    </tr>\n",
              "    <tr>\n",
              "      <th>12</th>\n",
              "      <td>12</td>\n",
              "      <td>versions_count</td>\n",
              "      <td>-0.000352</td>\n",
              "      <td>[]</td>\n",
              "    </tr>\n",
              "    <tr>\n",
              "      <th>13</th>\n",
              "      <td>13</td>\n",
              "      <td>versions_count</td>\n",
              "      <td>-0.000420</td>\n",
              "      <td>[]</td>\n",
              "    </tr>\n",
              "    <tr>\n",
              "      <th>14</th>\n",
              "      <td>14</td>\n",
              "      <td>versions_count</td>\n",
              "      <td>-0.000355</td>\n",
              "      <td>[]</td>\n",
              "    </tr>\n",
              "    <tr>\n",
              "      <th>15</th>\n",
              "      <td>15</td>\n",
              "      <td>versions_count</td>\n",
              "      <td>-0.000369</td>\n",
              "      <td>[]</td>\n",
              "    </tr>\n",
              "    <tr>\n",
              "      <th>16</th>\n",
              "      <td>16</td>\n",
              "      <td>versions_count</td>\n",
              "      <td>-0.000343</td>\n",
              "      <td>[]</td>\n",
              "    </tr>\n",
              "    <tr>\n",
              "      <th>17</th>\n",
              "      <td>17</td>\n",
              "      <td>versions_count</td>\n",
              "      <td>-0.000309</td>\n",
              "      <td>[]</td>\n",
              "    </tr>\n",
              "    <tr>\n",
              "      <th>18</th>\n",
              "      <td>18</td>\n",
              "      <td>versions_count</td>\n",
              "      <td>-0.000262</td>\n",
              "      <td>[]</td>\n",
              "    </tr>\n",
              "    <tr>\n",
              "      <th>19</th>\n",
              "      <td>19</td>\n",
              "      <td>versions_count</td>\n",
              "      <td>-0.000194</td>\n",
              "      <td>[]</td>\n",
              "    </tr>\n",
              "    <tr>\n",
              "      <th>20</th>\n",
              "      <td>20</td>\n",
              "      <td>versions_count</td>\n",
              "      <td>-0.000301</td>\n",
              "      <td>[]</td>\n",
              "    </tr>\n",
              "    <tr>\n",
              "      <th>21</th>\n",
              "      <td>21</td>\n",
              "      <td>versions_count</td>\n",
              "      <td>0.002816</td>\n",
              "      <td>[]</td>\n",
              "    </tr>\n",
              "    <tr>\n",
              "      <th>22</th>\n",
              "      <td>22</td>\n",
              "      <td>versions_count</td>\n",
              "      <td>-0.000087</td>\n",
              "      <td>[]</td>\n",
              "    </tr>\n",
              "    <tr>\n",
              "      <th>23</th>\n",
              "      <td>23</td>\n",
              "      <td>versions_count</td>\n",
              "      <td>0.001706</td>\n",
              "      <td>[]</td>\n",
              "    </tr>\n",
              "    <tr>\n",
              "      <th>24</th>\n",
              "      <td>24</td>\n",
              "      <td>versions_count</td>\n",
              "      <td>0.000613</td>\n",
              "      <td>[]</td>\n",
              "    </tr>\n",
              "    <tr>\n",
              "      <th>25</th>\n",
              "      <td>25</td>\n",
              "      <td>versions_count</td>\n",
              "      <td>0.000830</td>\n",
              "      <td>[]</td>\n",
              "    </tr>\n",
              "    <tr>\n",
              "      <th>26</th>\n",
              "      <td>26</td>\n",
              "      <td>versions_count</td>\n",
              "      <td>0.002210</td>\n",
              "      <td>[]</td>\n",
              "    </tr>\n",
              "    <tr>\n",
              "      <th>27</th>\n",
              "      <td>27</td>\n",
              "      <td>versions_count</td>\n",
              "      <td>0.001264</td>\n",
              "      <td>[]</td>\n",
              "    </tr>\n",
              "    <tr>\n",
              "      <th>28</th>\n",
              "      <td>28</td>\n",
              "      <td>versions_count</td>\n",
              "      <td>0.002035</td>\n",
              "      <td>[]</td>\n",
              "    </tr>\n",
              "    <tr>\n",
              "      <th>29</th>\n",
              "      <td>29</td>\n",
              "      <td>versions_count</td>\n",
              "      <td>0.000901</td>\n",
              "      <td>[]</td>\n",
              "    </tr>\n",
              "    <tr>\n",
              "      <th>30</th>\n",
              "      <td>30</td>\n",
              "      <td>versions_count</td>\n",
              "      <td>0.001968</td>\n",
              "      <td>[]</td>\n",
              "    </tr>\n",
              "    <tr>\n",
              "      <th>31</th>\n",
              "      <td>31</td>\n",
              "      <td>versions_count</td>\n",
              "      <td>-0.006297</td>\n",
              "      <td>[]</td>\n",
              "    </tr>\n",
              "  </tbody>\n",
              "</table>\n",
              "</div>"
            ],
            "text/plain": [
              "    class_label processed_input    weight category_weights\n",
              "0             0  versions_count -0.000452               []\n",
              "1             1  versions_count -0.000449               []\n",
              "2             2  versions_count -0.000451               []\n",
              "3             3  versions_count -0.000447               []\n",
              "4             4  versions_count -0.000448               []\n",
              "5             5  versions_count -0.000447               []\n",
              "6             6  versions_count -0.000426               []\n",
              "7             7  versions_count -0.000417               []\n",
              "8             8  versions_count -0.000406               []\n",
              "9             9  versions_count -0.000372               []\n",
              "10           10  versions_count -0.000368               []\n",
              "11           11  versions_count -0.000375               []\n",
              "12           12  versions_count -0.000352               []\n",
              "13           13  versions_count -0.000420               []\n",
              "14           14  versions_count -0.000355               []\n",
              "15           15  versions_count -0.000369               []\n",
              "16           16  versions_count -0.000343               []\n",
              "17           17  versions_count -0.000309               []\n",
              "18           18  versions_count -0.000262               []\n",
              "19           19  versions_count -0.000194               []\n",
              "20           20  versions_count -0.000301               []\n",
              "21           21  versions_count  0.002816               []\n",
              "22           22  versions_count -0.000087               []\n",
              "23           23  versions_count  0.001706               []\n",
              "24           24  versions_count  0.000613               []\n",
              "25           25  versions_count  0.000830               []\n",
              "26           26  versions_count  0.002210               []\n",
              "27           27  versions_count  0.001264               []\n",
              "28           28  versions_count  0.002035               []\n",
              "29           29  versions_count  0.000901               []\n",
              "30           30  versions_count  0.001968               []\n",
              "31           31  versions_count -0.006297               []"
            ]
          },
          "metadata": {
            "tags": []
          },
          "execution_count": 13
        }
      ]
    },
    {
      "cell_type": "markdown",
      "metadata": {
        "id": "bAcFTUOqw3c8"
      },
      "source": [
        "**Doing same as above model with 'status' feature dropped now:**"
      ]
    },
    {
      "cell_type": "code",
      "metadata": {
        "colab": {
          "base_uri": "https://localhost:8080/",
          "height": 32
        },
        "id": "frUj9WeZC_cx",
        "outputId": "413b358c-1225-4d65-dd9a-f3071d7c8a6b"
      },
      "source": [
        "%%bigquery --project $project_id\n",
        "\n",
        "CREATE OR REPLACE MODEL `bqml_librariesIO.rank_predictor_model`\n",
        "OPTIONS(model_type='logistic_reg', auto_class_weights=TRUE,input_label_cols=['sourcerank']) as\n",
        "SELECT\n",
        "  prjct_data.sourcerank,\n",
        "  dependent_projects_count,\n",
        "  dependent_repositories_count,\n",
        "  repo_data.repo_ranking,\n",
        "  repo_stars,\n",
        "  time_since_last_update,\n",
        "  versions_count,\n",
        "FROM (\n",
        "  SELECT\n",
        "    sourcerank,\n",
        "    dependent_projects_count,\n",
        "    dependent_repositories_count,\n",
        "    TIMESTAMP_DIFF(CURRENT_TIMESTAMP(), updated_timestamp, second) AS time_since_last_update,\n",
        "    versions_count,\n",
        "    repository_id\n",
        "  FROM\n",
        "    `bigquery-public-data.libraries_io.projects`\n",
        "  WHERE\n",
        " created_timestamp between '2015-01-11 23:56:18+00:00' and '2015-01-25 23:56:18+00:00') prjct_data\n",
        "JOIN (\n",
        "  SELECT\n",
        "    repos.id,\n",
        "    repos.sourcerank AS repo_ranking,\n",
        "    repos.stars_count AS repo_stars\n",
        "  FROM\n",
        "    `bigquery-public-data.libraries_io.projects` prjcts\n",
        "  JOIN\n",
        "    `bigquery-public-data.libraries_io.repositories` repos\n",
        "  ON\n",
        "    prjcts.repository_id=repos.id) repo_data\n",
        "ON\n",
        "  prjct_data.repository_id=repo_data.id"
      ],
      "execution_count": null,
      "outputs": [
        {
          "output_type": "execute_result",
          "data": {
            "text/html": [
              "<div>\n",
              "<style scoped>\n",
              "    .dataframe tbody tr th:only-of-type {\n",
              "        vertical-align: middle;\n",
              "    }\n",
              "\n",
              "    .dataframe tbody tr th {\n",
              "        vertical-align: top;\n",
              "    }\n",
              "\n",
              "    .dataframe thead th {\n",
              "        text-align: right;\n",
              "    }\n",
              "</style>\n",
              "<table border=\"1\" class=\"dataframe\">\n",
              "  <thead>\n",
              "    <tr style=\"text-align: right;\">\n",
              "      <th></th>\n",
              "    </tr>\n",
              "  </thead>\n",
              "  <tbody>\n",
              "  </tbody>\n",
              "</table>\n",
              "</div>"
            ],
            "text/plain": [
              "Empty DataFrame\n",
              "Columns: []\n",
              "Index: []"
            ]
          },
          "metadata": {
            "tags": []
          },
          "execution_count": 30
        }
      ]
    },
    {
      "cell_type": "code",
      "metadata": {
        "colab": {
          "base_uri": "https://localhost:8080/",
          "height": 80
        },
        "id": "4_jomMP4C_c3",
        "outputId": "6f10532e-c054-45d5-8403-e91b64fa1e6e"
      },
      "source": [
        "%%bigquery --project $project_id\n",
        "\n",
        "SELECT\n",
        "  *\n",
        "FROM\n",
        "  ML.EVALUATE(MODEL `bqml_librariesIO.rank_predictor_model`, (\n",
        "SELECT\n",
        "  prjct_data.sourcerank,\n",
        "  dependent_projects_count,\n",
        "  dependent_repositories_count,\n",
        "  repo_data.repo_ranking,\n",
        "  repo_stars,\n",
        "  time_since_last_update,\n",
        "  versions_count,\n",
        "FROM (\n",
        "  SELECT\n",
        "    sourcerank,\n",
        "    dependent_projects_count,\n",
        "    dependent_repositories_count,\n",
        "    TIMESTAMP_DIFF(CURRENT_TIMESTAMP(), updated_timestamp, second) AS time_since_last_update,\n",
        "    versions_count,\n",
        "    repository_id\n",
        "  FROM\n",
        "    `bigquery-public-data.libraries_io.projects`\n",
        "  WHERE\n",
        " created_timestamp between '2015-01-26 23:56:18+00:00' and '2015-01-27 15:56:18+00:00') prjct_data\n",
        "JOIN (\n",
        "  SELECT\n",
        "    repos.id,\n",
        "    repos.sourcerank AS repo_ranking,\n",
        "    repos.stars_count AS repo_stars\n",
        "  FROM\n",
        "    `bigquery-public-data.libraries_io.projects` prjcts\n",
        "  JOIN\n",
        "    `bigquery-public-data.libraries_io.repositories` repos\n",
        "  ON\n",
        "    prjcts.repository_id=repos.id) repo_data\n",
        "ON\n",
        "  prjct_data.repository_id=repo_data.id))"
      ],
      "execution_count": null,
      "outputs": [
        {
          "output_type": "execute_result",
          "data": {
            "text/html": [
              "<div>\n",
              "<style scoped>\n",
              "    .dataframe tbody tr th:only-of-type {\n",
              "        vertical-align: middle;\n",
              "    }\n",
              "\n",
              "    .dataframe tbody tr th {\n",
              "        vertical-align: top;\n",
              "    }\n",
              "\n",
              "    .dataframe thead th {\n",
              "        text-align: right;\n",
              "    }\n",
              "</style>\n",
              "<table border=\"1\" class=\"dataframe\">\n",
              "  <thead>\n",
              "    <tr style=\"text-align: right;\">\n",
              "      <th></th>\n",
              "      <th>precision</th>\n",
              "      <th>recall</th>\n",
              "      <th>accuracy</th>\n",
              "      <th>f1_score</th>\n",
              "      <th>log_loss</th>\n",
              "      <th>roc_auc</th>\n",
              "    </tr>\n",
              "  </thead>\n",
              "  <tbody>\n",
              "    <tr>\n",
              "      <th>0</th>\n",
              "      <td>0.006634</td>\n",
              "      <td>0.032267</td>\n",
              "      <td>0.002751</td>\n",
              "      <td>0.004575</td>\n",
              "      <td>5.712664</td>\n",
              "      <td>0.524959</td>\n",
              "    </tr>\n",
              "  </tbody>\n",
              "</table>\n",
              "</div>"
            ],
            "text/plain": [
              "   precision    recall  accuracy  f1_score  log_loss   roc_auc\n",
              "0   0.006634  0.032267  0.002751  0.004575  5.712664  0.524959"
            ]
          },
          "metadata": {
            "tags": []
          },
          "execution_count": 31
        }
      ]
    },
    {
      "cell_type": "markdown",
      "metadata": {
        "id": "FheIreJyxfEx"
      },
      "source": [
        "**-->Model creation by using 'Logistic Regression' on Training data No.3 with small set of data(jan11-jan25)**"
      ]
    },
    {
      "cell_type": "code",
      "metadata": {
        "colab": {
          "base_uri": "https://localhost:8080/",
          "height": 32
        },
        "id": "pZdI8NhjxfE1",
        "outputId": "35a39f41-5429-4898-86ed-bb66702881b8"
      },
      "source": [
        "%%bigquery --project $project_id\n",
        "\n",
        "CREATE OR REPLACE MODEL `bqml_librariesIO.rank_predictor_model`\n",
        "OPTIONS(model_type='logistic_reg',input_label_cols=['sourcerank']) as\n",
        "SELECT\n",
        "  sourcerank,\n",
        "  dependent_projects_count,\n",
        "  dependent_repositories_count,\n",
        "  IF\n",
        "  (status IS NULL,\n",
        "    'active',\n",
        "    status) AS status,\n",
        "  TIMESTAMP_DIFF(CURRENT_TIMESTAMP(), updated_timestamp, second) AS time_since_last_update,\n",
        "  versions_count,\n",
        "  LANGUAGE,\n",
        "  TIMESTAMP_DIFF(CURRENT_TIMESTAMP(), latest_release_publish_timestamp, second) AS time_since_last_release,\n",
        "  TIMESTAMP_DIFF(CURRENT_TIMESTAMP(), last_synced_timestamp, second) AS time_since_last_synced\n",
        "FROM\n",
        "  `bigquery-public-data.libraries_io.projects`\n",
        "  where created_timestamp between '2015-01-11 23:56:18+00:00' and '2015-01-25 23:56:18+00:00'\n"
      ],
      "execution_count": null,
      "outputs": [
        {
          "output_type": "execute_result",
          "data": {
            "text/html": [
              "<div>\n",
              "<style scoped>\n",
              "    .dataframe tbody tr th:only-of-type {\n",
              "        vertical-align: middle;\n",
              "    }\n",
              "\n",
              "    .dataframe tbody tr th {\n",
              "        vertical-align: top;\n",
              "    }\n",
              "\n",
              "    .dataframe thead th {\n",
              "        text-align: right;\n",
              "    }\n",
              "</style>\n",
              "<table border=\"1\" class=\"dataframe\">\n",
              "  <thead>\n",
              "    <tr style=\"text-align: right;\">\n",
              "      <th></th>\n",
              "    </tr>\n",
              "  </thead>\n",
              "  <tbody>\n",
              "  </tbody>\n",
              "</table>\n",
              "</div>"
            ],
            "text/plain": [
              "Empty DataFrame\n",
              "Columns: []\n",
              "Index: []"
            ]
          },
          "metadata": {
            "tags": []
          },
          "execution_count": 17
        }
      ]
    },
    {
      "cell_type": "code",
      "metadata": {
        "colab": {
          "base_uri": "https://localhost:8080/",
          "height": 80
        },
        "id": "uY3_PzNExfE9",
        "outputId": "d373dc76-e1a6-402f-e83c-aad3b857de86"
      },
      "source": [
        "%%bigquery --project $project_id\n",
        "\n",
        "SELECT\n",
        "  *\n",
        "FROM\n",
        "  ML.EVALUATE(MODEL `bqml_librariesIO.rank_predictor_model`, (\n",
        "SELECT\n",
        "  sourcerank,\n",
        "  dependent_projects_count,\n",
        "  dependent_repositories_count,\n",
        "  IF\n",
        "  (status IS NULL,\n",
        "    'active',\n",
        "    status) AS status,\n",
        "  TIMESTAMP_DIFF(CURRENT_TIMESTAMP(), updated_timestamp, second) AS time_since_last_update,\n",
        "  versions_count,\n",
        "  LANGUAGE,\n",
        "  TIMESTAMP_DIFF(CURRENT_TIMESTAMP(), latest_release_publish_timestamp, second) AS time_since_last_release,\n",
        "  TIMESTAMP_DIFF(CURRENT_TIMESTAMP(), last_synced_timestamp, second) AS time_since_last_synced\n",
        "FROM\n",
        "  `bigquery-public-data.libraries_io.projects`\n",
        "  where created_timestamp between '2015-01-26 23:56:18+00:00' and '2015-01-27 15:56:18+00:00'))"
      ],
      "execution_count": null,
      "outputs": [
        {
          "output_type": "execute_result",
          "data": {
            "text/html": [
              "<div>\n",
              "<style scoped>\n",
              "    .dataframe tbody tr th:only-of-type {\n",
              "        vertical-align: middle;\n",
              "    }\n",
              "\n",
              "    .dataframe tbody tr th {\n",
              "        vertical-align: top;\n",
              "    }\n",
              "\n",
              "    .dataframe thead th {\n",
              "        text-align: right;\n",
              "    }\n",
              "</style>\n",
              "<table border=\"1\" class=\"dataframe\">\n",
              "  <thead>\n",
              "    <tr style=\"text-align: right;\">\n",
              "      <th></th>\n",
              "      <th>precision</th>\n",
              "      <th>recall</th>\n",
              "      <th>accuracy</th>\n",
              "      <th>f1_score</th>\n",
              "      <th>log_loss</th>\n",
              "      <th>roc_auc</th>\n",
              "    </tr>\n",
              "  </thead>\n",
              "  <tbody>\n",
              "    <tr>\n",
              "      <th>0</th>\n",
              "      <td>0.065689</td>\n",
              "      <td>0.086017</td>\n",
              "      <td>0.252535</td>\n",
              "      <td>0.051396</td>\n",
              "      <td>3.552886</td>\n",
              "      <td>0.816146</td>\n",
              "    </tr>\n",
              "  </tbody>\n",
              "</table>\n",
              "</div>"
            ],
            "text/plain": [
              "   precision    recall  accuracy  f1_score  log_loss   roc_auc\n",
              "0   0.065689  0.086017  0.252535  0.051396  3.552886  0.816146"
            ]
          },
          "metadata": {
            "tags": []
          },
          "execution_count": 18
        }
      ]
    },
    {
      "cell_type": "markdown",
      "metadata": {
        "id": "vaEUlZn7aOY_"
      },
      "source": [
        "**-->Doing same as above after removing NULLs**"
      ]
    },
    {
      "cell_type": "code",
      "metadata": {
        "colab": {
          "base_uri": "https://localhost:8080/",
          "height": 32
        },
        "id": "GG_jxYimaOZC",
        "outputId": "aecb208a-4136-4e55-9b87-bd94e2829d36"
      },
      "source": [
        "%%bigquery --project $project_id\n",
        "\n",
        "CREATE OR REPLACE MODEL `bqml_librariesIO.rank_predictor_model`\n",
        "OPTIONS(model_type='logistic_reg',input_label_cols=['sourcerank']) as\n",
        "SELECT\n",
        "  sourcerank,\n",
        "  dependent_projects_count,\n",
        "  dependent_repositories_count,\n",
        "  IF\n",
        "  (status IS NULL,\n",
        "    'active',\n",
        "    status) AS status,\n",
        "  TIMESTAMP_DIFF(CURRENT_TIMESTAMP(), updated_timestamp, second) AS time_since_last_update,\n",
        "  versions_count,\n",
        "  LANGUAGE,\n",
        "  TIMESTAMP_DIFF(CURRENT_TIMESTAMP(), latest_release_publish_timestamp, second) AS time_since_last_release,\n",
        "  TIMESTAMP_DIFF(CURRENT_TIMESTAMP(), last_synced_timestamp, second) AS time_since_last_synced\n",
        "FROM\n",
        "  `bigquery-public-data.libraries_io.projects`\n",
        "  where created_timestamp between '2015-01-11 23:56:18+00:00' and '2015-01-25 23:56:18+00:00'\n",
        "  and\n",
        "  LANGUAGE IS NOT NULL\n",
        "    AND last_synced_timestamp IS NOT NULL\n"
      ],
      "execution_count": null,
      "outputs": [
        {
          "output_type": "execute_result",
          "data": {
            "text/html": [
              "<div>\n",
              "<style scoped>\n",
              "    .dataframe tbody tr th:only-of-type {\n",
              "        vertical-align: middle;\n",
              "    }\n",
              "\n",
              "    .dataframe tbody tr th {\n",
              "        vertical-align: top;\n",
              "    }\n",
              "\n",
              "    .dataframe thead th {\n",
              "        text-align: right;\n",
              "    }\n",
              "</style>\n",
              "<table border=\"1\" class=\"dataframe\">\n",
              "  <thead>\n",
              "    <tr style=\"text-align: right;\">\n",
              "      <th></th>\n",
              "    </tr>\n",
              "  </thead>\n",
              "  <tbody>\n",
              "  </tbody>\n",
              "</table>\n",
              "</div>"
            ],
            "text/plain": [
              "Empty DataFrame\n",
              "Columns: []\n",
              "Index: []"
            ]
          },
          "metadata": {
            "tags": []
          },
          "execution_count": 47
        }
      ]
    },
    {
      "cell_type": "code",
      "metadata": {
        "colab": {
          "base_uri": "https://localhost:8080/",
          "height": 80
        },
        "id": "UHzYkhoyaOZH",
        "outputId": "84e2d11b-ad84-4fb9-c866-92448a4cb4af"
      },
      "source": [
        "%%bigquery --project $project_id\n",
        "\n",
        "SELECT\n",
        "  *\n",
        "FROM\n",
        "  ML.EVALUATE(MODEL `bqml_librariesIO.rank_predictor_model`, (\n",
        "SELECT\n",
        "  sourcerank,\n",
        "  dependent_projects_count,\n",
        "  dependent_repositories_count,\n",
        "  IF\n",
        "  (status IS NULL,\n",
        "    'active',\n",
        "    status) AS status,\n",
        "  TIMESTAMP_DIFF(CURRENT_TIMESTAMP(), updated_timestamp, second) AS time_since_last_update,\n",
        "  versions_count,\n",
        "  LANGUAGE,\n",
        "  TIMESTAMP_DIFF(CURRENT_TIMESTAMP(), latest_release_publish_timestamp, second) AS time_since_last_release,\n",
        "  TIMESTAMP_DIFF(CURRENT_TIMESTAMP(), last_synced_timestamp, second) AS time_since_last_synced\n",
        "FROM\n",
        "  `bigquery-public-data.libraries_io.projects`\n",
        "  where created_timestamp between '2015-01-26 23:56:18+00:00' and '2015-01-27 15:56:18+00:00'\n",
        "   and LANGUAGE IS NOT NULL\n",
        "    AND last_synced_timestamp IS NOT NULL))"
      ],
      "execution_count": null,
      "outputs": [
        {
          "output_type": "execute_result",
          "data": {
            "text/html": [
              "<div>\n",
              "<style scoped>\n",
              "    .dataframe tbody tr th:only-of-type {\n",
              "        vertical-align: middle;\n",
              "    }\n",
              "\n",
              "    .dataframe tbody tr th {\n",
              "        vertical-align: top;\n",
              "    }\n",
              "\n",
              "    .dataframe thead th {\n",
              "        text-align: right;\n",
              "    }\n",
              "</style>\n",
              "<table border=\"1\" class=\"dataframe\">\n",
              "  <thead>\n",
              "    <tr style=\"text-align: right;\">\n",
              "      <th></th>\n",
              "      <th>precision</th>\n",
              "      <th>recall</th>\n",
              "      <th>accuracy</th>\n",
              "      <th>f1_score</th>\n",
              "      <th>log_loss</th>\n",
              "      <th>roc_auc</th>\n",
              "    </tr>\n",
              "  </thead>\n",
              "  <tbody>\n",
              "    <tr>\n",
              "      <th>0</th>\n",
              "      <td>0.03779</td>\n",
              "      <td>0.075947</td>\n",
              "      <td>0.248677</td>\n",
              "      <td>0.035217</td>\n",
              "      <td>3.634602</td>\n",
              "      <td>0.777773</td>\n",
              "    </tr>\n",
              "  </tbody>\n",
              "</table>\n",
              "</div>"
            ],
            "text/plain": [
              "   precision    recall  accuracy  f1_score  log_loss   roc_auc\n",
              "0    0.03779  0.075947  0.248677  0.035217  3.634602  0.777773"
            ]
          },
          "metadata": {
            "tags": []
          },
          "execution_count": 48
        }
      ]
    },
    {
      "cell_type": "markdown",
      "metadata": {
        "id": "W42SmwLyEMIO"
      },
      "source": [
        "**-->Model creation by using 'Logistic Regression' on Training data No.2 with small set of data(jan11-jan25)**"
      ]
    },
    {
      "cell_type": "code",
      "metadata": {
        "colab": {
          "base_uri": "https://localhost:8080/",
          "height": 32
        },
        "id": "U8eEB_B-EMIU",
        "outputId": "29d4f67d-3a40-43c9-de91-68d4290c9752"
      },
      "source": [
        "%%bigquery --project $project_id\n",
        "\n",
        "CREATE OR REPLACE MODEL `bqml_librariesIO_LR.rank_predictor_model`\n",
        "OPTIONS(model_type='logistic_reg', auto_class_weights=TRUE,input_label_cols=['sourcerank']) as\n",
        "SELECT\n",
        "  prjct_data.sourcerank,\n",
        "  dependent_projects_count,\n",
        "  dependent_repositories_count,\n",
        "  repo_data.repo_ranking,\n",
        "  repo_stars,\n",
        "  status,\n",
        "  time_since_last_update,\n",
        "  versions_count,\n",
        "  LANGUAGE,\n",
        "  time_since_last_release,\n",
        "  time_since_last_synced\n",
        "FROM (\n",
        "  SELECT\n",
        "    sourcerank,\n",
        "    dependent_projects_count,\n",
        "    dependent_repositories_count,\n",
        "  IF\n",
        "    (status IS NULL,\n",
        "      'active',\n",
        "      status) AS status,\n",
        "    TIMESTAMP_DIFF(CURRENT_TIMESTAMP(), updated_timestamp, second) AS time_since_last_update,\n",
        "    versions_count,\n",
        "    LANGUAGE,\n",
        "    TIMESTAMP_DIFF(CURRENT_TIMESTAMP(), latest_release_publish_timestamp, second) AS time_since_last_release,\n",
        "    TIMESTAMP_DIFF(CURRENT_TIMESTAMP(), last_synced_timestamp, second) AS time_since_last_synced,\n",
        "    repository_id\n",
        "  FROM\n",
        "    `bigquery-public-data.libraries_io.projects`\n",
        "  WHERE\n",
        "    created_timestamp BETWEEN '2015-01-11 23:56:18+00:00'\n",
        "    AND '2015-01-25 23:56:18+00:00') prjct_data\n",
        "JOIN (\n",
        "  SELECT\n",
        "    repos.id,\n",
        "    repos.sourcerank AS repo_ranking,\n",
        "    repos.stars_count AS repo_stars\n",
        "  FROM\n",
        "    `bigquery-public-data.libraries_io.projects` prjcts\n",
        "  JOIN\n",
        "    `bigquery-public-data.libraries_io.repositories` repos\n",
        "  ON\n",
        "    prjcts.repository_id=repos.id) repo_data\n",
        "ON\n",
        "  prjct_data.repository_id=repo_data.id"
      ],
      "execution_count": null,
      "outputs": [
        {
          "output_type": "execute_result",
          "data": {
            "text/html": [
              "<div>\n",
              "<style scoped>\n",
              "    .dataframe tbody tr th:only-of-type {\n",
              "        vertical-align: middle;\n",
              "    }\n",
              "\n",
              "    .dataframe tbody tr th {\n",
              "        vertical-align: top;\n",
              "    }\n",
              "\n",
              "    .dataframe thead th {\n",
              "        text-align: right;\n",
              "    }\n",
              "</style>\n",
              "<table border=\"1\" class=\"dataframe\">\n",
              "  <thead>\n",
              "    <tr style=\"text-align: right;\">\n",
              "      <th></th>\n",
              "    </tr>\n",
              "  </thead>\n",
              "  <tbody>\n",
              "  </tbody>\n",
              "</table>\n",
              "</div>"
            ],
            "text/plain": [
              "Empty DataFrame\n",
              "Columns: []\n",
              "Index: []"
            ]
          },
          "metadata": {
            "tags": []
          },
          "execution_count": 20
        }
      ]
    },
    {
      "cell_type": "markdown",
      "metadata": {
        "id": "x1LqdFAY43vp"
      },
      "source": [
        "-- Nulls is not reason for accuracy below:"
      ]
    },
    {
      "cell_type": "code",
      "metadata": {
        "colab": {
          "base_uri": "https://localhost:8080/",
          "height": 80
        },
        "id": "12aFhvxdEMIh",
        "outputId": "69b30b2a-bccf-4fcd-bb4a-f45c1bbb1b19"
      },
      "source": [
        "%%bigquery --project $project_id\n",
        "\n",
        "SELECT\n",
        "  *\n",
        "FROM\n",
        "  ML.EVALUATE(MODEL `bqml_librariesIO_LR.rank_predictor_model`, (\n",
        "SELECT\n",
        "  prjct_data.sourcerank,\n",
        "  dependent_projects_count,\n",
        "  dependent_repositories_count,\n",
        "  repo_data.repo_ranking,\n",
        "  repo_stars,\n",
        "  status,\n",
        "  time_since_last_update,\n",
        "  versions_count,\n",
        "  LANGUAGE,\n",
        "  time_since_last_release,\n",
        "  time_since_last_synced\n",
        "FROM (\n",
        "  SELECT\n",
        "    sourcerank,\n",
        "    dependent_projects_count,\n",
        "    dependent_repositories_count,\n",
        "  IF\n",
        "    (status IS NULL,\n",
        "      'active',\n",
        "      status) AS status,\n",
        "    TIMESTAMP_DIFF(CURRENT_TIMESTAMP(), updated_timestamp, second) AS time_since_last_update,\n",
        "    versions_count,\n",
        "    LANGUAGE,\n",
        "    TIMESTAMP_DIFF(CURRENT_TIMESTAMP(), latest_release_publish_timestamp, second) AS time_since_last_release,\n",
        "    TIMESTAMP_DIFF(CURRENT_TIMESTAMP(), last_synced_timestamp, second) AS time_since_last_synced,\n",
        "    repository_id\n",
        "  FROM\n",
        "    `bigquery-public-data.libraries_io.projects`\n",
        "  where created_timestamp between '2015-01-26 23:56:18+00:00' and '2015-01-27 15:56:18+00:00') prjct_data\n",
        "JOIN (\n",
        "  SELECT\n",
        "    repos.id,\n",
        "    repos.sourcerank AS repo_ranking,\n",
        "    repos.stars_count AS repo_stars\n",
        "  FROM\n",
        "    `bigquery-public-data.libraries_io.projects` prjcts\n",
        "  JOIN\n",
        "    `bigquery-public-data.libraries_io.repositories` repos\n",
        "  ON\n",
        "    prjcts.repository_id=repos.id) repo_data\n",
        "ON\n",
        "  prjct_data.repository_id=repo_data.id))"
      ],
      "execution_count": null,
      "outputs": [
        {
          "output_type": "execute_result",
          "data": {
            "text/html": [
              "<div>\n",
              "<style scoped>\n",
              "    .dataframe tbody tr th:only-of-type {\n",
              "        vertical-align: middle;\n",
              "    }\n",
              "\n",
              "    .dataframe tbody tr th {\n",
              "        vertical-align: top;\n",
              "    }\n",
              "\n",
              "    .dataframe thead th {\n",
              "        text-align: right;\n",
              "    }\n",
              "</style>\n",
              "<table border=\"1\" class=\"dataframe\">\n",
              "  <thead>\n",
              "    <tr style=\"text-align: right;\">\n",
              "      <th></th>\n",
              "      <th>precision</th>\n",
              "      <th>recall</th>\n",
              "      <th>accuracy</th>\n",
              "      <th>f1_score</th>\n",
              "      <th>log_loss</th>\n",
              "      <th>roc_auc</th>\n",
              "    </tr>\n",
              "  </thead>\n",
              "  <tbody>\n",
              "    <tr>\n",
              "      <th>0</th>\n",
              "      <td>0.084225</td>\n",
              "      <td>0.13146</td>\n",
              "      <td>0.074846</td>\n",
              "      <td>0.05247</td>\n",
              "      <td>19.074771</td>\n",
              "      <td>0.582692</td>\n",
              "    </tr>\n",
              "  </tbody>\n",
              "</table>\n",
              "</div>"
            ],
            "text/plain": [
              "   precision   recall  accuracy  f1_score   log_loss   roc_auc\n",
              "0   0.084225  0.13146  0.074846   0.05247  19.074771  0.582692"
            ]
          },
          "metadata": {
            "tags": []
          },
          "execution_count": 22
        }
      ]
    },
    {
      "cell_type": "markdown",
      "metadata": {
        "id": "ax9UONNZflXP"
      },
      "source": [
        "**-->Model creation by using 'Logistic Regression' on Training data No.5 with small set of data(jan11-jan25)**"
      ]
    },
    {
      "cell_type": "code",
      "metadata": {
        "colab": {
          "base_uri": "https://localhost:8080/",
          "height": 32
        },
        "id": "pqgWyxckflXP",
        "outputId": "130785c3-b57b-4ef1-d00e-71826d23bbad"
      },
      "source": [
        "%%bigquery --project $project_id\n",
        "\n",
        "CREATE OR REPLACE MODEL `bqml_librariesIO_LR.rank_predictor_model`\n",
        "OPTIONS(model_type='logistic_reg', auto_class_weights=TRUE,input_label_cols=['sourcerank']) as\n",
        "SELECT\n",
        "  prjct_data.sourcerank,\n",
        "  dependent_projects_count,\n",
        "  dependent_repositories_count,\n",
        "  status,\n",
        "  time_since_last_update,\n",
        "  versions_count,\n",
        "  LANGUAGE,\n",
        "  time_since_last_release,\n",
        "  time_since_last_synced,\n",
        "  time_since_last_pushed_Repo,\n",
        "  time_since_last_synced_Repo\n",
        "FROM (\n",
        "  SELECT\n",
        "    sourcerank,\n",
        "    dependent_projects_count,\n",
        "    dependent_repositories_count,\n",
        "  IF\n",
        "    (status IS NULL,\n",
        "      'active',\n",
        "      status) AS status,\n",
        "    TIMESTAMP_DIFF(CURRENT_TIMESTAMP(), updated_timestamp, second) AS time_since_last_update,\n",
        "    versions_count,\n",
        "    LANGUAGE,\n",
        "    TIMESTAMP_DIFF(CURRENT_TIMESTAMP(), latest_release_publish_timestamp, second) AS time_since_last_release,\n",
        "    TIMESTAMP_DIFF(CURRENT_TIMESTAMP(), last_synced_timestamp, second) AS time_since_last_synced,\n",
        "    repository_id\n",
        "  FROM\n",
        "    `bigquery-public-data.libraries_io.projects`\n",
        "  WHERE\n",
        "    created_timestamp BETWEEN '2015-01-11 23:56:18+00:00'\n",
        "    AND '2015-01-25 23:56:18+00:00') prjct_data\n",
        "JOIN (\n",
        "  SELECT\n",
        "    repos.id,\n",
        "    TIMESTAMP_DIFF(CURRENT_TIMESTAMP(), repos.last_pushed_timestamp, second) AS time_since_last_pushed_Repo,\n",
        "    TIMESTAMP_DIFF(CURRENT_TIMESTAMP(), repos.last_synced_timestamp, second) AS time_since_last_synced_Repo,\n",
        "  FROM\n",
        "    `bigquery-public-data.libraries_io.projects` prjcts\n",
        "  JOIN\n",
        "    `bigquery-public-data.libraries_io.repositories` repos\n",
        "  ON\n",
        "    prjcts.repository_id=repos.id) repo_data\n",
        "ON\n",
        "  prjct_data.repository_id=repo_data.id"
      ],
      "execution_count": null,
      "outputs": [
        {
          "output_type": "execute_result",
          "data": {
            "text/html": [
              "<div>\n",
              "<style scoped>\n",
              "    .dataframe tbody tr th:only-of-type {\n",
              "        vertical-align: middle;\n",
              "    }\n",
              "\n",
              "    .dataframe tbody tr th {\n",
              "        vertical-align: top;\n",
              "    }\n",
              "\n",
              "    .dataframe thead th {\n",
              "        text-align: right;\n",
              "    }\n",
              "</style>\n",
              "<table border=\"1\" class=\"dataframe\">\n",
              "  <thead>\n",
              "    <tr style=\"text-align: right;\">\n",
              "      <th></th>\n",
              "    </tr>\n",
              "  </thead>\n",
              "  <tbody>\n",
              "  </tbody>\n",
              "</table>\n",
              "</div>"
            ],
            "text/plain": [
              "Empty DataFrame\n",
              "Columns: []\n",
              "Index: []"
            ]
          },
          "metadata": {
            "tags": []
          },
          "execution_count": 69
        }
      ]
    },
    {
      "cell_type": "markdown",
      "metadata": {
        "id": "et2ui1Em6_dB"
      },
      "source": [
        "79243 rows were used as evaluation set, which is 50% of training size. This could be reason for low accuracy!"
      ]
    },
    {
      "cell_type": "code",
      "metadata": {
        "colab": {
          "base_uri": "https://localhost:8080/",
          "height": 80
        },
        "id": "Rjw5gRy6flXS",
        "outputId": "c65f6b44-92da-48ea-a045-f8efdfc8a8e9"
      },
      "source": [
        "%%bigquery --project $project_id\n",
        "\n",
        "SELECT\n",
        "  *\n",
        "FROM\n",
        "  ML.EVALUATE(MODEL `bqml_librariesIO_LR.rank_predictor_model`, (\n",
        "SELECT\n",
        "  prjct_data.sourcerank,\n",
        "  dependent_projects_count,\n",
        "  dependent_repositories_count,\n",
        "  status,\n",
        "  time_since_last_update,\n",
        "  versions_count,\n",
        "  LANGUAGE,\n",
        "  time_since_last_release,\n",
        "  time_since_last_synced,\n",
        "  time_since_last_pushed_Repo,\n",
        "  time_since_last_synced_Repo\n",
        "FROM (\n",
        "  SELECT\n",
        "    sourcerank,\n",
        "    dependent_projects_count,\n",
        "    dependent_repositories_count,\n",
        "  IF\n",
        "    (status IS NULL,\n",
        "      'active',\n",
        "      status) AS status,\n",
        "    TIMESTAMP_DIFF(CURRENT_TIMESTAMP(), updated_timestamp, second) AS time_since_last_update,\n",
        "    versions_count,\n",
        "    LANGUAGE,\n",
        "    TIMESTAMP_DIFF(CURRENT_TIMESTAMP(), latest_release_publish_timestamp, second) AS time_since_last_release,\n",
        "    TIMESTAMP_DIFF(CURRENT_TIMESTAMP(), last_synced_timestamp, second) AS time_since_last_synced,\n",
        "    repository_id\n",
        "  FROM\n",
        "    `bigquery-public-data.libraries_io.projects`\n",
        "  WHERE\n",
        "    created_timestamp BETWEEN '2015-01-26 23:56:18+00:00' and '2015-01-27 15:56:18+00:00') prjct_data\n",
        "JOIN (\n",
        "  SELECT\n",
        "    repos.id,\n",
        "    TIMESTAMP_DIFF(CURRENT_TIMESTAMP(), repos.last_pushed_timestamp, second) AS time_since_last_pushed_Repo,\n",
        "    TIMESTAMP_DIFF(CURRENT_TIMESTAMP(), repos.last_synced_timestamp, second) AS time_since_last_synced_Repo,\n",
        "  FROM\n",
        "    `bigquery-public-data.libraries_io.projects` prjcts\n",
        "  JOIN\n",
        "    `bigquery-public-data.libraries_io.repositories` repos\n",
        "  ON\n",
        "    prjcts.repository_id=repos.id) repo_data\n",
        "ON\n",
        "  prjct_data.repository_id=repo_data.id))"
      ],
      "execution_count": null,
      "outputs": [
        {
          "output_type": "execute_result",
          "data": {
            "text/html": [
              "<div>\n",
              "<style scoped>\n",
              "    .dataframe tbody tr th:only-of-type {\n",
              "        vertical-align: middle;\n",
              "    }\n",
              "\n",
              "    .dataframe tbody tr th {\n",
              "        vertical-align: top;\n",
              "    }\n",
              "\n",
              "    .dataframe thead th {\n",
              "        text-align: right;\n",
              "    }\n",
              "</style>\n",
              "<table border=\"1\" class=\"dataframe\">\n",
              "  <thead>\n",
              "    <tr style=\"text-align: right;\">\n",
              "      <th></th>\n",
              "      <th>precision</th>\n",
              "      <th>recall</th>\n",
              "      <th>accuracy</th>\n",
              "      <th>f1_score</th>\n",
              "      <th>log_loss</th>\n",
              "      <th>roc_auc</th>\n",
              "    </tr>\n",
              "  </thead>\n",
              "  <tbody>\n",
              "    <tr>\n",
              "      <th>0</th>\n",
              "      <td>0.037344</td>\n",
              "      <td>0.06353</td>\n",
              "      <td>0.007647</td>\n",
              "      <td>0.019512</td>\n",
              "      <td>9.251674</td>\n",
              "      <td>0.55874</td>\n",
              "    </tr>\n",
              "  </tbody>\n",
              "</table>\n",
              "</div>"
            ],
            "text/plain": [
              "   precision   recall  accuracy  f1_score  log_loss  roc_auc\n",
              "0   0.037344  0.06353  0.007647  0.019512  9.251674  0.55874"
            ]
          },
          "metadata": {
            "tags": []
          },
          "execution_count": 71
        }
      ]
    },
    {
      "cell_type": "markdown",
      "metadata": {
        "id": "GIg1RmxwvEkM"
      },
      "source": [
        "**-->Model creation after removing NULLS from above**"
      ]
    },
    {
      "cell_type": "code",
      "metadata": {
        "colab": {
          "base_uri": "https://localhost:8080/",
          "height": 32
        },
        "id": "Duw09MzivEkN",
        "outputId": "70168634-60c6-4b90-e770-082ea099d37a"
      },
      "source": [
        "%%bigquery --project $project_id\n",
        "\n",
        "CREATE OR REPLACE MODEL `bqml_librariesIO.rank_predictor_model`\n",
        "OPTIONS(model_type='logistic_reg', auto_class_weights=TRUE,input_label_cols=['sourcerank']) as\n",
        "SELECT\n",
        "  prjct_data.sourcerank,\n",
        "  dependent_projects_count,\n",
        "  dependent_repositories_count,\n",
        "  status,\n",
        "  time_since_last_update,\n",
        "  versions_count,\n",
        "  LANGUAGE,\n",
        "  time_since_last_release,\n",
        "  time_since_last_synced,\n",
        "  time_since_last_pushed_Repo,\n",
        "  time_since_last_synced_Repo\n",
        "FROM (\n",
        "  SELECT\n",
        "    sourcerank,\n",
        "    dependent_projects_count,\n",
        "    dependent_repositories_count,\n",
        "  IF\n",
        "    (status IS NULL,\n",
        "      'active',\n",
        "      status) AS status,\n",
        "    TIMESTAMP_DIFF(CURRENT_TIMESTAMP(), updated_timestamp, second) AS time_since_last_update,\n",
        "    versions_count,\n",
        "    LANGUAGE,\n",
        "    TIMESTAMP_DIFF(CURRENT_TIMESTAMP(), latest_release_publish_timestamp, second) AS time_since_last_release,\n",
        "    TIMESTAMP_DIFF(CURRENT_TIMESTAMP(), last_synced_timestamp, second) AS time_since_last_synced,\n",
        "    repository_id\n",
        "  FROM\n",
        "    `bigquery-public-data.libraries_io.projects`\n",
        "  WHERE\n",
        "    created_timestamp BETWEEN '2015-01-11 23:56:18+00:00'\n",
        "    AND '2015-01-25 23:56:18+00:00') prjct_data\n",
        "JOIN (\n",
        "  SELECT\n",
        "    repos.id,\n",
        "    TIMESTAMP_DIFF(CURRENT_TIMESTAMP(), repos.last_pushed_timestamp, second) AS time_since_last_pushed_Repo,\n",
        "    TIMESTAMP_DIFF(CURRENT_TIMESTAMP(), repos.last_synced_timestamp, second) AS time_since_last_synced_Repo,\n",
        "  FROM\n",
        "    `bigquery-public-data.libraries_io.projects` prjcts\n",
        "  JOIN\n",
        "    `bigquery-public-data.libraries_io.repositories` repos\n",
        "  ON\n",
        "    prjcts.repository_id=repos.id) repo_data\n",
        "ON\n",
        "  prjct_data.repository_id=repo_data.id\n",
        "WHERE\n",
        "  time_since_last_pushed_Repo IS not NULL\n",
        "  and time_since_last_synced_Repo IS not NULL\n",
        "  and LANGUAGE IS not NULL\n",
        "  and time_since_last_synced IS not NULL"
      ],
      "execution_count": null,
      "outputs": [
        {
          "output_type": "execute_result",
          "data": {
            "text/html": [
              "<div>\n",
              "<style scoped>\n",
              "    .dataframe tbody tr th:only-of-type {\n",
              "        vertical-align: middle;\n",
              "    }\n",
              "\n",
              "    .dataframe tbody tr th {\n",
              "        vertical-align: top;\n",
              "    }\n",
              "\n",
              "    .dataframe thead th {\n",
              "        text-align: right;\n",
              "    }\n",
              "</style>\n",
              "<table border=\"1\" class=\"dataframe\">\n",
              "  <thead>\n",
              "    <tr style=\"text-align: right;\">\n",
              "      <th></th>\n",
              "    </tr>\n",
              "  </thead>\n",
              "  <tbody>\n",
              "  </tbody>\n",
              "</table>\n",
              "</div>"
            ],
            "text/plain": [
              "Empty DataFrame\n",
              "Columns: []\n",
              "Index: []"
            ]
          },
          "metadata": {
            "tags": []
          },
          "execution_count": 5
        }
      ]
    },
    {
      "cell_type": "markdown",
      "metadata": {
        "id": "UrOunThc8BGu"
      },
      "source": [
        "accuracy dropped even more due to the same reason as above! (only 31k rows left)"
      ]
    },
    {
      "cell_type": "code",
      "metadata": {
        "colab": {
          "base_uri": "https://localhost:8080/",
          "height": 80
        },
        "id": "XYlX4TDYvEkP",
        "outputId": "e69dce47-4a87-4af5-d092-57501bd0b5e0"
      },
      "source": [
        "%%bigquery --project $project_id\n",
        "\n",
        "SELECT\n",
        "  *\n",
        "FROM\n",
        "  ML.EVALUATE(MODEL `bqml_librariesIO.rank_predictor_model`, (\n",
        "SELECT\n",
        "  prjct_data.sourcerank,\n",
        "  dependent_projects_count,\n",
        "  dependent_repositories_count,\n",
        "  status,\n",
        "  time_since_last_update,\n",
        "  versions_count,\n",
        "  LANGUAGE,\n",
        "  time_since_last_release,\n",
        "  time_since_last_synced,\n",
        "  time_since_last_pushed_Repo,\n",
        "  time_since_last_synced_Repo\n",
        "FROM (\n",
        "  SELECT\n",
        "    sourcerank,\n",
        "    dependent_projects_count,\n",
        "    dependent_repositories_count,\n",
        "  IF\n",
        "    (status IS NULL,\n",
        "      'active',\n",
        "      status) AS status,\n",
        "    TIMESTAMP_DIFF(CURRENT_TIMESTAMP(), updated_timestamp, second) AS time_since_last_update,\n",
        "    versions_count,\n",
        "    LANGUAGE,\n",
        "    TIMESTAMP_DIFF(CURRENT_TIMESTAMP(), latest_release_publish_timestamp, second) AS time_since_last_release,\n",
        "    TIMESTAMP_DIFF(CURRENT_TIMESTAMP(), last_synced_timestamp, second) AS time_since_last_synced,\n",
        "    repository_id\n",
        "  FROM\n",
        "    `bigquery-public-data.libraries_io.projects`\n",
        "  WHERE\n",
        "    created_timestamp BETWEEN '2015-01-26 23:56:18+00:00'\n",
        "    AND '2015-01-27 15:56:18+00:00') prjct_data\n",
        "JOIN (\n",
        "  SELECT\n",
        "    repos.id,\n",
        "    TIMESTAMP_DIFF(CURRENT_TIMESTAMP(), repos.last_pushed_timestamp, second) AS time_since_last_pushed_Repo,\n",
        "    TIMESTAMP_DIFF(CURRENT_TIMESTAMP(), repos.last_synced_timestamp, second) AS time_since_last_synced_Repo,\n",
        "  FROM\n",
        "    `bigquery-public-data.libraries_io.projects` prjcts\n",
        "  JOIN\n",
        "    `bigquery-public-data.libraries_io.repositories` repos\n",
        "  ON\n",
        "    prjcts.repository_id=repos.id) repo_data\n",
        "ON\n",
        "  prjct_data.repository_id=repo_data.id\n",
        "  WHERE\n",
        "  time_since_last_pushed_Repo IS not NULL\n",
        "  and time_since_last_synced_Repo IS not NULL\n",
        "  and LANGUAGE IS not NULL\n",
        "  and time_since_last_synced IS not NULL))"
      ],
      "execution_count": null,
      "outputs": [
        {
          "output_type": "execute_result",
          "data": {
            "text/html": [
              "<div>\n",
              "<style scoped>\n",
              "    .dataframe tbody tr th:only-of-type {\n",
              "        vertical-align: middle;\n",
              "    }\n",
              "\n",
              "    .dataframe tbody tr th {\n",
              "        vertical-align: top;\n",
              "    }\n",
              "\n",
              "    .dataframe thead th {\n",
              "        text-align: right;\n",
              "    }\n",
              "</style>\n",
              "<table border=\"1\" class=\"dataframe\">\n",
              "  <thead>\n",
              "    <tr style=\"text-align: right;\">\n",
              "      <th></th>\n",
              "      <th>precision</th>\n",
              "      <th>recall</th>\n",
              "      <th>accuracy</th>\n",
              "      <th>f1_score</th>\n",
              "      <th>log_loss</th>\n",
              "      <th>roc_auc</th>\n",
              "    </tr>\n",
              "  </thead>\n",
              "  <tbody>\n",
              "    <tr>\n",
              "      <th>0</th>\n",
              "      <td>0.053362</td>\n",
              "      <td>0.112737</td>\n",
              "      <td>0.1262</td>\n",
              "      <td>0.046802</td>\n",
              "      <td>15.117758</td>\n",
              "      <td>0.608839</td>\n",
              "    </tr>\n",
              "  </tbody>\n",
              "</table>\n",
              "</div>"
            ],
            "text/plain": [
              "   precision    recall  accuracy  f1_score   log_loss   roc_auc\n",
              "0   0.053362  0.112737    0.1262  0.046802  15.117758  0.608839"
            ]
          },
          "metadata": {
            "tags": []
          },
          "execution_count": 8
        }
      ]
    },
    {
      "cell_type": "markdown",
      "metadata": {
        "id": "RDsj7XAh0gCF"
      },
      "source": [
        "**--> Comparing data with and without NULLs**"
      ]
    },
    {
      "cell_type": "code",
      "metadata": {
        "colab": {
          "base_uri": "https://localhost:8080/",
          "height": 80
        },
        "id": "dV-ZYqSSu6iz",
        "outputId": "6d05e43c-62e2-4fa7-828b-07bf03a89743"
      },
      "source": [
        "%%bigquery --project $project_id\n",
        "\n",
        "\n",
        "SELECT\n",
        "  (\n",
        "  SELECT\n",
        "    COUNT(*)\n",
        "  FROM (\n",
        "    SELECT\n",
        "      sourcerank,\n",
        "      dependent_projects_count,\n",
        "      dependent_repositories_count,\n",
        "    IF\n",
        "      (status IS NULL,\n",
        "        'active',\n",
        "        status) AS status,\n",
        "      TIMESTAMP_DIFF(CURRENT_TIMESTAMP(), updated_timestamp, second) AS time_since_last_update,\n",
        "      versions_count,\n",
        "      LANGUAGE,\n",
        "      TIMESTAMP_DIFF(CURRENT_TIMESTAMP(), latest_release_publish_timestamp, second) AS time_since_last_release,\n",
        "      TIMESTAMP_DIFF(CURRENT_TIMESTAMP(), last_synced_timestamp, second) AS time_since_last_synced,\n",
        "      repository_id\n",
        "    FROM\n",
        "      `bigquery-public-data.libraries_io.projects`\n",
        "    WHERE\n",
        "      created_timestamp BETWEEN '2015-01-11 23:56:18+00:00'\n",
        "      AND '2015-01-25 23:56:18+00:00') prjct_data\n",
        "  JOIN (\n",
        "    SELECT\n",
        "      repos.id,\n",
        "      TIMESTAMP_DIFF(CURRENT_TIMESTAMP(), repos.last_pushed_timestamp, second) AS time_since_last_pushed_Repo,\n",
        "      TIMESTAMP_DIFF(CURRENT_TIMESTAMP(), repos.last_synced_timestamp, second) AS time_since_last_synced_Repo,\n",
        "    FROM\n",
        "      `bigquery-public-data.libraries_io.projects` prjcts\n",
        "    JOIN\n",
        "      `bigquery-public-data.libraries_io.repositories` repos\n",
        "    ON\n",
        "      prjcts.repository_id=repos.id) repo_data\n",
        "  ON\n",
        "    prjct_data.repository_id=repo_data.id )-(\n",
        "  SELECT\n",
        "    COUNT(*)\n",
        "  FROM (\n",
        "    SELECT\n",
        "      sourcerank,\n",
        "      dependent_projects_count,\n",
        "      dependent_repositories_count,\n",
        "    IF\n",
        "      (status IS NULL,\n",
        "        'active',\n",
        "        status) AS status,\n",
        "      TIMESTAMP_DIFF(CURRENT_TIMESTAMP(), updated_timestamp, second) AS time_since_last_update,\n",
        "      versions_count,\n",
        "      LANGUAGE,\n",
        "      TIMESTAMP_DIFF(CURRENT_TIMESTAMP(), latest_release_publish_timestamp, second) AS time_since_last_release,\n",
        "      TIMESTAMP_DIFF(CURRENT_TIMESTAMP(), last_synced_timestamp, second) AS time_since_last_synced,\n",
        "      repository_id\n",
        "    FROM\n",
        "      `bigquery-public-data.libraries_io.projects`\n",
        "    WHERE\n",
        "      created_timestamp BETWEEN '2015-01-11 23:56:18+00:00'\n",
        "      AND '2015-01-25 23:56:18+00:00') prjct_data\n",
        "  JOIN (\n",
        "    SELECT\n",
        "      repos.id,\n",
        "      TIMESTAMP_DIFF(CURRENT_TIMESTAMP(), repos.last_pushed_timestamp, second) AS time_since_last_pushed_Repo,\n",
        "      TIMESTAMP_DIFF(CURRENT_TIMESTAMP(), repos.last_synced_timestamp, second) AS time_since_last_synced_Repo,\n",
        "    FROM\n",
        "      `bigquery-public-data.libraries_io.projects` prjcts\n",
        "    JOIN\n",
        "      `bigquery-public-data.libraries_io.repositories` repos\n",
        "    ON\n",
        "      prjcts.repository_id=repos.id) repo_data\n",
        "  ON\n",
        "    prjct_data.repository_id=repo_data.id\n",
        "  WHERE\n",
        "    time_since_last_pushed_Repo IS NOT NULL\n",
        "    AND time_since_last_synced_Repo IS NOT NULL\n",
        "    AND\n",
        "    LANGUAGE IS NOT NULL\n",
        "    AND time_since_last_synced IS NOT NULL) as rows_without_nulls"
      ],
      "execution_count": null,
      "outputs": [
        {
          "output_type": "execute_result",
          "data": {
            "text/html": [
              "<div>\n",
              "<style scoped>\n",
              "    .dataframe tbody tr th:only-of-type {\n",
              "        vertical-align: middle;\n",
              "    }\n",
              "\n",
              "    .dataframe tbody tr th {\n",
              "        vertical-align: top;\n",
              "    }\n",
              "\n",
              "    .dataframe thead th {\n",
              "        text-align: right;\n",
              "    }\n",
              "</style>\n",
              "<table border=\"1\" class=\"dataframe\">\n",
              "  <thead>\n",
              "    <tr style=\"text-align: right;\">\n",
              "      <th></th>\n",
              "      <th>rows_without_nulls</th>\n",
              "    </tr>\n",
              "  </thead>\n",
              "  <tbody>\n",
              "    <tr>\n",
              "      <th>0</th>\n",
              "      <td>8642</td>\n",
              "    </tr>\n",
              "  </tbody>\n",
              "</table>\n",
              "</div>"
            ],
            "text/plain": [
              "   rows_without_nulls\n",
              "0                8642"
            ]
          },
          "metadata": {
            "tags": []
          },
          "execution_count": 10
        }
      ]
    },
    {
      "cell_type": "markdown",
      "metadata": {
        "id": "QFnHiqCJ9wNz"
      },
      "source": [
        "**--> Comparing data with and without NULLs(**with Larger set of Data**)**"
      ]
    },
    {
      "cell_type": "code",
      "metadata": {
        "colab": {
          "base_uri": "https://localhost:8080/",
          "height": 80
        },
        "id": "W2IrnZUJ9wN1",
        "outputId": "3744eae0-ea11-447f-d0ed-bf82bd1262b1"
      },
      "source": [
        "%%bigquery --project $project_id\n",
        "\n",
        "  SELECT\n",
        "    COUNT(*) as rows_without_nulls\n",
        "  FROM (\n",
        "    SELECT\n",
        "      sourcerank,\n",
        "      dependent_projects_count,\n",
        "      dependent_repositories_count,\n",
        "    IF\n",
        "      (status IS NULL,\n",
        "        'active',\n",
        "        status) AS status,\n",
        "      TIMESTAMP_DIFF(CURRENT_TIMESTAMP(), updated_timestamp, second) AS time_since_last_update,\n",
        "      versions_count,\n",
        "      LANGUAGE,\n",
        "      TIMESTAMP_DIFF(CURRENT_TIMESTAMP(), latest_release_publish_timestamp, second) AS time_since_last_release,\n",
        "      TIMESTAMP_DIFF(CURRENT_TIMESTAMP(), last_synced_timestamp, second) AS time_since_last_synced,\n",
        "      repository_id\n",
        "    FROM\n",
        "      `bigquery-public-data.libraries_io.projects`\n",
        "    where created_timestamp between '2015-01-11 23:56:18+00:00' and '2015-01-29 03:56:18+00:00') prjct_data\n",
        "  JOIN (\n",
        "    SELECT\n",
        "      repos.id,\n",
        "      TIMESTAMP_DIFF(CURRENT_TIMESTAMP(), repos.last_pushed_timestamp, second) AS time_since_last_pushed_Repo,\n",
        "      TIMESTAMP_DIFF(CURRENT_TIMESTAMP(), repos.last_synced_timestamp, second) AS time_since_last_synced_Repo,\n",
        "    FROM\n",
        "      `bigquery-public-data.libraries_io.projects` prjcts\n",
        "    JOIN\n",
        "      `bigquery-public-data.libraries_io.repositories` repos\n",
        "    ON\n",
        "      prjcts.repository_id=repos.id) repo_data\n",
        "  ON\n",
        "    prjct_data.repository_id=repo_data.id\n",
        "  WHERE\n",
        "    time_since_last_pushed_Repo IS NOT NULL\n",
        "    AND time_since_last_synced_Repo IS NOT NULL\n",
        "    AND\n",
        "    LANGUAGE IS NOT NULL\n",
        "    AND time_since_last_synced IS NOT NULL"
      ],
      "execution_count": null,
      "outputs": [
        {
          "output_type": "execute_result",
          "data": {
            "text/html": [
              "<div>\n",
              "<style scoped>\n",
              "    .dataframe tbody tr th:only-of-type {\n",
              "        vertical-align: middle;\n",
              "    }\n",
              "\n",
              "    .dataframe tbody tr th {\n",
              "        vertical-align: top;\n",
              "    }\n",
              "\n",
              "    .dataframe thead th {\n",
              "        text-align: right;\n",
              "    }\n",
              "</style>\n",
              "<table border=\"1\" class=\"dataframe\">\n",
              "  <thead>\n",
              "    <tr style=\"text-align: right;\">\n",
              "      <th></th>\n",
              "      <th>rows_without_nulls</th>\n",
              "    </tr>\n",
              "  </thead>\n",
              "  <tbody>\n",
              "    <tr>\n",
              "      <th>0</th>\n",
              "      <td>632257</td>\n",
              "    </tr>\n",
              "  </tbody>\n",
              "</table>\n",
              "</div>"
            ],
            "text/plain": [
              "   rows_without_nulls\n",
              "0              632257"
            ]
          },
          "metadata": {
            "tags": []
          },
          "execution_count": 32
        }
      ]
    },
    {
      "cell_type": "markdown",
      "metadata": {
        "id": "x2Doo9zaIH3d"
      },
      "source": [
        "**-->Model creation by using 'Logistic Regression' on Training data No.6 with small set of data(jan11-jan25)**\n"
      ]
    },
    {
      "cell_type": "code",
      "metadata": {
        "colab": {
          "base_uri": "https://localhost:8080/",
          "height": 32
        },
        "id": "1fLnD1ObIH3e",
        "outputId": "f430f247-3064-444e-a9e6-55a384cb5177"
      },
      "source": [
        "%%bigquery --project $project_id\n",
        "\n",
        "CREATE OR REPLACE MODEL `bqml_librariesIO_LR.rank_predictor_model`\n",
        "OPTIONS(model_type='logistic_reg', auto_class_weights=TRUE,input_label_cols=['sourcerank']) as\n",
        "SELECT\n",
        "  prjct_data.sourcerank,\n",
        "  dependent_projects_count,\n",
        "  dependent_repositories_count,\n",
        "  status,\n",
        "  time_since_last_update,\n",
        "  versions_count,\n",
        "  LANGUAGE,\n",
        "  time_since_last_release,\n",
        "  time_since_last_synced,\n",
        "  time_since_last_pushed_Repo,\n",
        "  time_since_last_synced_Repo,\n",
        "  repo_rank,\n",
        "  repo_star_count\n",
        "FROM (\n",
        "  SELECT\n",
        "    sourcerank,\n",
        "    dependent_projects_count,\n",
        "    dependent_repositories_count,\n",
        "  IF\n",
        "    (status IS NULL,\n",
        "      'active',\n",
        "      status) AS status,\n",
        "    TIMESTAMP_DIFF(CURRENT_TIMESTAMP(), updated_timestamp, second) AS time_since_last_update,\n",
        "    versions_count,\n",
        "    LANGUAGE,\n",
        "    TIMESTAMP_DIFF(CURRENT_TIMESTAMP(), latest_release_publish_timestamp, second) AS time_since_last_release,\n",
        "    TIMESTAMP_DIFF(CURRENT_TIMESTAMP(), last_synced_timestamp, second) AS time_since_last_synced,\n",
        "    repository_id\n",
        "  FROM\n",
        "    `bigquery-public-data.libraries_io.projects`\n",
        "  WHERE\n",
        "    created_timestamp BETWEEN '2015-01-11 23:56:18+00:00'\n",
        "    AND '2015-01-25 23:56:18+00:00') prjct_data\n",
        "JOIN (\n",
        "  SELECT\n",
        "    repos.id,\n",
        "    repos.sourcerank as repo_rank,\n",
        "    repos.stars_count as repo_star_count,\n",
        "    TIMESTAMP_DIFF(CURRENT_TIMESTAMP(), repos.last_pushed_timestamp, second) AS time_since_last_pushed_Repo,\n",
        "    TIMESTAMP_DIFF(CURRENT_TIMESTAMP(), repos.last_synced_timestamp, second) AS time_since_last_synced_Repo,\n",
        "  FROM\n",
        "    `bigquery-public-data.libraries_io.projects` prjcts\n",
        "  JOIN\n",
        "    `bigquery-public-data.libraries_io.repositories` repos\n",
        "  ON\n",
        "    prjcts.repository_id=repos.id) repo_data\n",
        "ON\n",
        "  prjct_data.repository_id=repo_data.id\n",
        "  WHERE\n",
        "  time_since_last_pushed_Repo IS not NULL\n",
        "  and time_since_last_synced_Repo IS not NULL\n",
        "  and repo_star_count is not null\n",
        "  and LANGUAGE IS not NULL\n",
        "  and time_since_last_synced IS not NULL"
      ],
      "execution_count": null,
      "outputs": [
        {
          "output_type": "execute_result",
          "data": {
            "text/html": [
              "<div>\n",
              "<style scoped>\n",
              "    .dataframe tbody tr th:only-of-type {\n",
              "        vertical-align: middle;\n",
              "    }\n",
              "\n",
              "    .dataframe tbody tr th {\n",
              "        vertical-align: top;\n",
              "    }\n",
              "\n",
              "    .dataframe thead th {\n",
              "        text-align: right;\n",
              "    }\n",
              "</style>\n",
              "<table border=\"1\" class=\"dataframe\">\n",
              "  <thead>\n",
              "    <tr style=\"text-align: right;\">\n",
              "      <th></th>\n",
              "    </tr>\n",
              "  </thead>\n",
              "  <tbody>\n",
              "  </tbody>\n",
              "</table>\n",
              "</div>"
            ],
            "text/plain": [
              "Empty DataFrame\n",
              "Columns: []\n",
              "Index: []"
            ]
          },
          "metadata": {
            "tags": []
          },
          "execution_count": 23
        }
      ]
    },
    {
      "cell_type": "code",
      "metadata": {
        "colab": {
          "base_uri": "https://localhost:8080/",
          "height": 80
        },
        "id": "PaZCT5BVIH3g",
        "outputId": "263e5e94-c5c6-4e36-cb65-5ddac905f5c6"
      },
      "source": [
        "%%bigquery --project $project_id\n",
        "\n",
        "SELECT\n",
        "  *\n",
        "FROM\n",
        "  ML.EVALUATE(MODEL `bqml_librariesIO_LR.rank_predictor_model`, (\n",
        "SELECT\n",
        "  prjct_data.sourcerank,\n",
        "  dependent_projects_count,\n",
        "  dependent_repositories_count,\n",
        "  status,\n",
        "  time_since_last_update,\n",
        "  versions_count,\n",
        "  LANGUAGE,\n",
        "  time_since_last_release,\n",
        "  time_since_last_synced,\n",
        "  time_since_last_pushed_Repo,\n",
        "  time_since_last_synced_Repo,\n",
        "  repo_rank,\n",
        "  repo_star_count\n",
        "FROM (\n",
        "  SELECT\n",
        "    sourcerank,\n",
        "    dependent_projects_count,\n",
        "    dependent_repositories_count,\n",
        "  IF\n",
        "    (status IS NULL,\n",
        "      'active',\n",
        "      status) AS status,\n",
        "    TIMESTAMP_DIFF(CURRENT_TIMESTAMP(), updated_timestamp, second) AS time_since_last_update,\n",
        "    versions_count,\n",
        "    LANGUAGE,\n",
        "    TIMESTAMP_DIFF(CURRENT_TIMESTAMP(), latest_release_publish_timestamp, second) AS time_since_last_release,\n",
        "    TIMESTAMP_DIFF(CURRENT_TIMESTAMP(), last_synced_timestamp, second) AS time_since_last_synced,\n",
        "    repository_id\n",
        "  FROM\n",
        "    `bigquery-public-data.libraries_io.projects`\n",
        "  WHERE\n",
        "    created_timestamp BETWEEN '2015-01-26 23:56:18+00:00'\n",
        "    AND '2015-01-27 14:56:18+00:00') prjct_data\n",
        "JOIN (\n",
        "  SELECT\n",
        "    repos.id,\n",
        "    repos.sourcerank as repo_rank,\n",
        "    repos.stars_count as repo_star_count,\n",
        "    TIMESTAMP_DIFF(CURRENT_TIMESTAMP(), repos.last_pushed_timestamp, second) AS time_since_last_pushed_Repo,\n",
        "    TIMESTAMP_DIFF(CURRENT_TIMESTAMP(), repos.last_synced_timestamp, second) AS time_since_last_synced_Repo,\n",
        "  FROM\n",
        "    `bigquery-public-data.libraries_io.projects` prjcts\n",
        "  JOIN\n",
        "    `bigquery-public-data.libraries_io.repositories` repos\n",
        "  ON\n",
        "    prjcts.repository_id=repos.id) repo_data\n",
        "ON\n",
        "  prjct_data.repository_id=repo_data.id\n",
        "  WHERE\n",
        "  time_since_last_pushed_Repo IS not NULL\n",
        "  and time_since_last_synced_Repo IS not NULL\n",
        "  and repo_star_count is not null\n",
        "  and LANGUAGE IS not NULL\n",
        "  and time_since_last_synced IS not NULL))"
      ],
      "execution_count": null,
      "outputs": [
        {
          "output_type": "execute_result",
          "data": {
            "text/html": [
              "<div>\n",
              "<style scoped>\n",
              "    .dataframe tbody tr th:only-of-type {\n",
              "        vertical-align: middle;\n",
              "    }\n",
              "\n",
              "    .dataframe tbody tr th {\n",
              "        vertical-align: top;\n",
              "    }\n",
              "\n",
              "    .dataframe thead th {\n",
              "        text-align: right;\n",
              "    }\n",
              "</style>\n",
              "<table border=\"1\" class=\"dataframe\">\n",
              "  <thead>\n",
              "    <tr style=\"text-align: right;\">\n",
              "      <th></th>\n",
              "      <th>precision</th>\n",
              "      <th>recall</th>\n",
              "      <th>accuracy</th>\n",
              "      <th>f1_score</th>\n",
              "      <th>log_loss</th>\n",
              "      <th>roc_auc</th>\n",
              "    </tr>\n",
              "  </thead>\n",
              "  <tbody>\n",
              "    <tr>\n",
              "      <th>0</th>\n",
              "      <td>0.052517</td>\n",
              "      <td>0.071542</td>\n",
              "      <td>0.031922</td>\n",
              "      <td>0.020168</td>\n",
              "      <td>8.678604</td>\n",
              "      <td>0.598173</td>\n",
              "    </tr>\n",
              "  </tbody>\n",
              "</table>\n",
              "</div>"
            ],
            "text/plain": [
              "   precision    recall  accuracy  f1_score  log_loss   roc_auc\n",
              "0   0.052517  0.071542  0.031922  0.020168  8.678604  0.598173"
            ]
          },
          "metadata": {
            "tags": []
          },
          "execution_count": 25
        }
      ]
    },
    {
      "cell_type": "code",
      "metadata": {
        "id": "MemE7fqnILkn"
      },
      "source": [
        ""
      ],
      "execution_count": null,
      "outputs": []
    },
    {
      "cell_type": "markdown",
      "metadata": {
        "id": "zhI6V9_nIP7L"
      },
      "source": [
        "**-->Model creation by using 'Logistic Regression' on Training data No.7 with small set of data**\n"
      ]
    },
    {
      "cell_type": "code",
      "metadata": {
        "colab": {
          "base_uri": "https://localhost:8080/",
          "height": 32
        },
        "id": "Qtyg9FPNIP7N",
        "outputId": "524e7b6b-469f-4250-9070-7e0c71d97674"
      },
      "source": [
        "%%bigquery --project $project_id\n",
        "\n",
        "CREATE OR REPLACE MODEL `bqml_librariesIO_LR.rank_predictor_model`\n",
        "OPTIONS(model_type='logistic_reg', auto_class_weights=TRUE,input_label_cols=['sourcerank']) as\n",
        "SELECT\n",
        "  sourcerank,\n",
        "  dependent_projects_count,\n",
        "  dependent_repositories_count,\n",
        "  IF\n",
        "  (status IS NULL,\n",
        "    'active',\n",
        "    status) AS status,\n",
        "  TIMESTAMP_DIFF(CURRENT_TIMESTAMP(), updated_timestamp, second) AS time_since_last_update,\n",
        "  versions_count,\n",
        "  LANGUAGE,\n",
        "  TIMESTAMP_DIFF(CURRENT_TIMESTAMP(), latest_release_publish_timestamp, second) AS time_since_last_release,\n",
        "  TIMESTAMP_DIFF(CURRENT_TIMESTAMP(), last_synced_timestamp, second) AS time_since_last_synced,\n",
        "  (LENGTH(keywords) - LENGTH(REPLACE(keywords,\",\",\"\")) + 1) AS keywords_length,\n",
        "  length(description) as descrp_len\n",
        "FROM\n",
        "  `bigquery-public-data.libraries_io.projects`\n",
        "  where created_timestamp between '2015-01-11 23:56:18+00:00' and '2015-02-17 23:56:18+00:00'\n",
        "  and LANGUAGE IS not NULL\n",
        "  and last_synced_timestamp IS not NULL\n",
        "  and keywords is not null\n",
        "  and description is not null"
      ],
      "execution_count": null,
      "outputs": [
        {
          "output_type": "execute_result",
          "data": {
            "text/html": [
              "<div>\n",
              "<style scoped>\n",
              "    .dataframe tbody tr th:only-of-type {\n",
              "        vertical-align: middle;\n",
              "    }\n",
              "\n",
              "    .dataframe tbody tr th {\n",
              "        vertical-align: top;\n",
              "    }\n",
              "\n",
              "    .dataframe thead th {\n",
              "        text-align: right;\n",
              "    }\n",
              "</style>\n",
              "<table border=\"1\" class=\"dataframe\">\n",
              "  <thead>\n",
              "    <tr style=\"text-align: right;\">\n",
              "      <th></th>\n",
              "    </tr>\n",
              "  </thead>\n",
              "  <tbody>\n",
              "  </tbody>\n",
              "</table>\n",
              "</div>"
            ],
            "text/plain": [
              "Empty DataFrame\n",
              "Columns: []\n",
              "Index: []"
            ]
          },
          "metadata": {
            "tags": []
          },
          "execution_count": 39
        }
      ]
    },
    {
      "cell_type": "code",
      "metadata": {
        "colab": {
          "base_uri": "https://localhost:8080/",
          "height": 80
        },
        "id": "R7nx-sNKIP7W",
        "outputId": "728d6466-a253-4763-bec3-70ebe696888c"
      },
      "source": [
        "%%bigquery --project $project_id\n",
        "\n",
        "SELECT\n",
        "  *\n",
        "FROM\n",
        "  ML.EVALUATE(MODEL `bqml_librariesIO_LR.rank_predictor_model`, (\n",
        "SELECT\n",
        "  sourcerank,\n",
        "  dependent_projects_count,\n",
        "  dependent_repositories_count,\n",
        "  IF\n",
        "  (status IS NULL,\n",
        "    'active',\n",
        "    status) AS status,\n",
        "  TIMESTAMP_DIFF(CURRENT_TIMESTAMP(), updated_timestamp, second) AS time_since_last_update,\n",
        "  versions_count,\n",
        "  LANGUAGE,\n",
        "  TIMESTAMP_DIFF(CURRENT_TIMESTAMP(), latest_release_publish_timestamp, second) AS time_since_last_release,\n",
        "  TIMESTAMP_DIFF(CURRENT_TIMESTAMP(), last_synced_timestamp, second) AS time_since_last_synced,\n",
        "  (LENGTH(keywords) - LENGTH(REPLACE(keywords,\",\",\"\")) + 1) AS keywords_length,\n",
        "  length(description) as descrp_len\n",
        "FROM\n",
        "  `bigquery-public-data.libraries_io.projects`\n",
        "  where created_timestamp between '2015-02-17 23:56:18+00:00' and '2015-04-27 23:56:18+00:00'\n",
        "  and LANGUAGE IS not NULL\n",
        "  and last_synced_timestamp IS not NULL\n",
        "  and keywords is not null\n",
        "  and description is not null))"
      ],
      "execution_count": null,
      "outputs": [
        {
          "output_type": "execute_result",
          "data": {
            "text/html": [
              "<div>\n",
              "<style scoped>\n",
              "    .dataframe tbody tr th:only-of-type {\n",
              "        vertical-align: middle;\n",
              "    }\n",
              "\n",
              "    .dataframe tbody tr th {\n",
              "        vertical-align: top;\n",
              "    }\n",
              "\n",
              "    .dataframe thead th {\n",
              "        text-align: right;\n",
              "    }\n",
              "</style>\n",
              "<table border=\"1\" class=\"dataframe\">\n",
              "  <thead>\n",
              "    <tr style=\"text-align: right;\">\n",
              "      <th></th>\n",
              "      <th>precision</th>\n",
              "      <th>recall</th>\n",
              "      <th>accuracy</th>\n",
              "      <th>f1_score</th>\n",
              "      <th>log_loss</th>\n",
              "      <th>roc_auc</th>\n",
              "    </tr>\n",
              "  </thead>\n",
              "  <tbody>\n",
              "    <tr>\n",
              "      <th>0</th>\n",
              "      <td>0.038137</td>\n",
              "      <td>0.041178</td>\n",
              "      <td>0.020455</td>\n",
              "      <td>0.011987</td>\n",
              "      <td>3.72533</td>\n",
              "      <td>0.350347</td>\n",
              "    </tr>\n",
              "  </tbody>\n",
              "</table>\n",
              "</div>"
            ],
            "text/plain": [
              "   precision    recall  accuracy  f1_score  log_loss   roc_auc\n",
              "0   0.038137  0.041178  0.020455  0.011987   3.72533  0.350347"
            ]
          },
          "metadata": {
            "tags": []
          },
          "execution_count": 45
        }
      ]
    },
    {
      "cell_type": "markdown",
      "metadata": {
        "id": "Dg7Lhqi_yDcy"
      },
      "source": [
        "## Conclusion"
      ]
    },
    {
      "cell_type": "markdown",
      "metadata": {
        "id": "YmVpTigjyHMY"
      },
      "source": [
        "---\n",
        "\n",
        "*TODO: Final conclusions based on the rest of your project*\n",
        "\n",
        "---"
      ]
    }
  ]
}